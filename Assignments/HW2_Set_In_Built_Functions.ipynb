{
  "nbformat": 4,
  "nbformat_minor": 0,
  "metadata": {
    "colab": {
      "provenance": []
    },
    "kernelspec": {
      "name": "python3",
      "display_name": "Python 3"
    },
    "language_info": {
      "name": "python"
    }
  },
  "cells": [
    {
      "cell_type": "code",
      "source": [
        "#set.add()\tAdds an element to the set.\n",
        "\n",
        "set1 = {'a', 'b', 'c', 'd', 'e'}\n",
        "set1.add('f')\n",
        "\n",
        "print(set1)"
      ],
      "metadata": {
        "colab": {
          "base_uri": "https://localhost:8080/"
        },
        "id": "igr95eSBlRmo",
        "outputId": "6697a8a6-0031-42cf-8c65-ac1f26c98880"
      },
      "execution_count": 6,
      "outputs": [
        {
          "output_type": "stream",
          "name": "stdout",
          "text": [
            "{'b', 'f', 'c', 'd', 'a', 'e'}\n"
          ]
        }
      ]
    },
    {
      "cell_type": "code",
      "source": [
        "#set.remove()\tRemoves the specified element from the set.\n",
        "\n",
        "fruits = {'apple', 'banana', 'cherry', 'emuberries', 'fig'}\n",
        "\n",
        "fruits.remove('cherry')\n",
        "\n",
        "print(fruits)"
      ],
      "metadata": {
        "colab": {
          "base_uri": "https://localhost:8080/"
        },
        "id": "ERjcsPUJowin",
        "outputId": "a2ecac46-4b2b-45e6-98fc-797ddae0143a"
      },
      "execution_count": 23,
      "outputs": [
        {
          "output_type": "stream",
          "name": "stdout",
          "text": [
            "{'apple', 'fig', 'banana', 'emuberries'}\n"
          ]
        }
      ]
    },
    {
      "cell_type": "code",
      "source": [
        "#set.clear()\tRemoves all the elements from the set.\n",
        "\n",
        "set1 = {'a', 'b', 'c', 'd', 'e'}\n",
        "set1.clear()\n",
        "\n",
        "print('After clear:', set1)"
      ],
      "metadata": {
        "colab": {
          "base_uri": "https://localhost:8080/"
        },
        "id": "EFcYdQPVl0Rf",
        "outputId": "d087ff24-d49f-4568-b356-1dffae89eefb"
      },
      "execution_count": 9,
      "outputs": [
        {
          "output_type": "stream",
          "name": "stdout",
          "text": [
            "After clear: set()\n"
          ]
        }
      ]
    },
    {
      "cell_type": "code",
      "source": [
        "#set.copy()\tReturns a shallow copy of the set.\n",
        "\n",
        "set1 = {'a', 'b', 'c', 'd', 'e'}\n",
        "set2 = set1.copy()\n",
        "\n",
        "print('Before copy', set1)\n",
        "print('After copy', set2)"
      ],
      "metadata": {
        "colab": {
          "base_uri": "https://localhost:8080/"
        },
        "id": "NURTR-zhmzYg",
        "outputId": "13d7d313-214b-4bb4-a856-90b77b23326c"
      },
      "execution_count": 12,
      "outputs": [
        {
          "output_type": "stream",
          "name": "stdout",
          "text": [
            "Before copy {'b', 'c', 'd', 'a', 'e'}\n",
            "After copy {'b', 'c', 'd', 'a', 'e'}\n"
          ]
        }
      ]
    },
    {
      "cell_type": "code",
      "source": [
        "#set.pop()\tRemoves and returns a random element from the set.\n",
        "\n",
        "fruits = {'apple', 'banana', 'cherry', 'emuberries', 'fig'}\n",
        "\n",
        "fruits.pop()\n",
        "print('After pop: ', fruits)"
      ],
      "metadata": {
        "colab": {
          "base_uri": "https://localhost:8080/"
        },
        "id": "zN0GNc2yoaSX",
        "outputId": "94c83251-f604-4ee5-cc57-9140b72f3be3"
      },
      "execution_count": 16,
      "outputs": [
        {
          "output_type": "stream",
          "name": "stdout",
          "text": [
            "After pop:  {'fig', 'banana', 'cherry', 'emuberries'}\n"
          ]
        }
      ]
    },
    {
      "cell_type": "code",
      "source": [
        "# set.update() updates the set by adding distinct elements\n",
        "\n",
        "num1 = {1, 2, 3}\n",
        "num2 = {-2, -3, 5, 7}\n",
        "\n",
        "num1.update(num2)\n",
        "print(\"After update: \", num1)"
      ],
      "metadata": {
        "colab": {
          "base_uri": "https://localhost:8080/"
        },
        "id": "gFSvt4K6rmSU",
        "outputId": "d31ce6a0-f440-40a3-8a00-27e8c607e141"
      },
      "execution_count": 24,
      "outputs": [
        {
          "output_type": "stream",
          "name": "stdout",
          "text": [
            "After update:  {1, 2, 3, 5, 7, -3, -2}\n"
          ]
        }
      ]
    },
    {
      "cell_type": "code",
      "source": [
        "#set.union Returns a new set containing all the elements from the original set and another set.\n",
        "\n",
        "num1 = {1, 2, 3}\n",
        "num2 = {-2, -3, 5, 7}\n",
        "\n",
        "num3 = num1.union(num2)\n",
        "print(\"After union: \", num3)"
      ],
      "metadata": {
        "colab": {
          "base_uri": "https://localhost:8080/"
        },
        "id": "EKnG0SvutaCR",
        "outputId": "caf1d2ac-4a80-4622-8757-437cab99f3bf"
      },
      "execution_count": 27,
      "outputs": [
        {
          "output_type": "stream",
          "name": "stdout",
          "text": [
            "After union:  {1, 2, 3, 5, 7, -3, -2}\n"
          ]
        }
      ]
    },
    {
      "cell_type": "code",
      "source": [
        "#set.difference()\tReturns the new set with the unique elements that are not in the another set\n",
        "nums1 = {1, 1, 3, 4, 5}\n",
        "nums2 = {4, 5, 6, 6, 7, 8, 9}\n",
        "\n",
        "nums3 = nums1.difference(nums2)\n",
        "nums4 = nums2.difference(nums1)\n",
        "\n",
        "print(\"nums1 - nums2: \", nums3)\n",
        "print(\"nums2 - nums1: \", nums4)"
      ],
      "metadata": {
        "colab": {
          "base_uri": "https://localhost:8080/"
        },
        "id": "b1EbN4hgoBTo",
        "outputId": "f938d3eb-9c03-411e-ac6e-07133d8b52c5"
      },
      "execution_count": 15,
      "outputs": [
        {
          "output_type": "stream",
          "name": "stdout",
          "text": [
            "nums1 - nums2:  {1, 3}\n",
            "nums2 - nums1:  {8, 9, 6, 7}\n"
          ]
        }
      ]
    },
    {
      "cell_type": "code",
      "source": [
        "#set.intersection Returns a new set containing only the elements that are present in both the original set and another set.\n",
        "\n",
        "set1 = {1, 2, 3}\n",
        "set2 = {3, 4, 5}\n",
        "intersection_set = set1.intersection(set2)\n",
        "print(intersection_set)"
      ],
      "metadata": {
        "colab": {
          "base_uri": "https://localhost:8080/"
        },
        "id": "C-bQVjaCttdj",
        "outputId": "7b27a018-491d-4c7b-aad1-1d7da263520f"
      },
      "execution_count": 30,
      "outputs": [
        {
          "output_type": "stream",
          "name": "stdout",
          "text": [
            "{3}\n"
          ]
        }
      ]
    }
  ]
}