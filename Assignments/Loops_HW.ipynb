{
  "nbformat": 4,
  "nbformat_minor": 0,
  "metadata": {
    "colab": {
      "provenance": []
    },
    "kernelspec": {
      "name": "python3",
      "display_name": "Python 3"
    },
    "language_info": {
      "name": "python"
    }
  },
  "cells": [
    {
      "cell_type": "markdown",
      "source": [
        "# Loop Practice Questions"
      ],
      "metadata": {
        "id": "3KGYRtXG733v"
      }
    },
    {
      "cell_type": "markdown",
      "source": [
        "1) Swap two numbers using 3rd variable\n",
        "\n",
        "2) Swap two numbers without using 3rd variable\n",
        "\n",
        "3) Remove duplicate elements from a list without converting to tuple\n",
        "\n",
        "3) Write a program to find greatest common divisor (GCD) or highest common factor (HCF) of given two numbers\n",
        "\n",
        "4) Write a loop to print following series\n",
        "10, 20, 30,  …………………, 300\n",
        "\n",
        "5) Write a loop to print following series\n",
        "105,98,91,………………………,7\n",
        "\n",
        "6) Write a program to print number names of digits in a number like\n",
        "SAMPLE INPUT 231 \t\tSAMPLE OUTPUT TWO THREE ONE\n",
        "\n",
        "7) Write a program to print Fibonacci series till n terms take n =50\n",
        "\n",
        "8) Write a program to print factorial of a number\n",
        "\n",
        "9) Write a program to check if a number is Armstrong or not\n",
        "\n",
        "10) Write a program to convert binary to decimal\n",
        "\n",
        "11) Write a program to convert decimal to binary\n",
        "\n",
        "12) Write a program to check if number is palindrome on not (Without converting to string)\n",
        "\n",
        "13) Write a program to print all numbers which are divisible by 13 but not by 3 between 100 and 500\n",
        "\n",
        "14) Write a Python program to convert temperatures to and from Celsius and Fahrenheit.\n",
        "\n",
        "15) Write a Python program that takes two digits m (row) and n (column) as input and generates a two-dimensional array. The element value in the i-th row and j-th column of the array should be i*j. else it will be 0\n",
        "\n",
        "16) Write a Python program that accepts a string and calculates the number of digits and letters.\n",
        "Sample Data: Python 3.2\n",
        "Expected Output:\n",
        "Letters 6\n",
        "Digits 2\n",
        "\n",
        "17) Print all possible combination for a string or a word\n",
        "Sample input “ABC”\n",
        "Sample output\n",
        "BAC\n",
        "CAB\n",
        "CBA\n",
        "ACB\n",
        "BCA\n",
        "\n",
        "18) Write a Python program to check if a triangle is equilateral, isosceles or scalene. Take 3 inputs for each side\n",
        "\n",
        "\n",
        "Note :\n",
        "An equilateral triangle is a triangle in which all three sides are equal.\n",
        "A scalene triangle is a triangle that has three unequal sides.\n",
        "An isosceles triangle is a triangle with (at least) two equal sides.\n",
        "\n",
        "19) Write a Python program to get the next day of a given date.\n",
        "Expected Output:\n",
        "Input a year: 2016                                                      \n",
        "Input a month [1-12]: 08                                                \n",
        "Input a day [1-31]: 23                                                  \n",
        "The next date is [yyyy-mm-dd] 2016-8-24  \n",
        "\n",
        "\n",
        "\n",
        "\n",
        "\n"
      ],
      "metadata": {
        "id": "x5UfRbhF6HtZ"
      }
    },
    {
      "cell_type": "code",
      "source": [
        "#1) Swap two numbers using 3rd variable\n",
        "\n",
        "a = 1\n",
        "b = 2\n",
        "c = 0\n",
        "\n",
        "print(\"Before swap:\")\n",
        "print('Value of a:', a)\n",
        "print('Value of b:', b)\n",
        "print()\n",
        "\n",
        "c = a\n",
        "a = b\n",
        "b = c\n",
        "\n",
        "print(\"After swap:\")\n",
        "print('Value of a:', a)\n",
        "print('Value of b:', b)\n",
        "\n"
      ],
      "metadata": {
        "colab": {
          "base_uri": "https://localhost:8080/"
        },
        "id": "6n9kRck-6I3u",
        "outputId": "63553118-112b-469c-8261-c75778c3a707"
      },
      "execution_count": 26,
      "outputs": [
        {
          "output_type": "stream",
          "name": "stdout",
          "text": [
            "Before swap:\n",
            "Value of a: 1\n",
            "Value of b: 2\n",
            "\n",
            "After swap:\n",
            "Value of a: 2\n",
            "Value of b: 1\n"
          ]
        }
      ]
    },
    {
      "cell_type": "code",
      "source": [
        "#2) Swap two numbers without using 3rd variable\n",
        "\n",
        "num1 = int(input(\"Enter the first number: \"))\n",
        "num2 = int(input(\"Enter the second number: \"))\n",
        "\n",
        "print(\"Original values: \")\n",
        "print(\"num1 = \", num1)\n",
        "print(\"num2 = \", num2)\n",
        "print()\n",
        "# Swapping the numbers\n",
        "num1 = num1 + num2\n",
        "num2 = num1 - num2\n",
        "num1 = num1 - num2\n",
        "\n",
        "\n",
        "print(\"Values after Swapping: \")\n",
        "print(\"num1 = \", num1)\n",
        "print(\"num2 = \", num2)\n"
      ],
      "metadata": {
        "id": "UNapuTee6jKw",
        "colab": {
          "base_uri": "https://localhost:8080/"
        },
        "outputId": "19443f7a-6547-46fd-eea5-8bd8aab3ffea"
      },
      "execution_count": 54,
      "outputs": [
        {
          "output_type": "stream",
          "name": "stdout",
          "text": [
            "Enter the first number: 21\n",
            "Enter the second number: 45\n",
            "Original values: \n",
            "num1 =  21\n",
            "num2 =  45\n",
            "\n",
            "Values after Swapping: \n",
            "num1 =  45\n",
            "num2 =  21\n"
          ]
        }
      ]
    },
    {
      "cell_type": "code",
      "source": [
        "#3) Remove duplicate elements from a list without converting to tuple\n",
        "\n",
        "original_list = [1, 2, 3, 4, 5, 1, 2, 6, 7, 6]\n",
        "unique_list = []\n",
        "\n",
        "for i in original_list:\n",
        "    if i not in unique_list:\n",
        "        unique_list.append(i)\n",
        "\n",
        "print(\"Original List:\", original_list)\n",
        "print(\"List with Duplicate Elements Removed:\", unique_list)\n"
      ],
      "metadata": {
        "id": "VdfOM5vL6lNV",
        "colab": {
          "base_uri": "https://localhost:8080/"
        },
        "outputId": "473ef627-e4b2-4bb8-8f31-07443ec5f249"
      },
      "execution_count": 27,
      "outputs": [
        {
          "output_type": "stream",
          "name": "stdout",
          "text": [
            "Original List: [1, 2, 3, 4, 5, 1, 2, 6, 7, 6]\n",
            "List with Duplicates Elements Removed: [1, 2, 3, 4, 5, 6, 7]\n"
          ]
        }
      ]
    },
    {
      "cell_type": "code",
      "source": [
        "# 4) Write a program to find greatest common divisor (GCD) or highest common factor (HCF) of given two numbers\n",
        "\n",
        "num1 = int(input(\"Enter 1st number:\"))\n",
        "num2 = int(input(\"Enter 2nd number:\"))\n",
        "\n",
        "smallest_num = min(num1, num2)\n",
        "for i in range(smallest_num, -1,-1):\n",
        "  if num1 % i == 0 and num2 % i == 0:\n",
        "    print(\"The GCD is \",i)\n",
        "    break\n"
      ],
      "metadata": {
        "id": "UI1vRwlG6n42",
        "colab": {
          "base_uri": "https://localhost:8080/"
        },
        "outputId": "1cad1a66-36f7-41c2-887f-5dc8f11691c9"
      },
      "execution_count": 43,
      "outputs": [
        {
          "output_type": "stream",
          "name": "stdout",
          "text": [
            "Enter 1st number:25\n",
            "Enter 2nd number:50\n",
            "The GCD is  25\n"
          ]
        }
      ]
    },
    {
      "cell_type": "code",
      "source": [
        "#5) Write a loop to print following series\n",
        "#10, 20, 30,  …………………, 300\n",
        "\n",
        "x =  10\n",
        "while x <= 300:\n",
        "  print(x, end = \", \")\n",
        "  x = x + 10\n"
      ],
      "metadata": {
        "colab": {
          "base_uri": "https://localhost:8080/"
        },
        "id": "Fj8POeai6r-F",
        "outputId": "c183e2f4-5f1b-4b61-f657-deaedf5d0168"
      },
      "execution_count": 12,
      "outputs": [
        {
          "output_type": "stream",
          "name": "stdout",
          "text": [
            "10, 20, 30, 40, 50, 60, 70, 80, 90, 100, 110, 120, 130, 140, 150, 160, 170, 180, 190, 200, 210, 220, 230, 240, 250, 260, 270, 280, 290, 300, "
          ]
        }
      ]
    },
    {
      "cell_type": "code",
      "source": [
        "#6) Write a loop to print following series\n",
        "#105,98,91,………………………,7\n",
        "\n",
        "x = 105\n",
        "\n",
        "while x >= 7:\n",
        "    print(x, end=\", \")\n",
        "    x -= 7"
      ],
      "metadata": {
        "colab": {
          "base_uri": "https://localhost:8080/"
        },
        "id": "qPgIr9HQMDun",
        "outputId": "657f65fb-50b7-4126-cf41-e109bf10fc01"
      },
      "execution_count": 9,
      "outputs": [
        {
          "output_type": "stream",
          "name": "stdout",
          "text": [
            "105, 98, 91, 84, 77, 70, 63, 56, 49, 42, 35, 28, 21, 14, 7, "
          ]
        }
      ]
    },
    {
      "cell_type": "code",
      "source": [
        "#7) Write a program to print number names of digits in a number like\n",
        "#SAMPLE INPUT 231 \t\tSAMPLE OUTPUT TWO THREE ONE\n",
        "\n",
        "digits = {\n",
        "    '0': 'ZERO',\n",
        "    '1': 'ONE',\n",
        "    '2': 'TWO',\n",
        "    '3': 'THREE',\n",
        "    '4': 'FOUR',\n",
        "    '5': 'FIVE',\n",
        "    '6': 'SIX',\n",
        "    '7': 'SEVEN',\n",
        "    '8': 'EIGHT',\n",
        "    '9': 'NINE'\n",
        "}\n",
        "\n",
        "number = input(\"Enter a number: \")\n",
        "\n",
        "for digit in number:\n",
        "    if digit in digits:\n",
        "        print(digits[digit], end=' ')\n",
        "    else:\n",
        "        print(\"Invalid\", end=' ')\n"
      ],
      "metadata": {
        "id": "RB9Xw0xG61gE",
        "colab": {
          "base_uri": "https://localhost:8080/"
        },
        "outputId": "bbe3e62a-0b03-4c2b-8426-8f6cc0819f29"
      },
      "execution_count": 73,
      "outputs": [
        {
          "output_type": "stream",
          "name": "stdout",
          "text": [
            "Enter a number: 231\n",
            "TWO THREE ONE "
          ]
        }
      ]
    },
    {
      "cell_type": "code",
      "source": [
        "#8) Write a program to print Fibonacci series till n terms take n =50\n",
        "\n",
        "num1 = int(input('Enter a number: '))\n",
        "num2 = int(input('Enter another number: '))\n",
        "\n",
        "print(num1,',', num2, end=', ')\n",
        "\n",
        "for i in range(50):\n",
        "  fibo = num1 + num2\n",
        "  print(fibo, end=', ')\n",
        "\n",
        "  num1 = num2\n",
        "  num2 = fibo\n"
      ],
      "metadata": {
        "id": "cJF0benb68zY",
        "colab": {
          "base_uri": "https://localhost:8080/"
        },
        "outputId": "3d18b5b7-adf7-49e4-886a-aeff31ef024e"
      },
      "execution_count": 60,
      "outputs": [
        {
          "output_type": "stream",
          "name": "stdout",
          "text": [
            "Enter a number: 0\n",
            "Enter another number: 1\n",
            "0 , 1, 1, 2, 3, 5, 8, 13, 21, 34, 55, 89, 144, 233, 377, 610, 987, 1597, 2584, 4181, 6765, 10946, 17711, 28657, 46368, 75025, 121393, 196418, 317811, 514229, 832040, 1346269, 2178309, 3524578, 5702887, 9227465, 14930352, 24157817, 39088169, 63245986, 102334155, 165580141, 267914296, 433494437, 701408733, 1134903170, 1836311903, 2971215073, 4807526976, 7778742049, 12586269025, 20365011074, "
          ]
        }
      ]
    },
    {
      "cell_type": "code",
      "source": [
        "#9) Write a program to print factorial of a number\n",
        "\n",
        "num = int(input('Enter a number: '))\n",
        "\n",
        "facto = 1\n",
        "for i in range(1, num+1):\n",
        "  facto = facto*i\n",
        "print(\"Factorial:\", facto)\n"
      ],
      "metadata": {
        "id": "8MC3JOEk7A_o",
        "colab": {
          "base_uri": "https://localhost:8080/"
        },
        "outputId": "b73a5fd3-074c-4b4d-a930-c6fcfdb7511e"
      },
      "execution_count": 59,
      "outputs": [
        {
          "output_type": "stream",
          "name": "stdout",
          "text": [
            "Enter a number: 5\n",
            "Factorial: 120\n"
          ]
        }
      ]
    },
    {
      "cell_type": "code",
      "source": [
        "#10) Write a program to check if a number is Armstrong or not\n",
        "\n",
        "def is_armstrong(num):\n",
        "    num_of_digits = len(str(num))\n",
        "\n",
        "    digit_sum = sum(int(digit) ** num_of_digits for digit in str(num))\n",
        "\n",
        "    return num == digit_sum\n",
        "\n",
        "num = int(input(\"Enter a number: \"))\n",
        "\n",
        "if is_armstrong(num):\n",
        "    print(f\"{num} is an Armstrong number.\")\n",
        "else:\n",
        "    print(f\"{num} is not an Armstrong number.\")\n"
      ],
      "metadata": {
        "id": "zcnOkcJ_7ElQ",
        "colab": {
          "base_uri": "https://localhost:8080/"
        },
        "outputId": "9ba91d7a-a794-4c64-e38d-4dbf34b904fb"
      },
      "execution_count": 67,
      "outputs": [
        {
          "output_type": "stream",
          "name": "stdout",
          "text": [
            "Enter a number: 371\n",
            "371 is an Armstrong number.\n"
          ]
        }
      ]
    },
    {
      "cell_type": "code",
      "source": [
        "#11) Write a program to convert binary to decimal\n",
        "\n",
        "\n",
        "binary_str = input(\"Enter a binary number: \")\n",
        "\n",
        "decimal_num = 0\n",
        "\n",
        "for bit in binary_str:\n",
        "    decimal_num = decimal_num * 2 + int(bit)\n",
        "\n",
        "print(f\"The decimal representation is: {decimal_num}\")\n",
        "\n"
      ],
      "metadata": {
        "id": "HfgsCmEu7NKY",
        "colab": {
          "base_uri": "https://localhost:8080/"
        },
        "outputId": "f61dab80-cbe6-42b3-a438-970485fa845f"
      },
      "execution_count": 88,
      "outputs": [
        {
          "output_type": "stream",
          "name": "stdout",
          "text": [
            "Enter a binary number: 11111111\n",
            "The decimal representation is: 255\n"
          ]
        }
      ]
    },
    {
      "cell_type": "code",
      "source": [
        "#12) Write a program to convert decimal to binary\n",
        "\n",
        "\n",
        "decimal_num = int(input(\"Enter a decimal number: \"))\n",
        "\n",
        "if decimal_num < 0:\n",
        "    print(\"Invalid input. Please enter a non-negative decimal number.\")\n",
        "else:\n",
        "    binary_str = \"\"\n",
        "\n",
        "    while decimal_num > 0:\n",
        "        remainder = decimal_num % 2\n",
        "        binary_str = str(remainder) + binary_str\n",
        "        decimal_num = decimal_num // 2\n",
        "\n",
        "    if binary_str == \"\":\n",
        "        binary_str = \"0\"\n",
        "\n",
        "    print(f\"The binary representation is: {binary_str}\")\n",
        "\n",
        "\n"
      ],
      "metadata": {
        "id": "VC3x-Gmg7P7l",
        "colab": {
          "base_uri": "https://localhost:8080/"
        },
        "outputId": "02f0f6c3-4ea5-4f87-91dc-9f7858d0062f"
      },
      "execution_count": 87,
      "outputs": [
        {
          "output_type": "stream",
          "name": "stdout",
          "text": [
            "Enter a decimal number: 255\n",
            "The binary representation is: 11111111\n"
          ]
        }
      ]
    },
    {
      "cell_type": "code",
      "source": [
        "#13) Write a program to check if number is palindrome on not (Without converting to string)\n",
        "\n",
        "\n",
        "def is_palindrome(num):\n",
        "    original_number = num\n",
        "    reversed = 0\n",
        "\n",
        "    while num > 0:\n",
        "        remainder = num % 10\n",
        "        reversed = reversed * 10 + remainder\n",
        "        num = num // 10\n",
        "\n",
        "    return original_number == reversed\n",
        "\n",
        "num = int(input(\"Enter a number: \"))\n",
        "\n",
        "if is_palindrome(num):\n",
        "    print(f\"{num} is a palindrome.\")\n",
        "else:\n",
        "    print(f\"{num} is not a palindrome.\")\n",
        "\n"
      ],
      "metadata": {
        "colab": {
          "base_uri": "https://localhost:8080/"
        },
        "id": "93ptkGO-7TM3",
        "outputId": "a29e0ea3-7f96-40d7-caca-ed1957e4edda"
      },
      "execution_count": 65,
      "outputs": [
        {
          "output_type": "stream",
          "name": "stdout",
          "text": [
            "Enter a number: 101\n",
            "101 is a palindrome.\n"
          ]
        }
      ]
    },
    {
      "cell_type": "code",
      "source": [
        "#14) Write a program to print all numbers which are divisible by 13 but not by 3 between 100 and 500\n",
        "\n",
        "for num in range(100, 501):\n",
        "  if num % 13 == 0 and num % 3 != 0:\n",
        "    print(num)\n",
        "\n"
      ],
      "metadata": {
        "id": "ALNaaacB7WCZ",
        "colab": {
          "base_uri": "https://localhost:8080/"
        },
        "outputId": "089a11f0-133a-461f-f973-ea3635109291"
      },
      "execution_count": 37,
      "outputs": [
        {
          "output_type": "stream",
          "name": "stdout",
          "text": [
            "104\n",
            "130\n",
            "143\n",
            "169\n",
            "182\n",
            "208\n",
            "221\n",
            "247\n",
            "260\n",
            "286\n",
            "299\n",
            "325\n",
            "338\n",
            "364\n",
            "377\n",
            "403\n",
            "416\n",
            "442\n",
            "455\n",
            "481\n",
            "494\n"
          ]
        }
      ]
    },
    {
      "cell_type": "code",
      "source": [
        "#15) Write a Python program to convert temperatures to and from Celsius and Fahrenheit.\n",
        "\n",
        "def celsius_to_fahrenheit(celsius):\n",
        "    return (celsius * 9/5) + 32\n",
        "\n",
        "def fahrenheit_to_celsius(fahrenheit):\n",
        "    return (fahrenheit - 32) * 5/9\n",
        "\n",
        "while True:\n",
        "    print(\"Choose an option:\")\n",
        "    print(\"1. Celsius to Fahrenheit\")\n",
        "    print(\"2. Fahrenheit to Celsius\")\n",
        "    print(\"3. Exit\")\n",
        "\n",
        "    choice = input(\"Enter your choice (1/2/3): \").strip()\n",
        "\n",
        "    if choice == '1':\n",
        "        temperature = float(input(\"Enter the temperature in Celsius: \"))\n",
        "        converted_temperature = celsius_to_fahrenheit(temperature)\n",
        "        print(f\"{temperature} Celsius = {converted_temperature} Fahrenheit.\\n\")\n",
        "    elif choice == '2':\n",
        "        temperature = float(input(\"Enter the temperature in Fahrenheit: \"))\n",
        "        converted_temperature = fahrenheit_to_celsius(temperature)\n",
        "        print(f\"{temperature} Fahrenheit = {converted_temperature} Celsius.\\n\")\n",
        "    elif choice == '3':\n",
        "        print(\"Exiting the program.\")\n",
        "        break\n",
        "    else:\n",
        "        print(\"Invalid choice. Please enter 1, 2, or 3.\\n\")\n"
      ],
      "metadata": {
        "id": "bEod4f9V7ZJZ",
        "colab": {
          "base_uri": "https://localhost:8080/"
        },
        "outputId": "3587ffa9-1adf-4d4f-ddda-049a49bcb310"
      },
      "execution_count": 90,
      "outputs": [
        {
          "output_type": "stream",
          "name": "stdout",
          "text": [
            "Choose an option:\n",
            "1. Celsius to Fahrenheit\n",
            "2. Fahrenheit to Celsius\n",
            "3. Exit\n",
            "Enter your choice (1/2/3): 1\n",
            "Enter the temperature in Celsius: 35\n",
            "35.0 Celsius = 95.0 Fahrenheit.\n",
            "\n",
            "Choose an option:\n",
            "1. Celsius to Fahrenheit\n",
            "2. Fahrenheit to Celsius\n",
            "3. Exit\n",
            "Enter your choice (1/2/3): 2\n",
            "Enter the temperature in Fahrenheit: 97\n",
            "97.0 Fahrenheit = 36.111111111111114 Celsius.\n",
            "\n",
            "Choose an option:\n",
            "1. Celsius to Fahrenheit\n",
            "2. Fahrenheit to Celsius\n",
            "3. Exit\n",
            "Enter your choice (1/2/3): 3\n",
            "Exiting the program.\n"
          ]
        }
      ]
    },
    {
      "cell_type": "code",
      "source": [
        "#16) Write a Python program that takes two digits m (row) and n (column) as input and generates a two-dimensional array.\n",
        "# The element value in the i-th row and j-th column of the array should be i*j. else it will be 0\n",
        "\n",
        "m = int(input(\"Enter the number of rows (m): \"))\n",
        "n = int(input(\"Enter the number of columns (n): \"))\n",
        "\n",
        "matrix = []\n",
        "\n",
        "for i in range(m):\n",
        "    row = []\n",
        "    for j in range(n):\n",
        "        if i == 0 or j == 0:\n",
        "            row.append(0)\n",
        "        else:\n",
        "            row.append(i * j)\n",
        "    matrix.append(row)\n",
        "\n",
        "for row in matrix:\n",
        "    print(row)\n"
      ],
      "metadata": {
        "id": "B141tQvv7cQo",
        "colab": {
          "base_uri": "https://localhost:8080/"
        },
        "outputId": "863976ad-f2df-44f9-f1bf-8ab9f4d368fc"
      },
      "execution_count": 81,
      "outputs": [
        {
          "output_type": "stream",
          "name": "stdout",
          "text": [
            "Enter the number of rows (m): 3\n",
            "Enter the number of columns (n): 4\n",
            "[0, 0, 0, 0]\n",
            "[0, 1, 2, 3]\n",
            "[0, 2, 4, 6]\n"
          ]
        }
      ]
    },
    {
      "cell_type": "code",
      "source": [
        "#17) Write a Python program that accepts a string and calculates the number of digits and letters.\n",
        "'''Sample Data: Python 3.2\n",
        "Expected Output:\n",
        "Letters 6\n",
        "Digits 2'''\n",
        "\n",
        "input_string = input(\"Enter a string: \")\n",
        "\n",
        "letter_count = 0\n",
        "digit_count = 0\n",
        "\n",
        "for x in input_string:\n",
        "    if x.isalpha():\n",
        "        letter_count += 1\n",
        "    elif x.isdigit():\n",
        "        digit_count += 1\n",
        "\n",
        "print(\"Letters:\", letter_count)\n",
        "print(\"Digits:\", digit_count)\n"
      ],
      "metadata": {
        "id": "c_X3J4XQ7fnB",
        "colab": {
          "base_uri": "https://localhost:8080/"
        },
        "outputId": "36d95388-a04d-40bb-cd4c-bb724a18480e"
      },
      "execution_count": 29,
      "outputs": [
        {
          "output_type": "stream",
          "name": "stdout",
          "text": [
            "Enter a string: Python 3.2\n",
            "Letters: 6\n",
            "Digits: 2\n"
          ]
        }
      ]
    },
    {
      "cell_type": "code",
      "source": [
        "#18) Print all possible combination for a string or a word\n",
        "'''Sample input “ABC”\n",
        "Sample output\n",
        "BAC\n",
        "CAB\n",
        "CBA\n",
        "ACB\n",
        "BCA'''\n",
        "\n",
        "def gen_combos(input_str, current_str=\"\"):\n",
        "    if len(input_str) == 0:\n",
        "        print(current_str)\n",
        "    else:\n",
        "        for i in range(len(input_str)):\n",
        "            remaining = input_str[:i] + input_str[i + 1:]\n",
        "            gen_combos(remaining, current_str + input_str[i])\n",
        "\n",
        "input_str = input(\"Enter a string: \").upper()\n",
        "\n",
        "gen_combos(input_str)\n"
      ],
      "metadata": {
        "id": "OaSGRF8Q7mst",
        "colab": {
          "base_uri": "https://localhost:8080/"
        },
        "outputId": "1fc7e904-3635-4880-de62-4a9a4f7bf97d"
      },
      "execution_count": 80,
      "outputs": [
        {
          "output_type": "stream",
          "name": "stdout",
          "text": [
            "Enter a string: abc\n",
            "ABC\n",
            "ACB\n",
            "BAC\n",
            "BCA\n",
            "CAB\n",
            "CBA\n"
          ]
        }
      ]
    },
    {
      "cell_type": "code",
      "source": [
        "#19) Write a Python program to check if a triangle is equilateral, isosceles or scalene. Take 3 inputs for each side\n",
        "\n",
        "'''Note :\n",
        "An equilateral triangle is a triangle in which all three sides are equal.\n",
        "A scalene triangle is a triangle that has three unequal sides.\n",
        "An isosceles triangle is a triangle with (at least) two equal sides.'''\n",
        "\n",
        "side1 = float(input(\"Enter the length of the first side: \"))\n",
        "side2 = float(input(\"Enter the length of the second side: \"))\n",
        "side3 = float(input(\"Enter the length of the third side: \"))\n",
        "\n",
        "if side1 + side2 > side3 and side1 + side3 > side2 and side2 + side3 > side1:\n",
        "    if side1 == side2 == side3:\n",
        "        print(\"It's an equilateral triangle.\")\n",
        "    elif side1 == side2 or side1 == side3 or side2 == side3:\n",
        "        print(\"It's an isosceles triangle.\")\n",
        "    else:\n",
        "        print(\"It's a scalene triangle.\")\n",
        "else:\n",
        "    print(\"It's not a valid triangle.\")\n"
      ],
      "metadata": {
        "id": "52G-pZnn7rhp",
        "colab": {
          "base_uri": "https://localhost:8080/"
        },
        "outputId": "aa0b05d1-5997-4b76-d210-38d5059e4296"
      },
      "execution_count": 75,
      "outputs": [
        {
          "output_type": "stream",
          "name": "stdout",
          "text": [
            "Enter the length of the first side: 3\n",
            "Enter the length of the second side: 4\n",
            "Enter the length of the third side: 5\n",
            "It's a scalene triangle.\n"
          ]
        }
      ]
    },
    {
      "cell_type": "code",
      "source": [
        "#20) Write a Python program to get the next day of a given date.\n",
        "'''Expected Output:\n",
        "Input a year: 2016\n",
        "Input a month [1-12]: 08\n",
        "Input a day [1-31]: 23\n",
        "The next date is [yyyy-mm-dd] 2016-8-24 '''\n",
        "\n",
        "year = int(input(\"Input a year: \"))\n",
        "month = int(input(\"Input a month [1-12]: \"))\n",
        "day = int(input(\"Input a day [1-31]: \"))\n",
        "\n",
        "days_in_month = [0, 31, 28, 31, 30, 31, 30, 31, 31, 30, 31, 30, 31]\n",
        "\n",
        "if year % 4 == 0 and (year % 100 != 0 or year % 400 == 0):\n",
        "    days_in_month[2] = 29\n",
        "\n",
        "if 1 <= month <= 12 and 1 <= day <= days_in_month[month]:\n",
        "    if day < days_in_month[month]:\n",
        "        next_day = day + 1\n",
        "        next_month = month\n",
        "    else:\n",
        "        next_day = 1\n",
        "        if month < 12:\n",
        "            next_month = month + 1\n",
        "        else:\n",
        "            next_month = 1\n",
        "            year += 1\n",
        "\n",
        "    print(f\"The next date is [yyyy-mm-dd] {year}-{next_month}-{next_day}\")\n",
        "else:\n",
        "    print(\"Invalid input. Please enter a valid date.\")\n",
        "\n",
        "\n",
        "\n"
      ],
      "metadata": {
        "id": "sECWll7G7wNl",
        "colab": {
          "base_uri": "https://localhost:8080/"
        },
        "outputId": "897ee765-99d0-4d28-b9b3-8ceeb6a0bfbb"
      },
      "execution_count": 89,
      "outputs": [
        {
          "output_type": "stream",
          "name": "stdout",
          "text": [
            "Input a year: 2023\n",
            "Input a month [1-12]: 9\n",
            "Input a day [1-31]: 2\n",
            "The next date is [yyyy-mm-dd] 2023-9-3\n"
          ]
        }
      ]
    }
  ]
}