{
  "nbformat": 4,
  "nbformat_minor": 0,
  "metadata": {
    "colab": {
      "provenance": [],
      "authorship_tag": "ABX9TyPSh7mYBGeHLqRrnagSxh54",
      "include_colab_link": true
    },
    "kernelspec": {
      "name": "python3",
      "display_name": "Python 3"
    },
    "language_info": {
      "name": "python"
    }
  },
  "cells": [
    {
      "cell_type": "markdown",
      "metadata": {
        "id": "view-in-github",
        "colab_type": "text"
      },
      "source": [
        "<a href=\"https://colab.research.google.com/github/anushkashr/DataScienceBootCamp/blob/main/HW1.ipynb\" target=\"_parent\"><img src=\"https://colab.research.google.com/assets/colab-badge.svg\" alt=\"Open In Colab\"/></a>"
      ]
    },
    {
      "cell_type": "code",
      "execution_count": 2,
      "metadata": {
        "colab": {
          "base_uri": "https://localhost:8080/"
        },
        "id": "W3Tggz4z01QB",
        "outputId": "31354410-3eaf-4b66-bd8b-48728d4d8c85"
      },
      "outputs": [
        {
          "output_type": "stream",
          "name": "stdout",
          "text": [
            "Enter your salary: 3000\n",
            "Enter your years of service: 6\n",
            "Your bonus amount is: $ 150.0\n"
          ]
        }
      ],
      "source": [
        "#1. A company decided to give bonus of 5% to employee if his/her year of service is more than 5 years.\n",
        "# Ask user for their salary and year of service and print the net bonus amount.\n",
        "\n",
        "salary = float(input(\"Enter your salary: \"))\n",
        "service = int(input(\"Enter your years of service: \"))\n",
        "\n",
        "if (service > 5):\n",
        "  bonus = (0.05)*salary\n",
        "  print(\"Your bonus amount is: $\", bonus)\n",
        "else:\n",
        "  print(\"Not applicable for bonus.\")\n"
      ]
    },
    {
      "cell_type": "code",
      "source": [
        "'''2.Take values of length and breadth of a rectangle from user and check if it is square or not.'''\n",
        "\n",
        "l = int(input(\"Enter length: \"))\n",
        "b = int(input(\"Enter breadth: \"))\n",
        "\n",
        "if ( l == b):\n",
        "  print (\"It is a square.\")\n",
        "else:\n",
        "  print (\"It is not a square.\")\n"
      ],
      "metadata": {
        "colab": {
          "base_uri": "https://localhost:8080/"
        },
        "id": "UieuN99_p5_5",
        "outputId": "22c18d2a-d177-4586-9dbf-6d5392fa2798"
      },
      "execution_count": 9,
      "outputs": [
        {
          "output_type": "stream",
          "name": "stdout",
          "text": [
            "Enter length: 4\n",
            "Enter breadth: 9\n",
            "It is not a square.\n"
          ]
        }
      ]
    },
    {
      "cell_type": "code",
      "source": [
        "#3.Take two int values from user and print greatest among them.\n",
        "\n",
        "num1 = int(input(\"Enter a number: \"))\n",
        "num2 = int(input(\"Enter another number: \"))\n",
        "\n",
        "if (num1 > num2):\n",
        "  print(\"The greater number is: \", num1)\n",
        "elif (num1 == num2):\n",
        "    print(\"Both numbers are equal\")\n",
        "else:\n",
        "  print(\"The greater number is: \", num2)\n"
      ],
      "metadata": {
        "colab": {
          "base_uri": "https://localhost:8080/"
        },
        "id": "giNXiM19qmgH",
        "outputId": "c9c89cf7-0cb3-4f44-bd3b-9c81abbdbf32"
      },
      "execution_count": 13,
      "outputs": [
        {
          "output_type": "stream",
          "name": "stdout",
          "text": [
            "Enter a number: 5\n",
            "Enter another number: 5\n",
            "Both numbers are equal\n"
          ]
        }
      ]
    },
    {
      "cell_type": "code",
      "source": [
        "# 4. A shop will give discount of 10% if the cost of purchased quantity is more than 1000.\n",
        "# Ask user for quantity\n",
        "# Suppose, one unit will cost 100.\n",
        "# Judge and print total cost for user.\n",
        "\n",
        "quantity = int(input(\"Enter the quantity you want to purchase: \"))\n",
        "cost = 100*quantity\n",
        "\n",
        "if (cost > 1000):\n",
        "  net_cost = cost - ((0.1)*cost)\n",
        "  print(\"The cost before discount was: $\", cost)\n",
        "  print(\"The total cost after discount is: $\", net_cost)\n",
        "else:\n",
        "  print(\"Discount is only applicable if the cost of purchased quantity is more than 1000.\")\n"
      ],
      "metadata": {
        "colab": {
          "base_uri": "https://localhost:8080/"
        },
        "id": "Wx-ZyK8WrujF",
        "outputId": "70d8f807-9471-4ba9-b459-90c41295952b"
      },
      "execution_count": 51,
      "outputs": [
        {
          "output_type": "stream",
          "name": "stdout",
          "text": [
            "Enter the quantity you want to purchase: 20\n",
            "The cost before discount was: $ 2000\n",
            "The total cost after discount is: $ 1800.0\n"
          ]
        }
      ]
    },
    {
      "cell_type": "code",
      "source": [
        "'''5. A school has following rules for grading system:\n",
        "a. Below 25 - F\n",
        "b. 25 to 45 - E\n",
        "c. 45 to 50 - D\n",
        "d. 50 to 60 - C\n",
        "e. 60 to 80 - B\n",
        "f. Above 80 - A\n",
        "Ask user to enter marks and print the corresponding grade.'''\n",
        "\n",
        "marks = float(input(\"Enter your marks: \"))\n",
        "\n",
        "if(marks < 25):\n",
        "  print(\"Your grade is: F\")\n",
        "elif(marks >=25 and marks <45):\n",
        "  print(\"Your grade is: E\")\n",
        "elif(marks >=45 and marks <50):\n",
        "  print(\"Your grade is: D\")\n",
        "elif(marks >=50 and marks <60):\n",
        "  print(\"Your grade is: C\")\n",
        "elif(marks >=60 and marks <80):\n",
        "  print(\"Your grade is: B\")\n",
        "else:\n",
        "  print(\"Your grade is: A\")\n",
        ""
      ],
      "metadata": {
        "colab": {
          "base_uri": "https://localhost:8080/"
        },
        "id": "w9p0T0qGwXgH",
        "outputId": "caf2f212-1bfb-4e94-b354-e88b6e5918d2"
      },
      "execution_count": 56,
      "outputs": [
        {
          "output_type": "stream",
          "name": "stdout",
          "text": [
            "Enter your marks: 34\n",
            "Your grade is: E\n"
          ]
        }
      ]
    },
    {
      "cell_type": "code",
      "source": [
        "#6.Take input of age of 3 people by user and determine oldest and youngest among them.\n",
        "\n",
        "age1 = int(input(\"Enter age for Person 1: \"))\n",
        "age2 = int(input(\"Enter age for Person 2: \"))\n",
        "age3 = int(input(\"Enter age for Person 3: \"))\n",
        "\n",
        "'''oldest = max(age1, age2, age3)\n",
        "youngest = min(age1, age2, age3)'''\n",
        "\n",
        "if age1 >= age2 and age1 >= age3:\n",
        "    oldest = age1\n",
        "    if age2 >= age3:\n",
        "        youngest = age3\n",
        "    else:\n",
        "        youngest = age2\n",
        "elif age2 >= age1 and age2 >= age3:\n",
        "    oldest = age2\n",
        "    if age1 >= age3:\n",
        "        youngest = age3\n",
        "    else:\n",
        "        youngest = age1\n",
        "else:\n",
        "    oldest = age3\n",
        "    if age1 >= age2:\n",
        "        youngest = age2\n",
        "    else:\n",
        "        youngest = age1\n",
        "\n",
        "print(\"The oldest person is \", oldest, \"years old.\")\n",
        "print(\"The youngest person is\", youngest, \"years old.\")"
      ],
      "metadata": {
        "colab": {
          "base_uri": "https://localhost:8080/"
        },
        "id": "JyU47LXhxZdx",
        "outputId": "81f3a856-6e19-40f6-f267-4be6fa6c7b9f"
      },
      "execution_count": 11,
      "outputs": [
        {
          "output_type": "stream",
          "name": "stdout",
          "text": [
            "Enter age for Person 1: 45\n",
            "Enter age for Person 2: 23\n",
            "Enter age for Person 3: 65\n",
            "The oldest person is  65 years old.\n",
            "The youngest person is 23 years old.\n"
          ]
        }
      ]
    },
    {
      "cell_type": "code",
      "source": [
        "'''7. Write a program to print absolute value of a number entered by user. E.g.-\n",
        "INPUT: 1        OUTPUT: 1\n",
        "INPUT: -1        OUTPUT: 1'''\n",
        "\n",
        "num1 = float(input(\"Enter a number: \"))\n",
        "print(abs(num1))\n"
      ],
      "metadata": {
        "colab": {
          "base_uri": "https://localhost:8080/"
        },
        "id": "uvpPK5MBx8HR",
        "outputId": "f3ae1821-a43e-4550-ccf9-caaa4fcfaa8d"
      },
      "execution_count": 3,
      "outputs": [
        {
          "output_type": "stream",
          "name": "stdout",
          "text": [
            "Enter a number: 4\n",
            "4.0\n"
          ]
        }
      ]
    },
    {
      "cell_type": "code",
      "source": [
        "# 8. A student will not be allowed to sit in exam if his/her attendence is less than 75%.\n",
        "# Take following input from user\n",
        "# Number of classes held\n",
        "# Number of classes attended.\n",
        "# And print: percentage of class attended\n",
        "# Is student is allowed to sit in exam or not.\n",
        "\n",
        "c_held = int(input(\"Enter number of classes held: \"))\n",
        "c_attended = int(input(\"Enter number of classes attended: \"))\n",
        "p_attended = round((float((c_attended)/(c_held)*100)), 2)\n",
        "\n",
        "if (p_attended >= 75) :\n",
        "  print(\"Student's attendance is: \", p_attended, \"%\")\n",
        "  print(\"Student is allowed to sit in exam.\")\n",
        "else:\n",
        "  print(\"Student's attendance is: \", p_attended, \"%\")\n",
        "  print(\"Student is not allowed to sit in exam.\")\n",
        "\n"
      ],
      "metadata": {
        "colab": {
          "base_uri": "https://localhost:8080/"
        },
        "id": "9SgxXf_CyoES",
        "outputId": "15040e4e-6215-44a7-c27c-e401280e115d"
      },
      "execution_count": 3,
      "outputs": [
        {
          "output_type": "stream",
          "name": "stdout",
          "text": [
            "Enter number of classes held: 50\n",
            "Enter number of classes attended: 21\n",
            "Student's attendance is:  42.0 %\n",
            "Student is not allowed to sit in exam.\n"
          ]
        }
      ]
    },
    {
      "cell_type": "code",
      "source": [
        "# 9. Modify the above question to allow student to sit if he/she has medical cause.\n",
        "#Ask user if he/she has medical cause or not ( 'Y' or 'N' ) and print accordingly.\n",
        "\n",
        "c_held = int(input(\"Enter number of classes held: \"))\n",
        "c_attended = int(input(\"Enter number of classes attended: \"))\n",
        "\n",
        "p_attended = round((float((c_attended)/(c_held)*100)), 2)\n",
        "\n",
        "if(p_attended >= 75):\n",
        "  print(\"Student's attendance is: \", p_attended, \"%\")\n",
        "  print(\"Student is allowed to sit in exam.\")\n",
        "\n",
        "else:\n",
        "    print(\"Student's attendance is: \", p_attended, \"%\")\n",
        "\n",
        "    medical = str(input(\"Do you have a medical cause? Enter 'Y' or 'N'\\n\"))\n",
        "    if medical == \"Y\".lower():\n",
        "      print(\"Student is allowed to sit in exam because of a medical cause even if attendance is below 75%.\")\n",
        "    else:\n",
        "      print(\"Student is not allowed to sit in exam\")"
      ],
      "metadata": {
        "colab": {
          "base_uri": "https://localhost:8080/"
        },
        "id": "Im-Wh7lqy9iU",
        "outputId": "badcd6d9-6f42-4290-8016-7423a37c0cf8"
      },
      "execution_count": 4,
      "outputs": [
        {
          "output_type": "stream",
          "name": "stdout",
          "text": [
            "Enter number of classes held: 50\n",
            "Enter number of classes attended: 21\n",
            "Student's attendance is:  42.0 %\n",
            "Do you have a medical cause? Enter 'Y' or 'N'\n",
            "Y\n",
            "Student is allowed to sit in exam because of a medical cause even if attendance is below 75%.\n"
          ]
        }
      ]
    }
  ]
}