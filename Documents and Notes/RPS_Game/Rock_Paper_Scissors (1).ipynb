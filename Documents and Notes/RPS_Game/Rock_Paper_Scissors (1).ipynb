{
  "nbformat": 4,
  "nbformat_minor": 0,
  "metadata": {
    "colab": {
      "provenance": []
    },
    "kernelspec": {
      "name": "python3",
      "display_name": "Python 3"
    },
    "language_info": {
      "name": "python"
    }
  },
  "cells": [
    {
      "cell_type": "code",
      "source": [
        "import random\n",
        "\n",
        "def game():\n",
        "    possible_actions = [\"rock\", \"paper\", \"scissors\"]\n",
        "\n",
        "    while True:\n",
        "        computer_action = random.choice(possible_actions)\n",
        "\n",
        "        print('-------------------------')\n",
        "        print('Rock | Paper | Scissors')\n",
        "        print('-------------------------')\n",
        "\n",
        "        user_input = input(\"Please make a choice from: Rock, Paper, Scissors: \").lower()\n",
        "\n",
        "        print('You chose: ', user_input)\n",
        "        print('Computer chose: ', computer_action)\n",
        "\n",
        "        if user_input == computer_action:\n",
        "            print('Tie!')\n",
        "        elif (user_input == 'rock' and computer_action == 'scissors') or \\\n",
        "             (user_input == 'paper' and computer_action == 'rock') or \\\n",
        "             (user_input == 'scissors' and computer_action == 'paper'):\n",
        "            print('You win!')\n",
        "            break\n",
        "        else:\n",
        "            print('Computer wins!')\n",
        "\n",
        "\n",
        "game()\n",
        ""
      ],
      "metadata": {
        "colab": {
          "base_uri": "https://localhost:8080/"
        },
        "id": "V5gg-2yVtArr",
        "outputId": "032a04aa-8783-4d9d-bd3e-d4019d842cb3"
      },
      "execution_count": 11,
      "outputs": [
        {
          "output_type": "stream",
          "name": "stdout",
          "text": [
            "-------------------------\n",
            "Rock | Paper | Scissors\n",
            "-------------------------\n",
            "Please make a choice from: Rock, Paper, Scissors: rock\n",
            "You chose:  rock\n",
            "Computer chose:  rock\n",
            "Tie!\n",
            "-------------------------\n",
            "Rock | Paper | Scissors\n",
            "-------------------------\n",
            "Please make a choice from: Rock, Paper, Scissors: paper\n",
            "You chose:  paper\n",
            "Computer chose:  paper\n",
            "Tie!\n",
            "-------------------------\n",
            "Rock | Paper | Scissors\n",
            "-------------------------\n",
            "Please make a choice from: Rock, Paper, Scissors: ROCK\n",
            "You chose:  rock\n",
            "Computer chose:  paper\n",
            "Computer wins!\n",
            "-------------------------\n",
            "Rock | Paper | Scissors\n",
            "-------------------------\n",
            "Please make a choice from: Rock, Paper, Scissors: Paper\n",
            "You chose:  paper\n",
            "Computer chose:  paper\n",
            "Tie!\n",
            "-------------------------\n",
            "Rock | Paper | Scissors\n",
            "-------------------------\n",
            "Please make a choice from: Rock, Paper, Scissors: scissors\n",
            "You chose:  scissors\n",
            "Computer chose:  paper\n",
            "You win!\n"
          ]
        }
      ]
    }
  ]
}