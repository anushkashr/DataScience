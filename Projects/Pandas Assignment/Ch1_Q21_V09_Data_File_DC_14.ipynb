{
  "nbformat": 4,
  "nbformat_minor": 0,
  "metadata": {
    "colab": {
      "provenance": []
    },
    "kernelspec": {
      "name": "python3",
      "display_name": "Python 3"
    },
    "language_info": {
      "name": "python"
    }
  },
  "cells": [
    {
      "cell_type": "code",
      "execution_count": 2,
      "metadata": {
        "id": "U-Cb6YWugWYT"
      },
      "outputs": [],
      "source": [
        "import pandas as pd"
      ]
    },
    {
      "cell_type": "code",
      "source": [
        "path = '/content/Ch1_Q21_V09_Data_File.xlsx'\n",
        "df = pd.read_excel('Ch1_Q21_V09_Data_File.xlsx')"
      ],
      "metadata": {
        "id": "GxhmxGKtged7"
      },
      "execution_count": 3,
      "outputs": []
    },
    {
      "cell_type": "code",
      "source": [
        "#a. How many observations have x4 values that are less than 3?\n",
        "count_x4_less_than_3 = df[df['x4'] < 3]['Observation'].count()\n",
        "\n",
        "print(\"Number of observations with x4 values less than 3:\", count_x4_less_than_3)"
      ],
      "metadata": {
        "colab": {
          "base_uri": "https://localhost:8080/"
        },
        "id": "xZAbXhusgoX6",
        "outputId": "3618a8ab-e783-46cf-efbc-3e0f40e624bb"
      },
      "execution_count": 4,
      "outputs": [
        {
          "output_type": "stream",
          "name": "stdout",
          "text": [
            "Number of observations with x4 values less than 3: 85\n"
          ]
        }
      ]
    },
    {
      "cell_type": "code",
      "source": [
        "#b. Sort the data by x1 in ascending order. What are the x1, x2, x3, and x4 values of the first observation after the data are sorted?\n",
        "# (For x1, round your answer to four decimal places.)\n",
        "\n",
        "df_sorted = df.sort_values(by='x1', ascending=True)\n",
        "\n",
        "first_observation_values = df_sorted.iloc[0]\n",
        "\n",
        "print(\"x1:\", round(first_observation_values['x1'], 4))\n",
        "print(\"x2:\", first_observation_values['x2'])\n",
        "print(\"x3:\", first_observation_values['x3'])\n",
        "print(\"x4:\", first_observation_values['x4'])"
      ],
      "metadata": {
        "colab": {
          "base_uri": "https://localhost:8080/"
        },
        "id": "y6CHjh3Dhlff",
        "outputId": "455b7896-b8de-4eae-e36f-d40ef8facd6b"
      },
      "execution_count": 5,
      "outputs": [
        {
          "output_type": "stream",
          "name": "stdout",
          "text": [
            "x1: 0.0121\n",
            "x2: 54.0\n",
            "x3: 11\n",
            "x4: 3\n"
          ]
        }
      ]
    },
    {
      "cell_type": "code",
      "source": [
        "#c. Sort the data by x1 in descending order. What are the x1, x2, x3, and x4 values of the first observation after the data are sorted?\n",
        " #(For x1, round your answer to four decimal places.)\n",
        "\n",
        "df_sorted = df.sort_values(by='x1', ascending=False)\n",
        "\n",
        "first_observation_values = df_sorted.iloc[0]\n",
        "\n",
        "print(\"x1:\", round(first_observation_values['x1'], 4))\n",
        "print(\"x2:\", first_observation_values['x2'])\n",
        "print(\"x3:\", first_observation_values['x3'])\n",
        "print(\"x4:\", first_observation_values['x4'])"
      ],
      "metadata": {
        "colab": {
          "base_uri": "https://localhost:8080/"
        },
        "id": "5EYyGWO1iaxy",
        "outputId": "b9cacccd-59f7-4a0f-c72c-633fd1c356f5"
      },
      "execution_count": 6,
      "outputs": [
        {
          "output_type": "stream",
          "name": "stdout",
          "text": [
            "x1: 0.998\n",
            "x2: 196.0\n",
            "x3: 13\n",
            "x4: 3\n"
          ]
        }
      ]
    },
    {
      "cell_type": "code",
      "source": [
        "#d. How many missing values are there in x1, x2, x3, and x4?\n",
        "missing_x1 = df['x1'].isna().sum()\n",
        "missing_x2 = df['x2'].isna().sum()\n",
        "missing_x3 = df['x3'].isna().sum()\n",
        "missing_x4 = df['x4'].isna().sum()\n",
        "\n",
        "print(\"Missing values in x1:\", missing_x1)\n",
        "print(\"Missing values in x2:\", missing_x2)\n",
        "print(\"Missing values in x3:\", missing_x3)\n",
        "print(\"Missing values in x4:\", missing_x4)"
      ],
      "metadata": {
        "colab": {
          "base_uri": "https://localhost:8080/"
        },
        "id": "yr-33ZVFi_fd",
        "outputId": "30f68508-8cba-4dcc-8222-1b09c02cb465"
      },
      "execution_count": 8,
      "outputs": [
        {
          "output_type": "stream",
          "name": "stdout",
          "text": [
            "Missing values in x1: 1\n",
            "Missing values in x2: 1\n",
            "Missing values in x3: 0\n",
            "Missing values in x4: 0\n"
          ]
        }
      ]
    },
    {
      "cell_type": "code",
      "source": [
        "#e. How many observations are there in each category in x4?\n",
        "x4_counts = df['x4'].value_counts()\n",
        "\n",
        "print(\"Observations in each category in x4:\")\n",
        "print(x4_counts)"
      ],
      "metadata": {
        "colab": {
          "base_uri": "https://localhost:8080/"
        },
        "id": "S2kuvXaEjHZi",
        "outputId": "6952907b-c9f4-4962-fed5-9aee1b224044"
      },
      "execution_count": 11,
      "outputs": [
        {
          "output_type": "stream",
          "name": "stdout",
          "text": [
            "Observations in each category in x4:\n",
            "2    45\n",
            "1    40\n",
            "3    33\n",
            "Name: x4, dtype: int64\n"
          ]
        }
      ]
    }
  ]
}