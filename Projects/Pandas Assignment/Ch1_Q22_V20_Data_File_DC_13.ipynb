{
  "nbformat": 4,
  "nbformat_minor": 0,
  "metadata": {
    "colab": {
      "provenance": []
    },
    "kernelspec": {
      "name": "python3",
      "display_name": "Python 3"
    },
    "language_info": {
      "name": "python"
    }
  },
  "cells": [
    {
      "cell_type": "code",
      "execution_count": 1,
      "metadata": {
        "id": "w14oIbeLcHIq"
      },
      "outputs": [],
      "source": [
        "import pandas as pd"
      ]
    },
    {
      "cell_type": "code",
      "source": [
        "path = '/content/Ch1_Q22_V20_Data_File.xlsx'\n",
        "df = pd.read_excel('Ch1_Q22_V20_Data_File.xlsx')"
      ],
      "metadata": {
        "id": "mliP3vyfcS2V"
      },
      "execution_count": 2,
      "outputs": []
    },
    {
      "cell_type": "code",
      "source": [
        "# a. Subset the data set to include only observations that have a date on or after May 1, 1975 for x3. How many observations are in the subset data?\n",
        "\n",
        "df['x3'] = pd.to_datetime(df['x3'])\n",
        "\n",
        "filtered_df = df[df['x3'] >= '1975-05-01']\n",
        "\n",
        "num_observations = len(filtered_df)\n",
        "\n",
        "print(\"Number of observations in the subset data:\", num_observations)"
      ],
      "metadata": {
        "colab": {
          "base_uri": "https://localhost:8080/"
        },
        "id": "3QGJ_uXXcg56",
        "outputId": "05679457-150a-4d45-e066-8fed9aae5bb7"
      },
      "execution_count": 4,
      "outputs": [
        {
          "output_type": "stream",
          "name": "stdout",
          "text": [
            "Number of observations in the subset data: 25\n"
          ]
        }
      ]
    },
    {
      "cell_type": "code",
      "source": [
        "#b. Subset the original data set based on the binary 1/0 values for x4. How many observations are in each of the two subsets?\n",
        "\n",
        "subset_1 = df[df['x4'] == 1]\n",
        "subset_0 = df[df['x4'] == 0]\n",
        "\n",
        "num_observations_1 = len(subset_1)\n",
        "num_observations_0 = len(subset_0)\n",
        "\n",
        "print(\"Number of observations with x4 = 1:\", num_observations_1)\n",
        "print(\"Number of observations with x4 = 0:\", num_observations_0)"
      ],
      "metadata": {
        "colab": {
          "base_uri": "https://localhost:8080/"
        },
        "id": "4T5c_IuSf15M",
        "outputId": "cc0c60b0-d08a-4084-b016-60c5ee9da230"
      },
      "execution_count": 5,
      "outputs": [
        {
          "output_type": "stream",
          "name": "stdout",
          "text": [
            "Number of observations with x4 = 1: 24\n",
            "Number of observations with x4 = 0: 28\n"
          ]
        }
      ]
    }
  ]
}