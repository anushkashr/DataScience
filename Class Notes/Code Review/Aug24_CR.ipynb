{
  "nbformat": 4,
  "nbformat_minor": 0,
  "metadata": {
    "colab": {
      "provenance": []
    },
    "kernelspec": {
      "name": "python3",
      "display_name": "Python 3"
    },
    "language_info": {
      "name": "python"
    }
  },
  "cells": [
    {
      "cell_type": "code",
      "execution_count": null,
      "metadata": {
        "id": "-h1cIAILoe-j"
      },
      "outputs": [],
      "source": [
        "#Create this Matrix and User should be able to replace any number with X\n"
      ]
    },
    {
      "cell_type": "markdown",
      "source": [
        "![matrix.jpg](data:image/jpeg;base64,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)"
      ],
      "metadata": {
        "id": "9CczpF3FomRF"
      }
    },
    {
      "cell_type": "code",
      "source": [
        "def display_board(board_list):\n",
        "    print(\" {} | {} | {} \".format(board_list[6],board_list[7],board_list[8]))\n",
        "    print(\"-----------\")\n",
        "    print(\" {} | {} | {} \".format(board_list[3],board_list[4],board_list[5]))\n",
        "    print(\"-----------\")\n",
        "    print(\" {} | {} | {} \".format(board_list[0],board_list[1],board_list[2]))\n",
        "\n",
        "available = [num for num in range(1,10)]\n",
        "display_board(available)\n",
        "\n",
        "position_to_replace=int(input(\"Please choose between 1 and 9 :- \"))-1\n",
        "#position_to_replace=available.index(position_to_replace)\n",
        "while True:\n",
        "  if position_to_replace<0 or position_to_replace>8:\n",
        "    print(\"Invalid Input\")\n",
        "    position_to_replace=int(input(\"Please choose between 1 and 9 :- \"))\n",
        "  else:\n",
        "    available[position_to_replace]=\"X\"\n",
        "    print(available)\n",
        "    print()\n",
        "    break\n",
        "\n",
        "display_board(available)\n"
      ],
      "metadata": {
        "colab": {
          "base_uri": "https://localhost:8080/"
        },
        "id": "G77QvJUXu2kB",
        "outputId": "a3e4d884-e712-4166-f2ba-d7b2e13da8bd"
      },
      "execution_count": 6,
      "outputs": [
        {
          "output_type": "stream",
          "name": "stdout",
          "text": [
            " 7 | 8 | 9 \n",
            "-----------\n",
            " 4 | 5 | 6 \n",
            "-----------\n",
            " 1 | 2 | 3 \n",
            "Please choose between 1 and 9 :- 0\n",
            "Invalid Input\n",
            "Please choose between 1 and 9 :- 10\n",
            "Invalid Input\n",
            "Please choose between 1 and 9 :- 8\n",
            "[1, 2, 3, 4, 5, 6, 7, 8, 'X']\n",
            "\n",
            " 7 | 8 | X \n",
            "-----------\n",
            " 4 | 5 | 6 \n",
            "-----------\n",
            " 1 | 2 | 3 \n"
          ]
        }
      ]
    }
  ]
}