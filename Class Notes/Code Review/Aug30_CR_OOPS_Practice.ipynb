{
  "nbformat": 4,
  "nbformat_minor": 0,
  "metadata": {
    "colab": {
      "provenance": []
    },
    "kernelspec": {
      "name": "python3",
      "display_name": "Python 3"
    },
    "language_info": {
      "name": "python"
    }
  },
  "cells": [
    {
      "cell_type": "markdown",
      "source": [
        "1) School Management System: Design classes for School, Student, and Teacher. Students can enroll in courses, teachers can assign grades, and the school can generate reports.\n",
        "\n",
        "\n",
        "\n",
        "2) Online Quiz Application: Develop classes for Question, Quiz, and User. Users can take quizzes, answer questions, and see their scores at the end.\n",
        "\n",
        "\n",
        "\n",
        "3) Vehicle Rental System: Build classes for Vehicle, Car, and Bike. Implement a rental system where customers can rent vehicles and the system can track availability.\n",
        "\n",
        "\n",
        "\n",
        "4) Social Media System: Create classes for User, Post, and Comment. Users can create posts, like posts, and comment on posts. Implement methods to display posts with their interactions."
      ],
      "metadata": {
        "id": "AU9PIkxD7Pur"
      }
    },
    {
      "cell_type": "code",
      "execution_count": null,
      "metadata": {
        "id": "S9bBouum7L6R"
      },
      "outputs": [],
      "source": [
        "#1 School Management System: Design classes for School, Student, and Teacher. Students can enroll in courses, teachers can assign grades, and the school can generate reports.\n",
        "\n",
        "\n",
        "class School:\n",
        "  def __init__(self, name, location, email, phone):\n",
        "    pass\n",
        "    self.students_list = []\n",
        "    self.courses_list = []\n",
        "\n",
        "  def print_details:\n",
        "    pass\n",
        "\n",
        "\n",
        "  def generate_reports(self):\n",
        "    for self.name in\n",
        "\n",
        "\n",
        "class Student(School):\n",
        "  def __init__(self, std_name, rollno, grade, courses_enrolled):\n",
        "    self.name = std_name\n",
        "    self.rollno = roll_no\n",
        "    self.grade = std_grade\n",
        "    self.course = course_enrolled\n",
        "\n",
        "  def enroll_std(self, course_name):\n",
        "    sel.course_name = course_name\n",
        "\n",
        "\n",
        "    boolean = False\n",
        "    for std in self.vehicle_items:\n",
        "      if course_name.lower() != vehicle_item.name:\n",
        "        self.vehicle_items.remove(vehicle_item)\n",
        "        boolean = True\n",
        "        print(\"Item rented successfully\")\n",
        "        break\n",
        "    if not boolean:\n",
        "      print('No such course found in system!')\n",
        "\n",
        "class Teacher(School):\n",
        "  def __init__(self, tname, teacherId, course_taught):\n",
        "    self.name = tname\n",
        "    self.tid = teacherId\n",
        "    self.course = course_taught\n",
        "\n",
        "  def assign_grades(self, subjects):\n",
        "\n",
        "\n",
        "\n",
        "\n",
        "\n"
      ]
    },
    {
      "cell_type": "code",
      "source": [
        "# 2) Online Quiz Application: Develop classes for Question, Quiz, and User. Users can take quizzes, answer questions, and see their scores at the end.\n",
        "\n",
        "class Question:\n",
        "  def __init__(self,  )\n",
        "class Quiz:\n",
        "\n",
        "class User:\n",
        "  def"
      ],
      "metadata": {
        "id": "pttWoIhj-JfK"
      },
      "execution_count": null,
      "outputs": []
    },
    {
      "cell_type": "code",
      "source": [
        "# 3) Vehicle Rental System: Build classes for Vehicle, Car, and Bike. Implement a rental system where customers can rent vehicles and the system can track availability.\n",
        "\n",
        "class Vehicle:\n",
        "\n",
        "  def __init__(self):\n",
        "    self.vehicle_items = []\n",
        "\n",
        "class Car(Vehicle):\n",
        "  def __init__(self, name, model):\n",
        "    self.name = name.lower()\n",
        "\n",
        "  def add_items(self, items):\n",
        "    self.vehicle_items.append(items)\n",
        "\n",
        "  def rent_items(self, item_name):\n",
        "    boolean = False\n",
        "    for vehicle_item in self.vehicle_items:\n",
        "      if item_name.lower() == vehicle_item.name:\n",
        "        self.vehicle_items.remove(vehicle_item)\n",
        "        boolean = True\n",
        "        print(\"Item rented successfully\")\n",
        "        break\n",
        "    if not boolean:\n",
        "      print('No such vehicle found in system!')\n",
        "\n",
        "  def return_items(self, items):\n",
        "    self.add_items(items)\n",
        "\n",
        "class Bike(Vehicle):\n",
        "  def __init__(self, name, model):\n",
        "    self.name = name.lower()\n",
        "\n",
        "  def add_items(self, items):\n",
        "    self.cart_items.append(items)\n",
        "\n",
        "  def rent_items(self, item_name):\n",
        "    boolean = False\n",
        "    for vehicle_item in self.vehicle_items:\n",
        "      if item_name.lower() == vehicle_item.name:\n",
        "        self.vehicle_items.remove(vehicle_item)\n",
        "        boolean = True\n",
        "        print(\"Item rented successfully\")\n",
        "        break\n",
        "    if not boolean:\n",
        "      print('No such vehicle found in system!')\n",
        "\n",
        "  def return_items(self, items):\n",
        "    self.add_items(items)\n"
      ],
      "metadata": {
        "id": "l5000F_0-M-n"
      },
      "execution_count": null,
      "outputs": []
    },
    {
      "cell_type": "code",
      "source": [
        "# Creating items\n",
        "item1 = Vehicle(\"Laptop\", 500)\n",
        "item2 = Vehicle(\"Headphones\", 100)\n",
        "item3 = Vehicle(\"Mouse\", 10)\n",
        "\n",
        "car1 =\n",
        "\n",
        "# Adding items to the cart\n",
        "# Bundling objects-items\n",
        "cart.add_items(item1)\n",
        "cart.add_items(item2)\n",
        "cart.add_items(item3)\n",
        "\n",
        "# Removing an item from the cart\n",
        "cart.remove_items(item2)\n",
        "print(\"Removed items: \", )"
      ],
      "metadata": {
        "id": "VFTCBa0cKNlF"
      },
      "execution_count": null,
      "outputs": []
    },
    {
      "cell_type": "code",
      "source": [
        "# 4) Social Media System: Create classes for User, Post, and Comment. Users can create posts, like posts, and comment on posts. Implement methods to display posts with their interactions.\n",
        "\n",
        "\n",
        "class User:\n",
        "  def __init__(self, username):\n",
        "    self.username = username\n",
        "    self.posts = []\n",
        "\n",
        "  def create_post(self, post):\n",
        "\n",
        "  def like_post(self, post):\n",
        "\n",
        "class Post:\n",
        "  def create_post(self, post):\n",
        "    self.post = post\n",
        "\n",
        "\n",
        "  def display_post(self):\n",
        "    print(self.post)\n",
        "\n",
        "class Like:\n",
        "  def like_post(self, post):\n",
        "    self.post = post\n",
        "\n",
        "  def display_like(self):\n",
        "    print(self.post)\n",
        "\n",
        "class Comment:\n",
        "  def comment(self, comment):\n",
        "    self.comment = comment\n",
        "\n",
        "  def display_comment(self):\n",
        "    print(self.comment)"
      ],
      "metadata": {
        "id": "jMK-sQay900M"
      },
      "execution_count": null,
      "outputs": []
    }
  ]
}