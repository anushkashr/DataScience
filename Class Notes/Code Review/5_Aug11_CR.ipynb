{
  "nbformat": 4,
  "nbformat_minor": 0,
  "metadata": {
    "colab": {
      "provenance": []
    },
    "kernelspec": {
      "name": "python3",
      "display_name": "Python 3"
    },
    "language_info": {
      "name": "python"
    }
  },
  "cells": [
    {
      "cell_type": "code",
      "execution_count": null,
      "metadata": {
        "colab": {
          "base_uri": "https://localhost:8080/"
        },
        "id": "eVYmPyBunGWi",
        "outputId": "b6389922-0c4b-4444-f888-5affbab1a882"
      },
      "outputs": [
        {
          "output_type": "stream",
          "name": "stdout",
          "text": [
            "The number is divisible by 7\n"
          ]
        }
      ],
      "source": [
        "#1) check if a number is divisible by 7 or not\n",
        "\n",
        "num = 14\n",
        "\n",
        "if num % 7 == 0:\n",
        "  print(\"The number is divisible by 7\")\n"
      ]
    },
    {
      "cell_type": "code",
      "source": [
        "#2) Write a program to print hello if number is multiple of five or 3 else print bye\n",
        "\n",
        "num2 = 30\n",
        "\n",
        "if num2 % 5 == 0 or num2 % 3 == 0:\n",
        "  print(\"Hello\")\n",
        "else:\n",
        "  print(\"Bye\")\n"
      ],
      "metadata": {
        "colab": {
          "base_uri": "https://localhost:8080/"
        },
        "id": "UXfyxRJjnMXk",
        "outputId": "5393711c-d077-4784-f786-fa602364f516"
      },
      "execution_count": null,
      "outputs": [
        {
          "output_type": "stream",
          "name": "stdout",
          "text": [
            "Hello\n"
          ]
        }
      ]
    },
    {
      "cell_type": "code",
      "source": [
        "#Write a python program that will check for the following conditions:\n",
        "\n",
        "##If the light is green – Car is allowed to go\n",
        "#If the light is yellow – Car has to wait\n",
        "#If the light is red – Car has to stop\n",
        "#Other signal – unrecognized signal. Example black, blue, etc…\n",
        "\n",
        "light = input(\"Enter color of light: \").lower()\n",
        "if light == \"green\":\n",
        "  print(\"Car is allowed to go\")\n",
        "elif light == \"yellow\":\n",
        "  print(\"Car has to wait\")\n",
        "elif light == \"red\":\n",
        "  print(\"Car has to stop\")\n",
        "else:\n",
        "  print(\"Unrecognized signal\")\n",
        "\n"
      ],
      "metadata": {
        "colab": {
          "base_uri": "https://localhost:8080/"
        },
        "id": "BUE3sDELumHv",
        "outputId": "56f81e30-d54a-4781-fa2a-b11e8f642173"
      },
      "execution_count": null,
      "outputs": [
        {
          "output_type": "stream",
          "name": "stdout",
          "text": [
            "Enter color of light: RED\n",
            "Car has to stop\n"
          ]
        }
      ]
    },
    {
      "cell_type": "code",
      "source": [
        "'''Write a program to trace your subject mark. Your program should fulfill the following conditions:\n",
        "\n",
        "If the subject mark is below 0 and above 100, print “error: mark should be between 0 and 100 only”\n",
        "Students will fail in the subject if their mark is below 50.\n",
        "Students will pass in the subject if they score 50 and above.\n",
        "If subject mark is between 50 and 60, grade student as good.\n",
        "If subject mark is between 60 and 80, grade student as very good.\n",
        "If subject mark is between 80 and 100, grade student as outstanding.\n",
        "\n",
        "Make sure to print their mark in every statement to prove that the condition is fulfilled.\n",
        "Moreover, name, class, and section should be also displayed along with the marks.'''\n",
        "\n",
        "\n",
        "name = (input(\"Enter Name: \")).title()\n",
        "class1 = (input(\"Enter class: \"))\n",
        "section = (input(\"Enter section: \"))\n",
        "subject = input(\"Enter subject name: \")\n",
        "mark = float(input(\"Enter the subject mark: \"))\n",
        "\n",
        "if mark < 0 or mark > 100:\n",
        "    print(\"Error: Mark should be between 0 and 100 only\")\n",
        "elif mark < 50:\n",
        "    print(name, \"Mark is \", mark)\n",
        "    print(\"Failed in \", subject)\n",
        "elif mark >=50:\n",
        "  print(\"Pass\")\n",
        "  elif mark >= 50 and mark < 60:\n",
        "    print(\"Good\")\n",
        "    elif mark >= 60 and mark < 80:\n",
        "      print(\"Very Good\")\n",
        "    else:\n",
        "      print(\"Outstanding\")\n",
        "\n"
      ],
      "metadata": {
        "id": "cct9GojPzHh_"
      },
      "execution_count": null,
      "outputs": []
    }
  ]
}