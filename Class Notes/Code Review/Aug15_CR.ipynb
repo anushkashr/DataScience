{
  "nbformat": 4,
  "nbformat_minor": 0,
  "metadata": {
    "colab": {
      "provenance": []
    },
    "kernelspec": {
      "name": "python3",
      "display_name": "Python 3"
    },
    "language_info": {
      "name": "python"
    }
  },
  "cells": [
    {
      "cell_type": "code",
      "execution_count": null,
      "metadata": {
        "colab": {
          "base_uri": "https://localhost:8080/"
        },
        "id": "POnt4y_hKTOO",
        "outputId": "c86deeea-ab11-4b3c-b58c-b736454f6300"
      },
      "outputs": [
        {
          "output_type": "stream",
          "name": "stdout",
          "text": [
            "Before append [54, 23, 7, 324, 74]\n",
            "After append [54, 23, 7, 324, 74, 8]\n"
          ]
        }
      ],
      "source": [
        "#append function\n",
        "#Appends or adds specified item to the last index of list\n",
        "\n",
        "a=[54,23,7,324,74]\n",
        "print(\"Before append\", a)\n",
        "\n",
        "a.append(8)\n",
        "print(\"After append\", a)"
      ]
    },
    {
      "cell_type": "code",
      "source": [
        "#clear function\n",
        "#empties the list\n",
        "\n",
        "a=[54,23,7,324,74]\n",
        "print(\"Before clear\", a)\n",
        "\n",
        "a.clear()\n",
        "print(\"After clear\", a)\n",
        "print(len(a))"
      ],
      "metadata": {
        "colab": {
          "base_uri": "https://localhost:8080/"
        },
        "id": "aVwwN4jNLC5e",
        "outputId": "2201fbda-6cde-481c-9985-12699ef96c65"
      },
      "execution_count": null,
      "outputs": [
        {
          "output_type": "stream",
          "name": "stdout",
          "text": [
            "Before clear [54, 23, 7, 324, 74]\n",
            "After clear []\n",
            "0\n"
          ]
        }
      ]
    },
    {
      "cell_type": "code",
      "source": [
        "a_list = [1,2,3,4,5,6,7]\n",
        "a_list.append([8,9,10])\n",
        "\n",
        "print(a_list)\n",
        "print(len(a_list))"
      ],
      "metadata": {
        "colab": {
          "base_uri": "https://localhost:8080/"
        },
        "id": "RweIFtedP7nR",
        "outputId": "1c6359de-c8c8-46c7-b7de-280a8b67f097"
      },
      "execution_count": null,
      "outputs": [
        {
          "output_type": "stream",
          "name": "stdout",
          "text": [
            "[1, 2, 3, 4, 5, 6, 7, [8, 9, 10]]\n",
            "8\n"
          ]
        }
      ]
    },
    {
      "cell_type": "code",
      "source": [
        "#Getting 9\n",
        "\n",
        "a_list = [1,2,3,4,5,6,7]\n",
        "a_list.append([8,9,10])\n",
        "\n",
        "print(a_list)\n",
        "print((a_list[7][1]))"
      ],
      "metadata": {
        "colab": {
          "base_uri": "https://localhost:8080/"
        },
        "id": "HHN3pOhqQUm-",
        "outputId": "2dd22200-b118-47bc-fa20-1df14d86c4f5"
      },
      "execution_count": null,
      "outputs": [
        {
          "output_type": "stream",
          "name": "stdout",
          "text": [
            "[1, 2, 3, 4, 5, 6, 7, [8, 9, 10]]\n",
            "9\n"
          ]
        }
      ]
    },
    {
      "cell_type": "code",
      "source": [
        "#Reversing the appended item\n",
        "a_list = [1,2,3,4,5,6,7]\n",
        "a_list.append([8,9,10])\n",
        "\n",
        "print(a_list)\n",
        "\n",
        "print(a_list[7][::-1])"
      ],
      "metadata": {
        "colab": {
          "base_uri": "https://localhost:8080/"
        },
        "id": "tqY6ytPGSarT",
        "outputId": "9ace1d5d-8607-4fa7-c255-836f285c7ccc"
      },
      "execution_count": null,
      "outputs": [
        {
          "output_type": "stream",
          "name": "stdout",
          "text": [
            "[1, 2, 3, 4, 5, 6, 7, [8, 9, 10]]\n",
            "[10, 9, 8]\n"
          ]
        }
      ]
    },
    {
      "cell_type": "code",
      "source": [
        "#Insert function takes in two values index and object/value/number\n",
        "\n",
        "a_list = [11,22,33,44,55,66,77,33]\n",
        "a_list.insert(5,111)\n",
        "\n",
        "print(a_list)"
      ],
      "metadata": {
        "colab": {
          "base_uri": "https://localhost:8080/"
        },
        "id": "nEwvKA7-UNdo",
        "outputId": "caca63bf-8d58-48ae-90f8-629377dfc249"
      },
      "execution_count": null,
      "outputs": [
        {
          "output_type": "stream",
          "name": "stdout",
          "text": [
            "[11, 22, 33, 44, 55, 111, 66, 77, 33]\n"
          ]
        }
      ]
    },
    {
      "cell_type": "code",
      "source": [
        "#pop function\n",
        "\n",
        "a_list = [1,2,3,4,5,6,7]\n",
        "a_list.pop(6)\n",
        "\n",
        "print(a_list)"
      ],
      "metadata": {
        "colab": {
          "base_uri": "https://localhost:8080/"
        },
        "id": "kukziL-KWIRJ",
        "outputId": "c72b8f6d-9c64-48f8-f080-ca05c74741b5"
      },
      "execution_count": null,
      "outputs": [
        {
          "output_type": "stream",
          "name": "stdout",
          "text": [
            "[1, 2, 3, 4, 5, 6]\n"
          ]
        }
      ]
    },
    {
      "cell_type": "code",
      "source": [
        "#remove function\n",
        "a_list = [1,2,3,4,5,6,7]\n",
        "a_list.remove(6)\n",
        "\n",
        "print(a_list)"
      ],
      "metadata": {
        "id": "_VaOUUkLWskK",
        "colab": {
          "base_uri": "https://localhost:8080/"
        },
        "outputId": "117fd486-815d-4d47-f5e1-97486213b233"
      },
      "execution_count": 1,
      "outputs": [
        {
          "output_type": "stream",
          "name": "stdout",
          "text": [
            "[1, 2, 3, 4, 5, 7]\n"
          ]
        }
      ]
    },
    {
      "cell_type": "code",
      "source": [
        "#Tuple functions\n",
        "#Only two functions as tuple is immutable\n",
        "#count\n",
        "#index\n",
        "\n",
        "tup1 = (1,2,3,4,2,4)\n",
        "tup1.count(4)"
      ],
      "metadata": {
        "colab": {
          "base_uri": "https://localhost:8080/"
        },
        "id": "6AWTz7fvaj3e",
        "outputId": "0faf7e19-6896-4a50-9395-11591c9eefe6"
      },
      "execution_count": null,
      "outputs": [
        {
          "output_type": "execute_result",
          "data": {
            "text/plain": [
              "2"
            ]
          },
          "metadata": {},
          "execution_count": 21
        }
      ]
    },
    {
      "cell_type": "code",
      "source": [
        "#index\n",
        "tup1 = (1,2,3,4,2,4)\n",
        "tup1.index(4)"
      ],
      "metadata": {
        "colab": {
          "base_uri": "https://localhost:8080/"
        },
        "id": "gcK1rnbAa-w0",
        "outputId": "9bde66eb-fc58-4f9e-e0e6-d87b580f6b08"
      },
      "execution_count": null,
      "outputs": [
        {
          "output_type": "execute_result",
          "data": {
            "text/plain": [
              "3"
            ]
          },
          "metadata": {},
          "execution_count": 22
        }
      ]
    },
    {
      "cell_type": "code",
      "source": [
        "#Question 1) Remove all repeated elements from the list Given below using for loop.\n",
        "\n",
        "a=[1,2,3,4,5,11,1,2,6,1,8]\n",
        "unique_list = []\n",
        "for k in a:\n",
        "  if k in unique_list:\n",
        "    print('Repeated value: ',k)\n",
        "  else:\n",
        "    unique_list.append(k)\n",
        "print(unique_list)"
      ],
      "metadata": {
        "colab": {
          "base_uri": "https://localhost:8080/"
        },
        "id": "wB-fbchkcFXX",
        "outputId": "3928ae17-c13e-4b37-cd0a-84bdb4fdcc87"
      },
      "execution_count": null,
      "outputs": [
        {
          "output_type": "stream",
          "name": "stdout",
          "text": [
            "Repeated value:  1\n",
            "Repeated value:  2\n",
            "Repeated value:  1\n",
            "[1, 2, 3, 4, 5, 11, 6, 8]\n"
          ]
        }
      ]
    },
    {
      "cell_type": "code",
      "source": [
        "#Question 1) Remove all repeated elements from the list Given below using for loop.\n",
        "#Simpler way\n",
        "\n",
        "a=[1,2,3,4,5,11,1,2,6,1,8]\n",
        "print(set(a))"
      ],
      "metadata": {
        "colab": {
          "base_uri": "https://localhost:8080/"
        },
        "id": "7qTbJ9kXXd30",
        "outputId": "f1c3439c-0a32-4e82-a222-17d73795ee55"
      },
      "execution_count": null,
      "outputs": [
        {
          "output_type": "stream",
          "name": "stdout",
          "text": [
            "{1, 2, 3, 4, 5, 6, 8, 11}\n"
          ]
        }
      ]
    },
    {
      "cell_type": "code",
      "source": [
        "#Question 2) Print all prime numbers below 100\n",
        "\n",
        "for i in range(2,100):\n",
        "    for j in range(2,100):\n",
        "        if i%j == 0:\n",
        "            break\n",
        "    if i == j:\n",
        "        print(i,end=\",\")\n",
        "\n",
        "\n"
      ],
      "metadata": {
        "colab": {
          "base_uri": "https://localhost:8080/"
        },
        "id": "2VeDn1Cem4VR",
        "outputId": "4d556e87-5520-4bfb-93cd-bcd2cd779992"
      },
      "execution_count": null,
      "outputs": [
        {
          "output_type": "stream",
          "name": "stdout",
          "text": [
            "2,3,5,7,11,13,17,19,23,29,31,37,41,43,47,53,59,61,67,71,73,79,83,89,97,"
          ]
        }
      ]
    },
    {
      "cell_type": "code",
      "source": [
        "#Question 3) print list in reverse order using for loop\n",
        "list1 = [1, 2, 3, 4, 5]\n",
        "print(\"List before reverse : \", list1)\n",
        "reversed_list = []\n",
        "for value in list1:\n",
        "  reversed_list = [value] + reversed_list\n",
        "print(\"List after reverse : \", reversed_list)"
      ],
      "metadata": {
        "colab": {
          "base_uri": "https://localhost:8080/"
        },
        "id": "5NOQWG9jSjHA",
        "outputId": "1f34b813-d162-47db-91ff-37bce8837103"
      },
      "execution_count": null,
      "outputs": [
        {
          "output_type": "stream",
          "name": "stdout",
          "text": [
            "List before reverse :  [1, 2, 3, 4, 5]\n",
            "List after reverse :  [5, 4, 3, 2, 1]\n"
          ]
        }
      ]
    },
    {
      "cell_type": "code",
      "source": [
        "#Question 3) print list in reverse order using for loop\n",
        "#different way\n",
        "\n",
        "a = [1,2,3,4,5,6,7]\n",
        "reverse_list = []\n",
        "\n",
        "#start, stop, steps\n",
        "for k in a[::-1]:\n",
        "  reverse_list.append(k)\n",
        "print(reverse_list)"
      ],
      "metadata": {
        "colab": {
          "base_uri": "https://localhost:8080/"
        },
        "id": "9OZEWGUYesoU",
        "outputId": "af6eacf5-56c8-40ad-dd22-8dd06663cdbc"
      },
      "execution_count": null,
      "outputs": [
        {
          "output_type": "stream",
          "name": "stdout",
          "text": [
            "[7, 6, 5, 4, 3, 2, 1]\n"
          ]
        }
      ]
    },
    {
      "cell_type": "code",
      "source": [
        "#Question 4)  print multiplication table of 13 using for loop\n",
        "\n",
        "for i in range(1,11):\n",
        "  print('13','X', i, '=', i*13, end=' ')\n",
        "  print('\\r')"
      ],
      "metadata": {
        "colab": {
          "base_uri": "https://localhost:8080/"
        },
        "id": "INecpwm4m_pC",
        "outputId": "125d39b1-66a1-4d44-d507-d7ee8f89d864"
      },
      "execution_count": null,
      "outputs": [
        {
          "output_type": "stream",
          "name": "stdout",
          "text": [
            "13 X 1 = 13 \r\n",
            "13 X 2 = 26 \r\n",
            "13 X 3 = 39 \r\n",
            "13 X 4 = 52 \r\n",
            "13 X 5 = 65 \r\n",
            "13 X 6 = 78 \r\n",
            "13 X 7 = 91 \r\n",
            "13 X 8 = 104 \r\n",
            "13 X 9 = 117 \r\n",
            "13 X 10 = 130 \r\n"
          ]
        }
      ]
    }
  ]
}