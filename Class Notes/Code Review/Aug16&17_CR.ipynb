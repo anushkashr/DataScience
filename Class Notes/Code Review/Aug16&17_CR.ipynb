{
  "nbformat": 4,
  "nbformat_minor": 0,
  "metadata": {
    "colab": {
      "provenance": []
    },
    "kernelspec": {
      "name": "python3",
      "display_name": "Python 3"
    },
    "language_info": {
      "name": "python"
    }
  },
  "cells": [
    {
      "cell_type": "code",
      "execution_count": null,
      "metadata": {
        "id": "_ZFsz2z1V-Sa"
      },
      "outputs": [],
      "source": [
        "#Lists\n",
        "#1st way with the values\n",
        "\n",
        "#2nd way with index"
      ]
    },
    {
      "cell_type": "code",
      "source": [
        "a_list=[1,2,3,4,5,11,1,2,6,1,8]\n",
        "\n",
        "# 1st way with the values\n",
        "for k in a_list:\n",
        "  print(k)\n",
        "\n",
        "# 2nd way with index\n",
        "for ind in range(len(a_list)):\n",
        "  print(a_list[ind])"
      ],
      "metadata": {
        "colab": {
          "base_uri": "https://localhost:8080/"
        },
        "id": "bwN6h_DIUiv5",
        "outputId": "e47b2b4d-7cc6-49bb-bdde-e78df964fca1"
      },
      "execution_count": null,
      "outputs": [
        {
          "output_type": "stream",
          "name": "stdout",
          "text": [
            "1\n",
            "2\n",
            "3\n",
            "4\n",
            "5\n",
            "11\n",
            "1\n",
            "2\n",
            "6\n",
            "1\n",
            "8\n"
          ]
        }
      ]
    },
    {
      "cell_type": "code",
      "source": [
        "#Remove all repeated elements from the list Given below using for loop.\n",
        "a_list=[1,2,3,4,5,11,1,2,6,1,8]\n",
        "unique_list=[]\n",
        "for k in a_list:\n",
        "  if k in unique_list:\n",
        "    print(\"Repeated Value :-\",k)\n",
        "  else:\n",
        "    unique_list.append(k)\n",
        "print(unique_list)"
      ],
      "metadata": {
        "colab": {
          "base_uri": "https://localhost:8080/"
        },
        "id": "pYEGgvuYWAo1",
        "outputId": "18862c34-8291-45eb-b97d-cab6cdf5c7c0"
      },
      "execution_count": null,
      "outputs": [
        {
          "output_type": "stream",
          "name": "stdout",
          "text": [
            "Repeated Value :- 1\n",
            "Repeated Value :- 2\n",
            "Repeated Value :- 1\n",
            "[1, 2, 3, 4, 5, 11, 6, 8]\n"
          ]
        }
      ]
    },
    {
      "cell_type": "code",
      "source": [
        "# With Sets\n",
        "a_list=[1,2,3,4,5,11,1,2,6,1,8]\n",
        "print(set(a_list))"
      ],
      "metadata": {
        "colab": {
          "base_uri": "https://localhost:8080/"
        },
        "id": "9O8zgwcBXO_V",
        "outputId": "2e0058ca-42a8-4c84-d78c-48eb1f792fe1"
      },
      "execution_count": null,
      "outputs": [
        {
          "output_type": "stream",
          "name": "stdout",
          "text": [
            "{1, 2, 3, 4, 5, 6, 8, 11}\n"
          ]
        }
      ]
    },
    {
      "cell_type": "code",
      "source": [
        "#Python program to count the total number of digits in a number.\n",
        "\n",
        "num=int(input(\"Enter number:\"))\n",
        "count=0\n",
        "while(num>0):\n",
        "    count=count+1\n",
        "    num = num//10\n",
        "print(\"Total number of digits in the number:\",count)"
      ],
      "metadata": {
        "colab": {
          "base_uri": "https://localhost:8080/"
        },
        "id": "P4WPf_Q6WE1k",
        "outputId": "ea055d54-0cf4-479c-b20e-8767074b99a3"
      },
      "execution_count": 2,
      "outputs": [
        {
          "output_type": "stream",
          "name": "stdout",
          "text": [
            "Enter number:345\n",
            "Total number of digits in the number: 3\n"
          ]
        }
      ]
    },
    {
      "cell_type": "code",
      "source": [
        "#Write a program to find greatest common divisor (GCD) or highest common factor (HCF) of given two numbers.\n",
        "\n",
        "num1 = int(input(\"Enter 1st number:\"))\n",
        "num2 = int(input(\"Enter 2nd number:\"))\n",
        "\n",
        "smallest_num = min(num1, num2)\n",
        "for k in range(smallest_num, -1,-1):\n",
        "  if num1 % k == 0 and num2 % k == 0:\n",
        "    print(\"The GCD is \",k)\n",
        "    break\n",
        ""
      ],
      "metadata": {
        "colab": {
          "base_uri": "https://localhost:8080/"
        },
        "id": "yCa4yWCfhwD4",
        "outputId": "e06a2c5b-c6f5-4f53-f119-74a3b30bd992"
      },
      "execution_count": 3,
      "outputs": [
        {
          "output_type": "stream",
          "name": "stdout",
          "text": [
            "Enter 1st number:34\n",
            "Enter 2nd number:35\n",
            "The GCD is  1\n"
          ]
        }
      ]
    },
    {
      "cell_type": "markdown",
      "source": [
        "August 17"
      ],
      "metadata": {
        "id": "jGSThMi-8RGZ"
      }
    },
    {
      "cell_type": "code",
      "source": [
        "# Question 1) Write a program in Python to display the Factorial of a number.\n",
        "\n",
        "num = int(input('Enter a number: '))\n",
        "\n",
        "facto = 1\n",
        "for i in range(1,num+1):\n",
        "  facto = facto*i\n",
        "print(\"Factorial:\", facto)\n"
      ],
      "metadata": {
        "colab": {
          "base_uri": "https://localhost:8080/"
        },
        "id": "56b8Ex-Ane37",
        "outputId": "f4ba72c9-5e1e-412e-f023-38e0fa5547cd"
      },
      "execution_count": 20,
      "outputs": [
        {
          "output_type": "stream",
          "name": "stdout",
          "text": [
            "Enter a number: 5\n",
            "Factorial: 120\n"
          ]
        }
      ]
    },
    {
      "cell_type": "code",
      "source": [
        "#WAP to separate positive and negative number from a list.\n",
        "\n",
        "lst1 = [34, -45, 67, 23, -97]\n",
        "\n",
        "pos_num = []\n",
        "neg_num = []\n",
        "\n",
        "for i in lst1:\n",
        "  if i < 0:\n",
        "    neg_num.append(i)\n",
        "  else:\n",
        "    pos_num.append(i)\n",
        "\n",
        "print(\"Positive number: \", pos_num)\n",
        "print(\"Negative number: \", neg_num)\n",
        "\n"
      ],
      "metadata": {
        "colab": {
          "base_uri": "https://localhost:8080/"
        },
        "id": "VyWEiXrztb-K",
        "outputId": "f47c936b-23f3-4e64-e990-74743936f9ac"
      },
      "execution_count": 35,
      "outputs": [
        {
          "output_type": "stream",
          "name": "stdout",
          "text": [
            "Positive number:  [34, 67, 23]\n",
            "Negative number:  [-45, -97]\n"
          ]
        }
      ]
    },
    {
      "cell_type": "code",
      "source": [
        "#3) display fibonnaci series upto 10 terms\n",
        "\n",
        "num1 = int(input('Enter a number: '))\n",
        "num2 = int(input('Enter another number: '))\n",
        "\n",
        "print(num1,',', num2, end=', ')\n",
        "\n",
        "for i in range(10):\n",
        "  fibo = num1 + num2\n",
        "  print(fibo, end=', ')\n",
        "\n",
        "  num1 = num2\n",
        "  num2 = fibo\n"
      ],
      "metadata": {
        "colab": {
          "base_uri": "https://localhost:8080/"
        },
        "id": "Z78GvDyWuSyL",
        "outputId": "ab60218f-818d-4334-8d49-c8649a3940c2"
      },
      "execution_count": 52,
      "outputs": [
        {
          "output_type": "stream",
          "name": "stdout",
          "text": [
            "Enter a number: 0\n",
            "Enter another number: 1\n",
            "0 , 1, 1, 2, 3, 5, 8, 13, 21, 34, 55, 89, "
          ]
        }
      ]
    },
    {
      "cell_type": "code",
      "source": [
        "#3 Fibonacci series using while loop\n",
        "\n",
        "fibo_list = [0,1]\n",
        "num_of_terms = int(input('Enter number of terms: '))\n",
        "\n",
        "while len(fibo_list) < num_of_terms:\n",
        "  next_fibo = fibo_list[-1]+fibo_list[-2]\n",
        "  fibo_list.append(next_fibo)\n",
        "print(fibo_list)\n",
        "\n"
      ],
      "metadata": {
        "colab": {
          "base_uri": "https://localhost:8080/"
        },
        "id": "h06ZR5c2z7b4",
        "outputId": "996e4624-d941-401a-a110-e129745d0db5"
      },
      "execution_count": 49,
      "outputs": [
        {
          "output_type": "stream",
          "name": "stdout",
          "text": [
            "Enter number of terms: 10\n",
            "[0, 1, 1, 2, 3, 5, 8, 13, 21, 34]\n"
          ]
        }
      ]
    }
  ]
}