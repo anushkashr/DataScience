{
  "nbformat": 4,
  "nbformat_minor": 0,
  "metadata": {
    "colab": {
      "provenance": []
    },
    "kernelspec": {
      "name": "python3",
      "display_name": "Python 3"
    },
    "language_info": {
      "name": "python"
    }
  },
  "cells": [
    {
      "cell_type": "code",
      "execution_count": null,
      "metadata": {
        "colab": {
          "base_uri": "https://localhost:8080/"
        },
        "id": "bM0WKi6udpf9",
        "outputId": "7ad04e8f-e672-4760-df40-9694fc5aed4f"
      },
      "outputs": [
        {
          "output_type": "execute_result",
          "data": {
            "text/plain": [
              "['1', 2, 3, 4, 1]"
            ]
          },
          "metadata": {},
          "execution_count": 12
        }
      ],
      "source": [
        "#1) Swap first and last element of the list\n",
        "\n",
        "'''def swap():\n",
        "  a=[1,2,5,10,'1']\n",
        "  x = a[0]\n",
        "  y = a[-1]\n",
        "  z = 0\n",
        "  for i in a:\n",
        "    x = y\n",
        "    y = z\n",
        "    z = x\n",
        "  print(a)\n",
        "\n",
        "swap()'''\n",
        "\n",
        "\n",
        "def swap(a):\n",
        "    temp = a[0]\n",
        "    a[0] = a[-1]\n",
        "    a[-1] = temp\n",
        "    return a\n",
        "swap([1,2,3,4,'1'])"
      ]
    },
    {
      "cell_type": "code",
      "source": [],
      "metadata": {
        "id": "SZMjj4UbfLCS"
      },
      "execution_count": null,
      "outputs": []
    }
  ]
}