{
  "nbformat": 4,
  "nbformat_minor": 0,
  "metadata": {
    "colab": {
      "provenance": []
    },
    "kernelspec": {
      "name": "python3",
      "display_name": "Python 3"
    },
    "language_info": {
      "name": "python"
    }
  },
  "cells": [
    {
      "cell_type": "markdown",
      "source": [
        "The following code will load the Iris dataset, split it into training and testing sets, train an XGBoost classifier, make predictions on the test set, and evaluate the model's performance."
      ],
      "metadata": {
        "id": "LuQ2dmTu1svJ"
      }
    },
    {
      "cell_type": "code",
      "source": [
        "import xgboost as xgb\n",
        "import pandas as pd\n",
        "from sklearn.datasets import load_iris\n",
        "from sklearn.model_selection import train_test_split\n",
        "from sklearn.metrics import accuracy_score, classification_report, confusion_matrix\n"
      ],
      "metadata": {
        "id": "sG1LOQiEzl4D"
      },
      "execution_count": 2,
      "outputs": []
    },
    {
      "cell_type": "code",
      "execution_count": 14,
      "metadata": {
        "id": "5MtQF0NJvgeA"
      },
      "outputs": [],
      "source": [
        "from sklearn.datasets import load_iris\n",
        "iris = load_iris()\n",
        "X = iris.data\n",
        "y = iris.target\n"
      ]
    },
    {
      "cell_type": "code",
      "source": [
        "##Transforming data into test and train\n",
        "X_train, X_test, y_train, y_test = train_test_split(X, y, test_size=0.2, random_state=42)\n",
        "X_train, X_test, y_train, y_test"
      ],
      "metadata": {
        "colab": {
          "base_uri": "https://localhost:8080/"
        },
        "id": "E32XXrbFz29c",
        "outputId": "6ae88995-49bc-4ab6-9614-14ec76860735"
      },
      "execution_count": 5,
      "outputs": [
        {
          "output_type": "execute_result",
          "data": {
            "text/plain": [
              "(array([[4.6, 3.6, 1. , 0.2],\n",
              "        [5.7, 4.4, 1.5, 0.4],\n",
              "        [6.7, 3.1, 4.4, 1.4],\n",
              "        [4.8, 3.4, 1.6, 0.2],\n",
              "        [4.4, 3.2, 1.3, 0.2],\n",
              "        [6.3, 2.5, 5. , 1.9],\n",
              "        [6.4, 3.2, 4.5, 1.5],\n",
              "        [5.2, 3.5, 1.5, 0.2],\n",
              "        [5. , 3.6, 1.4, 0.2],\n",
              "        [5.2, 4.1, 1.5, 0.1],\n",
              "        [5.8, 2.7, 5.1, 1.9],\n",
              "        [6. , 3.4, 4.5, 1.6],\n",
              "        [6.7, 3.1, 4.7, 1.5],\n",
              "        [5.4, 3.9, 1.3, 0.4],\n",
              "        [5.4, 3.7, 1.5, 0.2],\n",
              "        [5.5, 2.4, 3.7, 1. ],\n",
              "        [6.3, 2.8, 5.1, 1.5],\n",
              "        [6.4, 3.1, 5.5, 1.8],\n",
              "        [6.6, 3. , 4.4, 1.4],\n",
              "        [7.2, 3.6, 6.1, 2.5],\n",
              "        [5.7, 2.9, 4.2, 1.3],\n",
              "        [7.6, 3. , 6.6, 2.1],\n",
              "        [5.6, 3. , 4.5, 1.5],\n",
              "        [5.1, 3.5, 1.4, 0.2],\n",
              "        [7.7, 2.8, 6.7, 2. ],\n",
              "        [5.8, 2.7, 4.1, 1. ],\n",
              "        [5.2, 3.4, 1.4, 0.2],\n",
              "        [5. , 3.5, 1.3, 0.3],\n",
              "        [5.1, 3.8, 1.9, 0.4],\n",
              "        [5. , 2. , 3.5, 1. ],\n",
              "        [6.3, 2.7, 4.9, 1.8],\n",
              "        [4.8, 3.4, 1.9, 0.2],\n",
              "        [5. , 3. , 1.6, 0.2],\n",
              "        [5.1, 3.3, 1.7, 0.5],\n",
              "        [5.6, 2.7, 4.2, 1.3],\n",
              "        [5.1, 3.4, 1.5, 0.2],\n",
              "        [5.7, 3. , 4.2, 1.2],\n",
              "        [7.7, 3.8, 6.7, 2.2],\n",
              "        [4.6, 3.2, 1.4, 0.2],\n",
              "        [6.2, 2.9, 4.3, 1.3],\n",
              "        [5.7, 2.5, 5. , 2. ],\n",
              "        [5.5, 4.2, 1.4, 0.2],\n",
              "        [6. , 3. , 4.8, 1.8],\n",
              "        [5.8, 2.7, 5.1, 1.9],\n",
              "        [6. , 2.2, 4. , 1. ],\n",
              "        [5.4, 3. , 4.5, 1.5],\n",
              "        [6.2, 3.4, 5.4, 2.3],\n",
              "        [5.5, 2.3, 4. , 1.3],\n",
              "        [5.4, 3.9, 1.7, 0.4],\n",
              "        [5. , 2.3, 3.3, 1. ],\n",
              "        [6.4, 2.7, 5.3, 1.9],\n",
              "        [5. , 3.3, 1.4, 0.2],\n",
              "        [5. , 3.2, 1.2, 0.2],\n",
              "        [5.5, 2.4, 3.8, 1.1],\n",
              "        [6.7, 3. , 5. , 1.7],\n",
              "        [4.9, 3.1, 1.5, 0.2],\n",
              "        [5.8, 2.8, 5.1, 2.4],\n",
              "        [5. , 3.4, 1.5, 0.2],\n",
              "        [5. , 3.5, 1.6, 0.6],\n",
              "        [5.9, 3.2, 4.8, 1.8],\n",
              "        [5.1, 2.5, 3. , 1.1],\n",
              "        [6.9, 3.2, 5.7, 2.3],\n",
              "        [6. , 2.7, 5.1, 1.6],\n",
              "        [6.1, 2.6, 5.6, 1.4],\n",
              "        [7.7, 3. , 6.1, 2.3],\n",
              "        [5.5, 2.5, 4. , 1.3],\n",
              "        [4.4, 2.9, 1.4, 0.2],\n",
              "        [4.3, 3. , 1.1, 0.1],\n",
              "        [6. , 2.2, 5. , 1.5],\n",
              "        [7.2, 3.2, 6. , 1.8],\n",
              "        [4.6, 3.1, 1.5, 0.2],\n",
              "        [5.1, 3.5, 1.4, 0.3],\n",
              "        [4.4, 3. , 1.3, 0.2],\n",
              "        [6.3, 2.5, 4.9, 1.5],\n",
              "        [6.3, 3.4, 5.6, 2.4],\n",
              "        [4.6, 3.4, 1.4, 0.3],\n",
              "        [6.8, 3. , 5.5, 2.1],\n",
              "        [6.3, 3.3, 6. , 2.5],\n",
              "        [4.7, 3.2, 1.3, 0.2],\n",
              "        [6.1, 2.9, 4.7, 1.4],\n",
              "        [6.5, 2.8, 4.6, 1.5],\n",
              "        [6.2, 2.8, 4.8, 1.8],\n",
              "        [7. , 3.2, 4.7, 1.4],\n",
              "        [6.4, 3.2, 5.3, 2.3],\n",
              "        [5.1, 3.8, 1.6, 0.2],\n",
              "        [6.9, 3.1, 5.4, 2.1],\n",
              "        [5.9, 3. , 4.2, 1.5],\n",
              "        [6.5, 3. , 5.2, 2. ],\n",
              "        [5.7, 2.6, 3.5, 1. ],\n",
              "        [5.2, 2.7, 3.9, 1.4],\n",
              "        [6.1, 3. , 4.6, 1.4],\n",
              "        [4.5, 2.3, 1.3, 0.3],\n",
              "        [6.6, 2.9, 4.6, 1.3],\n",
              "        [5.5, 2.6, 4.4, 1.2],\n",
              "        [5.3, 3.7, 1.5, 0.2],\n",
              "        [5.6, 3. , 4.1, 1.3],\n",
              "        [7.3, 2.9, 6.3, 1.8],\n",
              "        [6.7, 3.3, 5.7, 2.1],\n",
              "        [5.1, 3.7, 1.5, 0.4],\n",
              "        [4.9, 2.4, 3.3, 1. ],\n",
              "        [6.7, 3.3, 5.7, 2.5],\n",
              "        [7.2, 3. , 5.8, 1.6],\n",
              "        [4.9, 3.6, 1.4, 0.1],\n",
              "        [6.7, 3.1, 5.6, 2.4],\n",
              "        [4.9, 3. , 1.4, 0.2],\n",
              "        [6.9, 3.1, 4.9, 1.5],\n",
              "        [7.4, 2.8, 6.1, 1.9],\n",
              "        [6.3, 2.9, 5.6, 1.8],\n",
              "        [5.7, 2.8, 4.1, 1.3],\n",
              "        [6.5, 3. , 5.5, 1.8],\n",
              "        [6.3, 2.3, 4.4, 1.3],\n",
              "        [6.4, 2.9, 4.3, 1.3],\n",
              "        [5.6, 2.8, 4.9, 2. ],\n",
              "        [5.9, 3. , 5.1, 1.8],\n",
              "        [5.4, 3.4, 1.7, 0.2],\n",
              "        [6.1, 2.8, 4. , 1.3],\n",
              "        [4.9, 2.5, 4.5, 1.7],\n",
              "        [5.8, 4. , 1.2, 0.2],\n",
              "        [5.8, 2.6, 4. , 1.2],\n",
              "        [7.1, 3. , 5.9, 2.1]]),\n",
              " array([[6.1, 2.8, 4.7, 1.2],\n",
              "        [5.7, 3.8, 1.7, 0.3],\n",
              "        [7.7, 2.6, 6.9, 2.3],\n",
              "        [6. , 2.9, 4.5, 1.5],\n",
              "        [6.8, 2.8, 4.8, 1.4],\n",
              "        [5.4, 3.4, 1.5, 0.4],\n",
              "        [5.6, 2.9, 3.6, 1.3],\n",
              "        [6.9, 3.1, 5.1, 2.3],\n",
              "        [6.2, 2.2, 4.5, 1.5],\n",
              "        [5.8, 2.7, 3.9, 1.2],\n",
              "        [6.5, 3.2, 5.1, 2. ],\n",
              "        [4.8, 3. , 1.4, 0.1],\n",
              "        [5.5, 3.5, 1.3, 0.2],\n",
              "        [4.9, 3.1, 1.5, 0.1],\n",
              "        [5.1, 3.8, 1.5, 0.3],\n",
              "        [6.3, 3.3, 4.7, 1.6],\n",
              "        [6.5, 3. , 5.8, 2.2],\n",
              "        [5.6, 2.5, 3.9, 1.1],\n",
              "        [5.7, 2.8, 4.5, 1.3],\n",
              "        [6.4, 2.8, 5.6, 2.2],\n",
              "        [4.7, 3.2, 1.6, 0.2],\n",
              "        [6.1, 3. , 4.9, 1.8],\n",
              "        [5. , 3.4, 1.6, 0.4],\n",
              "        [6.4, 2.8, 5.6, 2.1],\n",
              "        [7.9, 3.8, 6.4, 2. ],\n",
              "        [6.7, 3. , 5.2, 2.3],\n",
              "        [6.7, 2.5, 5.8, 1.8],\n",
              "        [6.8, 3.2, 5.9, 2.3],\n",
              "        [4.8, 3. , 1.4, 0.3],\n",
              "        [4.8, 3.1, 1.6, 0.2]]),\n",
              " array([0, 0, 1, 0, 0, 2, 1, 0, 0, 0, 2, 1, 1, 0, 0, 1, 2, 2, 1, 2, 1, 2,\n",
              "        1, 0, 2, 1, 0, 0, 0, 1, 2, 0, 0, 0, 1, 0, 1, 2, 0, 1, 2, 0, 2, 2,\n",
              "        1, 1, 2, 1, 0, 1, 2, 0, 0, 1, 1, 0, 2, 0, 0, 1, 1, 2, 1, 2, 2, 1,\n",
              "        0, 0, 2, 2, 0, 0, 0, 1, 2, 0, 2, 2, 0, 1, 1, 2, 1, 2, 0, 2, 1, 2,\n",
              "        1, 1, 1, 0, 1, 1, 0, 1, 2, 2, 0, 1, 2, 2, 0, 2, 0, 1, 2, 2, 1, 2,\n",
              "        1, 1, 2, 2, 0, 1, 2, 0, 1, 2]),\n",
              " array([1, 0, 2, 1, 1, 0, 1, 2, 1, 1, 2, 0, 0, 0, 0, 1, 2, 1, 1, 2, 0, 2,\n",
              "        0, 2, 2, 2, 2, 2, 0, 0]))"
            ]
          },
          "metadata": {},
          "execution_count": 5
        }
      ]
    },
    {
      "cell_type": "code",
      "source": [
        "#Create and train XGBoost classifier\n",
        "xgb_classifier = xgb.XGBClassifier()\n",
        "xgb_classifier.fit(X_train, y_train)\n"
      ],
      "metadata": {
        "colab": {
          "base_uri": "https://localhost:8080/",
          "height": 248
        },
        "id": "Fua8JPSwz-bU",
        "outputId": "5689b954-95cd-4e03-d95e-13089efe09c7"
      },
      "execution_count": 6,
      "outputs": [
        {
          "output_type": "execute_result",
          "data": {
            "text/plain": [
              "XGBClassifier(base_score=None, booster=None, callbacks=None,\n",
              "              colsample_bylevel=None, colsample_bynode=None,\n",
              "              colsample_bytree=None, device=None, early_stopping_rounds=None,\n",
              "              enable_categorical=False, eval_metric=None, feature_types=None,\n",
              "              gamma=None, grow_policy=None, importance_type=None,\n",
              "              interaction_constraints=None, learning_rate=None, max_bin=None,\n",
              "              max_cat_threshold=None, max_cat_to_onehot=None,\n",
              "              max_delta_step=None, max_depth=None, max_leaves=None,\n",
              "              min_child_weight=None, missing=nan, monotone_constraints=None,\n",
              "              multi_strategy=None, n_estimators=None, n_jobs=None,\n",
              "              num_parallel_tree=None, objective='multi:softprob', ...)"
            ],
            "text/html": [
              "<style>#sk-container-id-1 {color: black;background-color: white;}#sk-container-id-1 pre{padding: 0;}#sk-container-id-1 div.sk-toggleable {background-color: white;}#sk-container-id-1 label.sk-toggleable__label {cursor: pointer;display: block;width: 100%;margin-bottom: 0;padding: 0.3em;box-sizing: border-box;text-align: center;}#sk-container-id-1 label.sk-toggleable__label-arrow:before {content: \"▸\";float: left;margin-right: 0.25em;color: #696969;}#sk-container-id-1 label.sk-toggleable__label-arrow:hover:before {color: black;}#sk-container-id-1 div.sk-estimator:hover label.sk-toggleable__label-arrow:before {color: black;}#sk-container-id-1 div.sk-toggleable__content {max-height: 0;max-width: 0;overflow: hidden;text-align: left;background-color: #f0f8ff;}#sk-container-id-1 div.sk-toggleable__content pre {margin: 0.2em;color: black;border-radius: 0.25em;background-color: #f0f8ff;}#sk-container-id-1 input.sk-toggleable__control:checked~div.sk-toggleable__content {max-height: 200px;max-width: 100%;overflow: auto;}#sk-container-id-1 input.sk-toggleable__control:checked~label.sk-toggleable__label-arrow:before {content: \"▾\";}#sk-container-id-1 div.sk-estimator input.sk-toggleable__control:checked~label.sk-toggleable__label {background-color: #d4ebff;}#sk-container-id-1 div.sk-label input.sk-toggleable__control:checked~label.sk-toggleable__label {background-color: #d4ebff;}#sk-container-id-1 input.sk-hidden--visually {border: 0;clip: rect(1px 1px 1px 1px);clip: rect(1px, 1px, 1px, 1px);height: 1px;margin: -1px;overflow: hidden;padding: 0;position: absolute;width: 1px;}#sk-container-id-1 div.sk-estimator {font-family: monospace;background-color: #f0f8ff;border: 1px dotted black;border-radius: 0.25em;box-sizing: border-box;margin-bottom: 0.5em;}#sk-container-id-1 div.sk-estimator:hover {background-color: #d4ebff;}#sk-container-id-1 div.sk-parallel-item::after {content: \"\";width: 100%;border-bottom: 1px solid gray;flex-grow: 1;}#sk-container-id-1 div.sk-label:hover label.sk-toggleable__label {background-color: #d4ebff;}#sk-container-id-1 div.sk-serial::before {content: \"\";position: absolute;border-left: 1px solid gray;box-sizing: border-box;top: 0;bottom: 0;left: 50%;z-index: 0;}#sk-container-id-1 div.sk-serial {display: flex;flex-direction: column;align-items: center;background-color: white;padding-right: 0.2em;padding-left: 0.2em;position: relative;}#sk-container-id-1 div.sk-item {position: relative;z-index: 1;}#sk-container-id-1 div.sk-parallel {display: flex;align-items: stretch;justify-content: center;background-color: white;position: relative;}#sk-container-id-1 div.sk-item::before, #sk-container-id-1 div.sk-parallel-item::before {content: \"\";position: absolute;border-left: 1px solid gray;box-sizing: border-box;top: 0;bottom: 0;left: 50%;z-index: -1;}#sk-container-id-1 div.sk-parallel-item {display: flex;flex-direction: column;z-index: 1;position: relative;background-color: white;}#sk-container-id-1 div.sk-parallel-item:first-child::after {align-self: flex-end;width: 50%;}#sk-container-id-1 div.sk-parallel-item:last-child::after {align-self: flex-start;width: 50%;}#sk-container-id-1 div.sk-parallel-item:only-child::after {width: 0;}#sk-container-id-1 div.sk-dashed-wrapped {border: 1px dashed gray;margin: 0 0.4em 0.5em 0.4em;box-sizing: border-box;padding-bottom: 0.4em;background-color: white;}#sk-container-id-1 div.sk-label label {font-family: monospace;font-weight: bold;display: inline-block;line-height: 1.2em;}#sk-container-id-1 div.sk-label-container {text-align: center;}#sk-container-id-1 div.sk-container {/* jupyter's `normalize.less` sets `[hidden] { display: none; }` but bootstrap.min.css set `[hidden] { display: none !important; }` so we also need the `!important` here to be able to override the default hidden behavior on the sphinx rendered scikit-learn.org. See: https://github.com/scikit-learn/scikit-learn/issues/21755 */display: inline-block !important;position: relative;}#sk-container-id-1 div.sk-text-repr-fallback {display: none;}</style><div id=\"sk-container-id-1\" class=\"sk-top-container\"><div class=\"sk-text-repr-fallback\"><pre>XGBClassifier(base_score=None, booster=None, callbacks=None,\n",
              "              colsample_bylevel=None, colsample_bynode=None,\n",
              "              colsample_bytree=None, device=None, early_stopping_rounds=None,\n",
              "              enable_categorical=False, eval_metric=None, feature_types=None,\n",
              "              gamma=None, grow_policy=None, importance_type=None,\n",
              "              interaction_constraints=None, learning_rate=None, max_bin=None,\n",
              "              max_cat_threshold=None, max_cat_to_onehot=None,\n",
              "              max_delta_step=None, max_depth=None, max_leaves=None,\n",
              "              min_child_weight=None, missing=nan, monotone_constraints=None,\n",
              "              multi_strategy=None, n_estimators=None, n_jobs=None,\n",
              "              num_parallel_tree=None, objective=&#x27;multi:softprob&#x27;, ...)</pre><b>In a Jupyter environment, please rerun this cell to show the HTML representation or trust the notebook. <br />On GitHub, the HTML representation is unable to render, please try loading this page with nbviewer.org.</b></div><div class=\"sk-container\" hidden><div class=\"sk-item\"><div class=\"sk-estimator sk-toggleable\"><input class=\"sk-toggleable__control sk-hidden--visually\" id=\"sk-estimator-id-1\" type=\"checkbox\" checked><label for=\"sk-estimator-id-1\" class=\"sk-toggleable__label sk-toggleable__label-arrow\">XGBClassifier</label><div class=\"sk-toggleable__content\"><pre>XGBClassifier(base_score=None, booster=None, callbacks=None,\n",
              "              colsample_bylevel=None, colsample_bynode=None,\n",
              "              colsample_bytree=None, device=None, early_stopping_rounds=None,\n",
              "              enable_categorical=False, eval_metric=None, feature_types=None,\n",
              "              gamma=None, grow_policy=None, importance_type=None,\n",
              "              interaction_constraints=None, learning_rate=None, max_bin=None,\n",
              "              max_cat_threshold=None, max_cat_to_onehot=None,\n",
              "              max_delta_step=None, max_depth=None, max_leaves=None,\n",
              "              min_child_weight=None, missing=nan, monotone_constraints=None,\n",
              "              multi_strategy=None, n_estimators=None, n_jobs=None,\n",
              "              num_parallel_tree=None, objective=&#x27;multi:softprob&#x27;, ...)</pre></div></div></div></div></div>"
            ]
          },
          "metadata": {},
          "execution_count": 6
        }
      ]
    },
    {
      "cell_type": "code",
      "source": [
        "#Make predictions on the test set\n",
        "y_predict = xgb_classifier.predict(X_test)"
      ],
      "metadata": {
        "id": "1iaSpMcG0PyV"
      },
      "execution_count": 11,
      "outputs": []
    },
    {
      "cell_type": "code",
      "source": [
        "# Evaluate the model's performance\n",
        "accuracy = accuracy_score(y_test, y_predict)\n",
        "conf_matrix = confusion_matrix(y_test, y_predict)\n",
        "class_report = classification_report(y_test, y_predict, target_names=iris.target_names)\n",
        "\n",
        "print(\"Accuracy:\", accuracy)\n",
        "print(\"\\nConfusion Matrix:\\n\", conf_matrix)\n",
        "print(\"\\nClassification Report:\\n\", class_report)\n"
      ],
      "metadata": {
        "colab": {
          "base_uri": "https://localhost:8080/"
        },
        "id": "K-zaiYuC0T92",
        "outputId": "14dc1cba-729a-4c4b-f5ed-a2147d77d35c"
      },
      "execution_count": 12,
      "outputs": [
        {
          "output_type": "stream",
          "name": "stdout",
          "text": [
            "Accuracy: 1.0\n",
            "\n",
            "Confusion Matrix:\n",
            " [[10  0  0]\n",
            " [ 0  9  0]\n",
            " [ 0  0 11]]\n",
            "\n",
            "Classification Report:\n",
            "               precision    recall  f1-score   support\n",
            "\n",
            "      setosa       1.00      1.00      1.00        10\n",
            "  versicolor       1.00      1.00      1.00         9\n",
            "   virginica       1.00      1.00      1.00        11\n",
            "\n",
            "    accuracy                           1.00        30\n",
            "   macro avg       1.00      1.00      1.00        30\n",
            "weighted avg       1.00      1.00      1.00        30\n",
            "\n"
          ]
        }
      ]
    }
  ]
}