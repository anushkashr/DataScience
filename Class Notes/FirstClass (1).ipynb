{
  "nbformat": 4,
  "nbformat_minor": 0,
  "metadata": {
    "colab": {
      "provenance": []
    },
    "kernelspec": {
      "name": "python3",
      "display_name": "Python 3"
    },
    "language_info": {
      "name": "python"
    }
  },
  "cells": [
    {
      "cell_type": "code",
      "execution_count": 2,
      "metadata": {
        "id": "9Ma5PA-YzBON",
        "colab": {
          "base_uri": "https://localhost:8080/"
        },
        "outputId": "f79ae2c6-cd2e-4fc3-ea88-6073880f85ac"
      },
      "outputs": [
        {
          "output_type": "stream",
          "name": "stdout",
          "text": [
            "Anushka\n",
            "Anushka\n",
            "F\n"
          ]
        }
      ],
      "source": [
        "#Valid and Invalid variables\n",
        "\n",
        "name = \"Anushka\"\n",
        "_fname = \"Anushka\"\n",
        "gen12der = 'F'\n",
        "\n",
        "#l@stname = \"Shrestha\"\n",
        "\n",
        "print(name)\n",
        "print(_fname)\n",
        "print(gen12der)"
      ]
    }
  ]
}