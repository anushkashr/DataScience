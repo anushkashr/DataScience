{
  "nbformat": 4,
  "nbformat_minor": 0,
  "metadata": {
    "colab": {
      "provenance": []
    },
    "kernelspec": {
      "name": "python3",
      "display_name": "Python 3"
    },
    "language_info": {
      "name": "python"
    }
  },
  "cells": [
    {
      "cell_type": "code",
      "execution_count": null,
      "metadata": {
        "id": "5xk2I5ccERBg"
      },
      "outputs": [],
      "source": [
        "    #print_details() Overrides parent class\n",
        "    #it will print from parent class\n",
        "\n",
        "class person:\n",
        "  def __init__(self, fname, mname, lname):\n",
        "    pass\n",
        "  def print_details(self):\n",
        "    print(self.fname, self.mname, self.lname)\n",
        "\n",
        "class student(person): # child class\n",
        "  def __init__(self, fname, mname, lname):\n",
        "    pass\n",
        "  def print_details(self):\n",
        "    print(self.fname, self.mname, self.lname)\n"
      ]
    },
    {
      "cell_type": "code",
      "source": [
        "class Car:\n",
        "  def __init__(self, brand, model):\n",
        "    self.brand = brand\n",
        "    self.model = model\n",
        "\n",
        "  def move(self):\n",
        "    print(\"Drive!\")\n",
        "\n",
        "class Boat:\n",
        "  def __init__(self, brand, model):\n",
        "    self.brand = brand\n",
        "    self.model = model\n",
        "\n",
        "  def move(self):\n",
        "    print(\"Sail!\")\n",
        "\n",
        "class Plane:\n",
        "  def __init__(self, brand, model):\n",
        "    self.brand = brand\n",
        "    self.model = model\n",
        "\n",
        "  def move(self):\n",
        "    print(\"Fly!\")\n",
        "\n",
        "car1 = Car(\"Ford\", \"Mustang\")       #Create a Car object\n",
        "boat1 = Boat(\"Ibiza\", \"Touring 20\") #Create a Boat object\n",
        "plane1 = Plane(\"Boeing\", \"747\")     #Create a Plane object\n",
        "\n",
        "for x in (car1, boat1, plane1):\n",
        "  x.move()\n",
        "\n",
        "\n",
        "#calling the move function from different classes using for loop\n",
        "#the move function is picking up from different classes which have their own set of codes"
      ],
      "metadata": {
        "colab": {
          "base_uri": "https://localhost:8080/"
        },
        "id": "_wsNfeXNE_Qr",
        "outputId": "e56ec4d3-c452-4e6b-8038-4f9053245e92"
      },
      "execution_count": 1,
      "outputs": [
        {
          "output_type": "stream",
          "name": "stdout",
          "text": [
            "Drive!\n",
            "Sail!\n",
            "Fly!\n"
          ]
        }
      ]
    },
    {
      "cell_type": "code",
      "source": [
        "#Use Inheritance in Polymorphism\n",
        "#Child Classes Car, Boat and Plane are inheriting from the Vehicle class\n",
        "#Respective objects are created\n",
        "\n",
        "#Using for loop we're calling the move function from different classes\n",
        "\n",
        "class Vehicle:\n",
        "  def __init__(self, brand, model):\n",
        "    self.brand = brand\n",
        "    self.model = model\n",
        "\n",
        "  def move(self):\n",
        "    print(\"Move!\")\n",
        "\n",
        "class Car(Vehicle):\n",
        "  def move(self):\n",
        "    print(\"Drive!\")\n",
        "\n",
        "class Boat(Vehicle):\n",
        "  def move(self):\n",
        "    print(\"Sail!\")\n",
        "\n",
        "class Plane(Vehicle):\n",
        "  def move(self):\n",
        "    print(\"Fly!\")\n",
        "\n",
        "car1 = Car(\"Ford\", \"Mustang\")       #Create a Car object\n",
        "boat1 = Boat(\"Ibiza\", \"Touring 20\") #Create a Boat object\n",
        "plane1 = Plane(\"Boeing\", \"747\")     #Create a Plane object\n",
        "\n",
        "for i in (car1, boat1, plane1):\n",
        "  print(i.brand)\n",
        "  print(i.model)\n",
        "  i.move()\n",
        "  print()\n"
      ],
      "metadata": {
        "colab": {
          "base_uri": "https://localhost:8080/"
        },
        "id": "u3XLEsy2HnNB",
        "outputId": "f63a035d-659b-4d5b-fe78-58c3f93282f8"
      },
      "execution_count": 4,
      "outputs": [
        {
          "output_type": "stream",
          "name": "stdout",
          "text": [
            "Ford\n",
            "Mustang\n",
            "Drive!\n",
            "\n",
            "Ibiza\n",
            "Touring 20\n",
            "Sail!\n",
            "\n",
            "Boeing\n",
            "747\n",
            "Fly!\n",
            "\n"
          ]
        }
      ]
    },
    {
      "cell_type": "code",
      "source": [],
      "metadata": {
        "id": "CwBL5LwsNtH0"
      },
      "execution_count": null,
      "outputs": []
    },
    {
      "cell_type": "code",
      "source": [
        "class Dogs:\n",
        "  def __init__(self, breed, age):\n",
        "    self.breed = breed\n",
        "    self.age = age\n",
        "\n",
        "  def origin(self):\n",
        "    print(\"Different dogs have different origins.\")\n",
        "\n",
        "class Big_Dogs(Dogs):\n",
        "  def origin(self):\n",
        "    print(self.breed, \"originated from Germany\")\n",
        "\n",
        "class Small_Dogs(Dogs):\n",
        "  def origin(self):\n",
        "    print(self.breed, \"originated from Mexico\")\n",
        "\n",
        "big = Big_Dogs(\"German Shepard\", 12)\n",
        "small = Small_Dogs(\"Chihuahua\", 5)\n",
        "\n",
        "for i in (big, small):\n",
        "  print(i.breed, ' | ', end = '')\n",
        "  print(i.age)\n",
        "  print()\n",
        "  i.origin()\n",
        "  print()"
      ],
      "metadata": {
        "colab": {
          "base_uri": "https://localhost:8080/"
        },
        "id": "avrh29MJQMsX",
        "outputId": "5bfa9253-5151-4fef-f602-8eca93d05cc1"
      },
      "execution_count": 18,
      "outputs": [
        {
          "output_type": "stream",
          "name": "stdout",
          "text": [
            "German Shepard  | 12\n",
            "\n",
            "German Shepard originated from Germany\n",
            "\n",
            "Chihuahua  | 5\n",
            "\n",
            "Chihuahua originated from Mexico\n",
            "\n"
          ]
        }
      ]
    }
  ]
}