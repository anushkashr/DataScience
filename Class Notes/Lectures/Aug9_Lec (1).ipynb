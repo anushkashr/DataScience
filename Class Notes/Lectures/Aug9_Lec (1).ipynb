{
  "nbformat": 4,
  "nbformat_minor": 0,
  "metadata": {
    "colab": {
      "provenance": []
    },
    "kernelspec": {
      "name": "python3",
      "display_name": "Python 3"
    },
    "language_info": {
      "name": "python"
    }
  },
  "cells": [
    {
      "cell_type": "code",
      "execution_count": null,
      "metadata": {
        "colab": {
          "base_uri": "https://localhost:8080/"
        },
        "id": "7JerQwPg1bbS",
        "outputId": "aa4c52cd-7f74-43e9-9680-30bd9b8fbaf4"
      },
      "outputs": [
        {
          "output_type": "stream",
          "name": "stdout",
          "text": [
            "Hello\n",
            "Good Evening\n",
            "My name is Anushka Shrestha\n",
            "Today is 'August 9, 2023'\n"
          ]
        }
      ],
      "source": [
        "str1 = \"Hello\"\n",
        "print(str1)\n",
        "\n",
        "str2 = \"Good Evening\"\n",
        "print(str2)\n",
        "\n",
        "str3 = \"\"\"My name is Anushka Shrestha\"\"\"\n",
        "print(str3)\n",
        "\n",
        "str4 = \"Today is 'August 9, 2023'\"\n",
        "print(str4)\n",
        "\n",
        "\n",
        "\n"
      ]
    },
    {
      "cell_type": "markdown",
      "source": [
        "Lists"
      ],
      "metadata": {
        "id": "Q465cAt34iu0"
      }
    },
    {
      "cell_type": "code",
      "source": [
        "# 1. List is represented by square brackets []\n",
        "# 2. List is mutable (can be changed/manipulated)\n",
        "\n",
        "lst1 = [1,45,67,98,43,23,54]\n",
        "print(lst1)\n",
        "print(type(lst1))"
      ],
      "metadata": {
        "colab": {
          "base_uri": "https://localhost:8080/"
        },
        "id": "uCEr542i4muK",
        "outputId": "dd2b838b-1d84-4316-f3be-dafe9b1be48c"
      },
      "execution_count": null,
      "outputs": [
        {
          "output_type": "stream",
          "name": "stdout",
          "text": [
            "[1, 45, 67, 98, 43, 23, 54]\n",
            "<class 'list'>\n"
          ]
        }
      ]
    },
    {
      "cell_type": "markdown",
      "source": [
        "Tuple"
      ],
      "metadata": {
        "id": "2aLA3y8q5Yna"
      }
    },
    {
      "cell_type": "code",
      "source": [
        "#Tuple\n",
        "# 1. Tuple is represented by circular bracket ()\n",
        "# 2. Tuple is immutable (cannot be changed)\n",
        "\n",
        "tup1 = (1,2,3,4,5,6,7,8,9)\n",
        "print(tup1)\n",
        "print(type(tup1))"
      ],
      "metadata": {
        "colab": {
          "base_uri": "https://localhost:8080/"
        },
        "id": "v9oTLUiJ5ZlH",
        "outputId": "4ca3f982-9b6c-44ec-d634-cf20a7047db2"
      },
      "execution_count": null,
      "outputs": [
        {
          "output_type": "stream",
          "name": "stdout",
          "text": [
            "(1, 2, 3, 4, 5, 6, 7, 8, 9)\n",
            "<class 'tuple'>\n"
          ]
        }
      ]
    },
    {
      "cell_type": "markdown",
      "source": [
        "Set"
      ],
      "metadata": {
        "id": "RvrpJetb6AJp"
      }
    },
    {
      "cell_type": "code",
      "source": [
        "#Set\n",
        "# 1. Set is combination of unique values\n",
        "# 2. Set is collection of unordered elements (show values randomly)\n",
        "# 3. Set is represented by curly brackets {}\n",
        "# 4. Set is mutable\n",
        "\n",
        "set1 = {'August','x',1,2,3,0, True, False,'!','@','$'}\n",
        "print(set1)\n",
        "print(type(set1))\n"
      ],
      "metadata": {
        "colab": {
          "base_uri": "https://localhost:8080/"
        },
        "id": "_6V8npsv6Djw",
        "outputId": "7897f311-8d32-40d9-d06f-d40723eb0f30"
      },
      "execution_count": null,
      "outputs": [
        {
          "output_type": "stream",
          "name": "stdout",
          "text": [
            "{0, 'x', 2, 3, 1, '$', '@', '!', 'August'}\n",
            "<class 'set'>\n"
          ]
        }
      ]
    },
    {
      "cell_type": "markdown",
      "source": [
        "Dictionary"
      ],
      "metadata": {
        "id": "1l6VBv-2_azw"
      }
    },
    {
      "cell_type": "code",
      "source": [
        "#Dictionary\n",
        "#Has Key value pair\n",
        "\n",
        "dict1 = {'Server':'SQL Server',\n",
        "         'IDE':'Visual Studio',\n",
        "        }\n",
        "\n",
        "tup1 = {'brand':'Logitech',\n",
        "        'model':'mouse',\n",
        "        'color':'white'\n",
        "        }\n",
        "print(dict1)\n",
        "print(tup1)\n"
      ],
      "metadata": {
        "colab": {
          "base_uri": "https://localhost:8080/"
        },
        "id": "wnegOozZ_c2a",
        "outputId": "1109870e-dc93-4552-b568-12dc5d10f3d2"
      },
      "execution_count": null,
      "outputs": [
        {
          "output_type": "stream",
          "name": "stdout",
          "text": [
            "{'Server': 'SQL Server', 'IDE': 'Visual Studio'}\n",
            "{'brand': 'Logitech', 'model': 'mouse', 'color': 'white'}\n"
          ]
        }
      ]
    },
    {
      "cell_type": "markdown",
      "source": [
        "String"
      ],
      "metadata": {
        "id": "V03SqLh0BoD8"
      }
    },
    {
      "cell_type": "code",
      "source": [
        "str1='August nine 2023'\n",
        "print(str1)\n",
        "print(type(str1))\n",
        "print(len(str1))\n",
        "\n",
        "print(str1[0])\n",
        "print(str1[1])\n",
        "print(str1[3])\n",
        "print(str1[4])\n",
        "print(str1[5])\n",
        "print(str1[6])\n",
        "print(str1[7])\n",
        "print(str1[8])\n",
        "print(str1[9])\n",
        "print(str1[10])\n",
        "print(str1[11])\n",
        "print(str1[12])\n",
        "print(str1[13])\n",
        "print(str1[14])\n",
        "print(str1[15])\n",
        "\n",
        "print(str1[6])\n",
        "\n",
        "str2 = str1[len(str1)-1]\n",
        "print(str2)"
      ],
      "metadata": {
        "colab": {
          "base_uri": "https://localhost:8080/"
        },
        "id": "Dmbb_991Bpec",
        "outputId": "4f0cc671-3f9e-4623-8086-20166cd31dc7"
      },
      "execution_count": null,
      "outputs": [
        {
          "output_type": "stream",
          "name": "stdout",
          "text": [
            "August nine 2023\n",
            "<class 'str'>\n",
            "16\n",
            "A\n",
            "u\n",
            "u\n",
            "s\n",
            "t\n",
            " \n",
            "n\n",
            "i\n",
            "n\n",
            "e\n",
            " \n",
            "2\n",
            "0\n",
            "2\n",
            "3\n",
            " \n",
            "3\n"
          ]
        }
      ]
    },
    {
      "cell_type": "code",
      "source": [
        "date = 'AugustNine2023'\n",
        "\n",
        "print(date[::])\n",
        "print(date[:len(date):])\n",
        "print(date[0:6:1])\n",
        "print(date[6:10:1])\n",
        "print(date[10:14:1])\n",
        "\n",
        "print(date[10::])\n",
        "print(date[6::])\n",
        "\n",
        "\n",
        "\n"
      ],
      "metadata": {
        "colab": {
          "base_uri": "https://localhost:8080/"
        },
        "id": "KvWE59-BKFKV",
        "outputId": "48c34cb6-ecf0-432b-a047-efa7edc533d6"
      },
      "execution_count": null,
      "outputs": [
        {
          "output_type": "stream",
          "name": "stdout",
          "text": [
            "AugustNine2023\n",
            "AugustNine2023\n",
            "August\n",
            "Nine\n",
            "2023\n",
            "2023\n",
            "Nine2023\n"
          ]
        }
      ]
    }
  ]
}