{
  "nbformat": 4,
  "nbformat_minor": 0,
  "metadata": {
    "colab": {
      "provenance": []
    },
    "kernelspec": {
      "name": "python3",
      "display_name": "Python 3"
    },
    "language_info": {
      "name": "python"
    }
  },
  "cells": [
    {
      "cell_type": "markdown",
      "source": [
        "#**Import the Libraries**"
      ],
      "metadata": {
        "id": "jFIojYf3-EZi"
      }
    },
    {
      "cell_type": "code",
      "execution_count": null,
      "metadata": {
        "id": "IAITSzWR9183"
      },
      "outputs": [],
      "source": [
        "import numpy as np\n",
        "import pandas as pd\n",
        "import matplotlib.pyplot as plt"
      ]
    },
    {
      "cell_type": "markdown",
      "source": [
        "#**Import the Dataset**"
      ],
      "metadata": {
        "id": "w5HnQVRJ_q5Y"
      }
    },
    {
      "cell_type": "code",
      "source": [
        "path = '/content/Data.csv'\n",
        "df = pd.read_csv(path)\n",
        "df"
      ],
      "metadata": {
        "colab": {
          "base_uri": "https://localhost:8080/",
          "height": 363
        },
        "id": "jsBSgnIk_wSI",
        "outputId": "28400675-d567-4878-ee24-9de3461d0d56"
      },
      "execution_count": null,
      "outputs": [
        {
          "output_type": "execute_result",
          "data": {
            "text/plain": [
              "   Country   Age   Salary Purchased\n",
              "0   France  44.0  72000.0        No\n",
              "1    Spain  27.0  48000.0       Yes\n",
              "2  Germany  30.0  54000.0        No\n",
              "3    Spain  38.0  61000.0        No\n",
              "4  Germany  40.0      NaN       Yes\n",
              "5   France  35.0  58000.0       Yes\n",
              "6    Spain   NaN  52000.0        No\n",
              "7   France  48.0  79000.0       Yes\n",
              "8  Germany  50.0  83000.0        No\n",
              "9   France  37.0  67000.0       Yes"
            ],
            "text/html": [
              "\n",
              "  <div id=\"df-564b54eb-488b-4021-b279-d1f4387599e2\" class=\"colab-df-container\">\n",
              "    <div>\n",
              "<style scoped>\n",
              "    .dataframe tbody tr th:only-of-type {\n",
              "        vertical-align: middle;\n",
              "    }\n",
              "\n",
              "    .dataframe tbody tr th {\n",
              "        vertical-align: top;\n",
              "    }\n",
              "\n",
              "    .dataframe thead th {\n",
              "        text-align: right;\n",
              "    }\n",
              "</style>\n",
              "<table border=\"1\" class=\"dataframe\">\n",
              "  <thead>\n",
              "    <tr style=\"text-align: right;\">\n",
              "      <th></th>\n",
              "      <th>Country</th>\n",
              "      <th>Age</th>\n",
              "      <th>Salary</th>\n",
              "      <th>Purchased</th>\n",
              "    </tr>\n",
              "  </thead>\n",
              "  <tbody>\n",
              "    <tr>\n",
              "      <th>0</th>\n",
              "      <td>France</td>\n",
              "      <td>44.0</td>\n",
              "      <td>72000.0</td>\n",
              "      <td>No</td>\n",
              "    </tr>\n",
              "    <tr>\n",
              "      <th>1</th>\n",
              "      <td>Spain</td>\n",
              "      <td>27.0</td>\n",
              "      <td>48000.0</td>\n",
              "      <td>Yes</td>\n",
              "    </tr>\n",
              "    <tr>\n",
              "      <th>2</th>\n",
              "      <td>Germany</td>\n",
              "      <td>30.0</td>\n",
              "      <td>54000.0</td>\n",
              "      <td>No</td>\n",
              "    </tr>\n",
              "    <tr>\n",
              "      <th>3</th>\n",
              "      <td>Spain</td>\n",
              "      <td>38.0</td>\n",
              "      <td>61000.0</td>\n",
              "      <td>No</td>\n",
              "    </tr>\n",
              "    <tr>\n",
              "      <th>4</th>\n",
              "      <td>Germany</td>\n",
              "      <td>40.0</td>\n",
              "      <td>NaN</td>\n",
              "      <td>Yes</td>\n",
              "    </tr>\n",
              "    <tr>\n",
              "      <th>5</th>\n",
              "      <td>France</td>\n",
              "      <td>35.0</td>\n",
              "      <td>58000.0</td>\n",
              "      <td>Yes</td>\n",
              "    </tr>\n",
              "    <tr>\n",
              "      <th>6</th>\n",
              "      <td>Spain</td>\n",
              "      <td>NaN</td>\n",
              "      <td>52000.0</td>\n",
              "      <td>No</td>\n",
              "    </tr>\n",
              "    <tr>\n",
              "      <th>7</th>\n",
              "      <td>France</td>\n",
              "      <td>48.0</td>\n",
              "      <td>79000.0</td>\n",
              "      <td>Yes</td>\n",
              "    </tr>\n",
              "    <tr>\n",
              "      <th>8</th>\n",
              "      <td>Germany</td>\n",
              "      <td>50.0</td>\n",
              "      <td>83000.0</td>\n",
              "      <td>No</td>\n",
              "    </tr>\n",
              "    <tr>\n",
              "      <th>9</th>\n",
              "      <td>France</td>\n",
              "      <td>37.0</td>\n",
              "      <td>67000.0</td>\n",
              "      <td>Yes</td>\n",
              "    </tr>\n",
              "  </tbody>\n",
              "</table>\n",
              "</div>\n",
              "    <div class=\"colab-df-buttons\">\n",
              "\n",
              "  <div class=\"colab-df-container\">\n",
              "    <button class=\"colab-df-convert\" onclick=\"convertToInteractive('df-564b54eb-488b-4021-b279-d1f4387599e2')\"\n",
              "            title=\"Convert this dataframe to an interactive table.\"\n",
              "            style=\"display:none;\">\n",
              "\n",
              "  <svg xmlns=\"http://www.w3.org/2000/svg\" height=\"24px\" viewBox=\"0 -960 960 960\">\n",
              "    <path d=\"M120-120v-720h720v720H120Zm60-500h600v-160H180v160Zm220 220h160v-160H400v160Zm0 220h160v-160H400v160ZM180-400h160v-160H180v160Zm440 0h160v-160H620v160ZM180-180h160v-160H180v160Zm440 0h160v-160H620v160Z\"/>\n",
              "  </svg>\n",
              "    </button>\n",
              "\n",
              "  <style>\n",
              "    .colab-df-container {\n",
              "      display:flex;\n",
              "      gap: 12px;\n",
              "    }\n",
              "\n",
              "    .colab-df-convert {\n",
              "      background-color: #E8F0FE;\n",
              "      border: none;\n",
              "      border-radius: 50%;\n",
              "      cursor: pointer;\n",
              "      display: none;\n",
              "      fill: #1967D2;\n",
              "      height: 32px;\n",
              "      padding: 0 0 0 0;\n",
              "      width: 32px;\n",
              "    }\n",
              "\n",
              "    .colab-df-convert:hover {\n",
              "      background-color: #E2EBFA;\n",
              "      box-shadow: 0px 1px 2px rgba(60, 64, 67, 0.3), 0px 1px 3px 1px rgba(60, 64, 67, 0.15);\n",
              "      fill: #174EA6;\n",
              "    }\n",
              "\n",
              "    .colab-df-buttons div {\n",
              "      margin-bottom: 4px;\n",
              "    }\n",
              "\n",
              "    [theme=dark] .colab-df-convert {\n",
              "      background-color: #3B4455;\n",
              "      fill: #D2E3FC;\n",
              "    }\n",
              "\n",
              "    [theme=dark] .colab-df-convert:hover {\n",
              "      background-color: #434B5C;\n",
              "      box-shadow: 0px 1px 3px 1px rgba(0, 0, 0, 0.15);\n",
              "      filter: drop-shadow(0px 1px 2px rgba(0, 0, 0, 0.3));\n",
              "      fill: #FFFFFF;\n",
              "    }\n",
              "  </style>\n",
              "\n",
              "    <script>\n",
              "      const buttonEl =\n",
              "        document.querySelector('#df-564b54eb-488b-4021-b279-d1f4387599e2 button.colab-df-convert');\n",
              "      buttonEl.style.display =\n",
              "        google.colab.kernel.accessAllowed ? 'block' : 'none';\n",
              "\n",
              "      async function convertToInteractive(key) {\n",
              "        const element = document.querySelector('#df-564b54eb-488b-4021-b279-d1f4387599e2');\n",
              "        const dataTable =\n",
              "          await google.colab.kernel.invokeFunction('convertToInteractive',\n",
              "                                                    [key], {});\n",
              "        if (!dataTable) return;\n",
              "\n",
              "        const docLinkHtml = 'Like what you see? Visit the ' +\n",
              "          '<a target=\"_blank\" href=https://colab.research.google.com/notebooks/data_table.ipynb>data table notebook</a>'\n",
              "          + ' to learn more about interactive tables.';\n",
              "        element.innerHTML = '';\n",
              "        dataTable['output_type'] = 'display_data';\n",
              "        await google.colab.output.renderOutput(dataTable, element);\n",
              "        const docLink = document.createElement('div');\n",
              "        docLink.innerHTML = docLinkHtml;\n",
              "        element.appendChild(docLink);\n",
              "      }\n",
              "    </script>\n",
              "  </div>\n",
              "\n",
              "\n",
              "<div id=\"df-05928658-d289-4a7a-a505-75f9ed2e5811\">\n",
              "  <button class=\"colab-df-quickchart\" onclick=\"quickchart('df-05928658-d289-4a7a-a505-75f9ed2e5811')\"\n",
              "            title=\"Suggest charts.\"\n",
              "            style=\"display:none;\">\n",
              "\n",
              "<svg xmlns=\"http://www.w3.org/2000/svg\" height=\"24px\"viewBox=\"0 0 24 24\"\n",
              "     width=\"24px\">\n",
              "    <g>\n",
              "        <path d=\"M19 3H5c-1.1 0-2 .9-2 2v14c0 1.1.9 2 2 2h14c1.1 0 2-.9 2-2V5c0-1.1-.9-2-2-2zM9 17H7v-7h2v7zm4 0h-2V7h2v10zm4 0h-2v-4h2v4z\"/>\n",
              "    </g>\n",
              "</svg>\n",
              "  </button>\n",
              "\n",
              "<style>\n",
              "  .colab-df-quickchart {\n",
              "      --bg-color: #E8F0FE;\n",
              "      --fill-color: #1967D2;\n",
              "      --hover-bg-color: #E2EBFA;\n",
              "      --hover-fill-color: #174EA6;\n",
              "      --disabled-fill-color: #AAA;\n",
              "      --disabled-bg-color: #DDD;\n",
              "  }\n",
              "\n",
              "  [theme=dark] .colab-df-quickchart {\n",
              "      --bg-color: #3B4455;\n",
              "      --fill-color: #D2E3FC;\n",
              "      --hover-bg-color: #434B5C;\n",
              "      --hover-fill-color: #FFFFFF;\n",
              "      --disabled-bg-color: #3B4455;\n",
              "      --disabled-fill-color: #666;\n",
              "  }\n",
              "\n",
              "  .colab-df-quickchart {\n",
              "    background-color: var(--bg-color);\n",
              "    border: none;\n",
              "    border-radius: 50%;\n",
              "    cursor: pointer;\n",
              "    display: none;\n",
              "    fill: var(--fill-color);\n",
              "    height: 32px;\n",
              "    padding: 0;\n",
              "    width: 32px;\n",
              "  }\n",
              "\n",
              "  .colab-df-quickchart:hover {\n",
              "    background-color: var(--hover-bg-color);\n",
              "    box-shadow: 0 1px 2px rgba(60, 64, 67, 0.3), 0 1px 3px 1px rgba(60, 64, 67, 0.15);\n",
              "    fill: var(--button-hover-fill-color);\n",
              "  }\n",
              "\n",
              "  .colab-df-quickchart-complete:disabled,\n",
              "  .colab-df-quickchart-complete:disabled:hover {\n",
              "    background-color: var(--disabled-bg-color);\n",
              "    fill: var(--disabled-fill-color);\n",
              "    box-shadow: none;\n",
              "  }\n",
              "\n",
              "  .colab-df-spinner {\n",
              "    border: 2px solid var(--fill-color);\n",
              "    border-color: transparent;\n",
              "    border-bottom-color: var(--fill-color);\n",
              "    animation:\n",
              "      spin 1s steps(1) infinite;\n",
              "  }\n",
              "\n",
              "  @keyframes spin {\n",
              "    0% {\n",
              "      border-color: transparent;\n",
              "      border-bottom-color: var(--fill-color);\n",
              "      border-left-color: var(--fill-color);\n",
              "    }\n",
              "    20% {\n",
              "      border-color: transparent;\n",
              "      border-left-color: var(--fill-color);\n",
              "      border-top-color: var(--fill-color);\n",
              "    }\n",
              "    30% {\n",
              "      border-color: transparent;\n",
              "      border-left-color: var(--fill-color);\n",
              "      border-top-color: var(--fill-color);\n",
              "      border-right-color: var(--fill-color);\n",
              "    }\n",
              "    40% {\n",
              "      border-color: transparent;\n",
              "      border-right-color: var(--fill-color);\n",
              "      border-top-color: var(--fill-color);\n",
              "    }\n",
              "    60% {\n",
              "      border-color: transparent;\n",
              "      border-right-color: var(--fill-color);\n",
              "    }\n",
              "    80% {\n",
              "      border-color: transparent;\n",
              "      border-right-color: var(--fill-color);\n",
              "      border-bottom-color: var(--fill-color);\n",
              "    }\n",
              "    90% {\n",
              "      border-color: transparent;\n",
              "      border-bottom-color: var(--fill-color);\n",
              "    }\n",
              "  }\n",
              "</style>\n",
              "\n",
              "  <script>\n",
              "    async function quickchart(key) {\n",
              "      const quickchartButtonEl =\n",
              "        document.querySelector('#' + key + ' button');\n",
              "      quickchartButtonEl.disabled = true;  // To prevent multiple clicks.\n",
              "      quickchartButtonEl.classList.add('colab-df-spinner');\n",
              "      try {\n",
              "        const charts = await google.colab.kernel.invokeFunction(\n",
              "            'suggestCharts', [key], {});\n",
              "      } catch (error) {\n",
              "        console.error('Error during call to suggestCharts:', error);\n",
              "      }\n",
              "      quickchartButtonEl.classList.remove('colab-df-spinner');\n",
              "      quickchartButtonEl.classList.add('colab-df-quickchart-complete');\n",
              "    }\n",
              "    (() => {\n",
              "      let quickchartButtonEl =\n",
              "        document.querySelector('#df-05928658-d289-4a7a-a505-75f9ed2e5811 button');\n",
              "      quickchartButtonEl.style.display =\n",
              "        google.colab.kernel.accessAllowed ? 'block' : 'none';\n",
              "    })();\n",
              "  </script>\n",
              "</div>\n",
              "    </div>\n",
              "  </div>\n"
            ]
          },
          "metadata": {},
          "execution_count": 10
        }
      ]
    },
    {
      "cell_type": "markdown",
      "source": [
        "#**Selecting Independent and Dependent Values**"
      ],
      "metadata": {
        "id": "jK4w1KjUEBUS"
      }
    },
    {
      "cell_type": "code",
      "source": [
        "X = df.iloc[:, 0:3].values\n",
        "y = df.iloc[:, -1].values"
      ],
      "metadata": {
        "id": "QLsXtC7DChFZ"
      },
      "execution_count": null,
      "outputs": []
    },
    {
      "cell_type": "code",
      "source": [
        "X"
      ],
      "metadata": {
        "id": "nuFSt6xXC7G5",
        "colab": {
          "base_uri": "https://localhost:8080/"
        },
        "outputId": "a1a0e8e8-79b1-4a02-83b8-2101874b7d93"
      },
      "execution_count": null,
      "outputs": [
        {
          "output_type": "execute_result",
          "data": {
            "text/plain": [
              "array([['France', 44.0, 72000.0],\n",
              "       ['Spain', 27.0, 48000.0],\n",
              "       ['Germany', 30.0, 54000.0],\n",
              "       ['Spain', 38.0, 61000.0],\n",
              "       ['Germany', 40.0, nan],\n",
              "       ['France', 35.0, 58000.0],\n",
              "       ['Spain', nan, 52000.0],\n",
              "       ['France', 48.0, 79000.0],\n",
              "       ['Germany', 50.0, 83000.0],\n",
              "       ['France', 37.0, 67000.0]], dtype=object)"
            ]
          },
          "metadata": {},
          "execution_count": 12
        }
      ]
    },
    {
      "cell_type": "code",
      "source": [
        "y"
      ],
      "metadata": {
        "colab": {
          "base_uri": "https://localhost:8080/"
        },
        "id": "hxwSz_z8C-RH",
        "outputId": "c6f97053-2b83-4818-c47f-f78e12bfab1c"
      },
      "execution_count": null,
      "outputs": [
        {
          "output_type": "execute_result",
          "data": {
            "text/plain": [
              "array(['No', 'Yes', 'No', 'No', 'Yes', 'Yes', 'No', 'Yes', 'No', 'Yes'],\n",
              "      dtype=object)"
            ]
          },
          "metadata": {},
          "execution_count": 13
        }
      ]
    },
    {
      "cell_type": "markdown",
      "source": [
        "#**Manage Missing Data**\n",
        "#**strategy='mean'**"
      ],
      "metadata": {
        "id": "7uStejYlEJmn"
      }
    },
    {
      "cell_type": "code",
      "source": [
        "from sklearn.impute import SimpleImputer\n",
        "imputer = SimpleImputer(missing_values=np.nan, strategy='mean')\n",
        "imputer.fit(X[:, 1:3])\n",
        "X[:, 1:3] = imputer.transform(X[:, 1:3])"
      ],
      "metadata": {
        "id": "GL6ln4wwEQgT"
      },
      "execution_count": null,
      "outputs": []
    },
    {
      "cell_type": "code",
      "source": [
        "X"
      ],
      "metadata": {
        "colab": {
          "base_uri": "https://localhost:8080/"
        },
        "id": "pmSdwnmXKuzo",
        "outputId": "c102b62c-44c3-450c-e221-678244b4b6bf"
      },
      "execution_count": null,
      "outputs": [
        {
          "output_type": "execute_result",
          "data": {
            "text/plain": [
              "array([['France', 44.0, 72000.0],\n",
              "       ['Spain', 27.0, 48000.0],\n",
              "       ['Germany', 30.0, 54000.0],\n",
              "       ['Spain', 38.0, 61000.0],\n",
              "       ['Germany', 40.0, 63777.77777777778],\n",
              "       ['France', 35.0, 58000.0],\n",
              "       ['Spain', 38.77777777777778, 52000.0],\n",
              "       ['France', 48.0, 79000.0],\n",
              "       ['Germany', 50.0, 83000.0],\n",
              "       ['France', 37.0, 67000.0]], dtype=object)"
            ]
          },
          "metadata": {},
          "execution_count": 15
        }
      ]
    },
    {
      "cell_type": "markdown",
      "source": [
        "#**Manage Missing Data**\n",
        "#**strategy='median'**"
      ],
      "metadata": {
        "id": "I-OdqfTFLJik"
      }
    },
    {
      "cell_type": "code",
      "source": [
        "from sklearn.impute import SimpleImputer\n",
        "imputer = SimpleImputer(missing_values=np.nan, strategy='median')\n",
        "imputer.fit(X[:, 1:3])\n",
        "X[:, 1:3] = imputer.transform(X[:, 1:3])\n",
        "X"
      ],
      "metadata": {
        "colab": {
          "base_uri": "https://localhost:8080/"
        },
        "id": "ow9UIZf1LI1Z",
        "outputId": "ad1a2899-0c9e-4b2f-c114-231d679cd8fa"
      },
      "execution_count": null,
      "outputs": [
        {
          "output_type": "execute_result",
          "data": {
            "text/plain": [
              "array([['France', 44.0, 72000.0],\n",
              "       ['Spain', 27.0, 48000.0],\n",
              "       ['Germany', 30.0, 54000.0],\n",
              "       ['Spain', 38.0, 61000.0],\n",
              "       ['Germany', 40.0, 63777.77777777778],\n",
              "       ['France', 35.0, 58000.0],\n",
              "       ['Spain', 38.77777777777778, 52000.0],\n",
              "       ['France', 48.0, 79000.0],\n",
              "       ['Germany', 50.0, 83000.0],\n",
              "       ['France', 37.0, 67000.0]], dtype=object)"
            ]
          },
          "metadata": {},
          "execution_count": 16
        }
      ]
    },
    {
      "cell_type": "markdown",
      "source": [
        "#**Encoding Categorical Data**\n",
        "\n",
        "Non Numeric to Numeric data"
      ],
      "metadata": {
        "id": "cIRyx0QdRtOZ"
      }
    },
    {
      "cell_type": "markdown",
      "source": [
        "![image.png](data:image/png;base64,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)"
      ],
      "metadata": {
        "id": "ydZwKu2BW31U"
      }
    },
    {
      "cell_type": "code",
      "source": [
        "from sklearn.compose import ColumnTransformer\n",
        "from sklearn.preprocessing import OneHotEncoder\n",
        "ct = ColumnTransformer(transformers=[('encoder', OneHotEncoder(), [0])], remainder='passthrough')\n",
        "X = np.array(ct.fit_transform(X))"
      ],
      "metadata": {
        "id": "sl15-maJL8f5"
      },
      "execution_count": null,
      "outputs": []
    },
    {
      "cell_type": "code",
      "source": [
        "X"
      ],
      "metadata": {
        "colab": {
          "base_uri": "https://localhost:8080/"
        },
        "id": "w36E-PYHSiDW",
        "outputId": "404bc99a-b962-4ccf-891e-50bf7e62d6a4"
      },
      "execution_count": null,
      "outputs": [
        {
          "output_type": "execute_result",
          "data": {
            "text/plain": [
              "array([[1.0, 0.0, 0.0, 44.0, 72000.0],\n",
              "       [0.0, 0.0, 1.0, 27.0, 48000.0],\n",
              "       [0.0, 1.0, 0.0, 30.0, 54000.0],\n",
              "       [0.0, 0.0, 1.0, 38.0, 61000.0],\n",
              "       [0.0, 1.0, 0.0, 40.0, 63777.77777777778],\n",
              "       [1.0, 0.0, 0.0, 35.0, 58000.0],\n",
              "       [0.0, 0.0, 1.0, 38.77777777777778, 52000.0],\n",
              "       [1.0, 0.0, 0.0, 48.0, 79000.0],\n",
              "       [0.0, 1.0, 0.0, 50.0, 83000.0],\n",
              "       [1.0, 0.0, 0.0, 37.0, 67000.0]], dtype=object)"
            ]
          },
          "metadata": {},
          "execution_count": 18
        }
      ]
    },
    {
      "cell_type": "markdown",
      "source": [
        "#**Encoding the Dependent Variable**"
      ],
      "metadata": {
        "id": "1Duv9pD-I7IA"
      }
    },
    {
      "cell_type": "code",
      "source": [
        "from sklearn.preprocessing import LabelEncoder\n",
        "le = LabelEncoder()\n",
        "y = le.fit_transform(y)"
      ],
      "metadata": {
        "id": "hmms7M8dJQFq"
      },
      "execution_count": null,
      "outputs": []
    },
    {
      "cell_type": "markdown",
      "source": [
        "#**Splitting the dataset into the Training set and Test set**"
      ],
      "metadata": {
        "id": "1X-V53DsJdsi"
      }
    },
    {
      "cell_type": "code",
      "source": [
        "from sklearn.model_selection import train_test_split\n",
        "X_train, X_test, y_train, y_test = train_test_split(X, y, test_size=0.2, random_state=0)"
      ],
      "metadata": {
        "id": "oMD-JhA7JTlf"
      },
      "execution_count": null,
      "outputs": []
    },
    {
      "cell_type": "code",
      "source": [
        "X_train, X_test, y_train, y_test"
      ],
      "metadata": {
        "id": "afrk8umhKu4P",
        "outputId": "7933bd4a-c0f0-4db1-927d-f932b3e6c5ef",
        "colab": {
          "base_uri": "https://localhost:8080/"
        }
      },
      "execution_count": null,
      "outputs": [
        {
          "output_type": "execute_result",
          "data": {
            "text/plain": [
              "(array([[0.0, 1.0, 0.0, 40.0, 63777.77777777778],\n",
              "        [1.0, 0.0, 0.0, 37.0, 67000.0],\n",
              "        [0.0, 0.0, 1.0, 27.0, 48000.0],\n",
              "        [0.0, 0.0, 1.0, 38.77777777777778, 52000.0],\n",
              "        [1.0, 0.0, 0.0, 48.0, 79000.0],\n",
              "        [0.0, 0.0, 1.0, 38.0, 61000.0],\n",
              "        [1.0, 0.0, 0.0, 44.0, 72000.0],\n",
              "        [1.0, 0.0, 0.0, 35.0, 58000.0]], dtype=object),\n",
              " array([[0.0, 1.0, 0.0, 30.0, 54000.0],\n",
              "        [0.0, 1.0, 0.0, 50.0, 83000.0]], dtype=object),\n",
              " array([1, 1, 1, 0, 1, 0, 0, 1]),\n",
              " array([0, 0]))"
            ]
          },
          "metadata": {},
          "execution_count": 25
        }
      ]
    }
  ]
}