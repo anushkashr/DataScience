{
  "nbformat": 4,
  "nbformat_minor": 0,
  "metadata": {
    "colab": {
      "provenance": []
    },
    "kernelspec": {
      "name": "python3",
      "display_name": "Python 3"
    },
    "language_info": {
      "name": "python"
    }
  },
  "cells": [
    {
      "cell_type": "code",
      "execution_count": null,
      "metadata": {
        "id": "Vo7BFUYC4NLr"
      },
      "outputs": [],
      "source": []
    },
    {
      "cell_type": "code",
      "source": [
        "if x < y:\n",
        "  print(x, 'is smaller than', y)\n",
        "elif x > y:\n",
        "  print(x, 'is greater than', y)\n",
        "else:\n",
        "  print(x, 'is equal to', y)\n",
        "\n",
        "\n",
        "# Lambda Equivalent\n",
        "result = lambda x,y : f\"{x} is smaller than {y}\" \\\n",
        "if x < y else (f\"{x} is greater than {y}\" if x > y \\\n",
        "               else f\"{x} is equal to {y}\")"
      ],
      "metadata": {
        "id": "N0gwYEpOomEN"
      },
      "execution_count": null,
      "outputs": []
    },
    {
      "cell_type": "code",
      "source": [
        "if (percentage >= 78):\n",
        "  print('pass with first class distinction')\n",
        "elif (percentage >= 60):\n",
        "  print('pass with first class')\n",
        "elif (percentage >= 40):\n",
        "  print('pass with second class')\n",
        "elif (percentage >= 33):\n",
        "  print('pass with third class')\n",
        "else:\n",
        "  print('better luck next time')"
      ],
      "metadata": {
        "id": "lEQWc0N14DiL"
      },
      "execution_count": null,
      "outputs": []
    },
    {
      "cell_type": "code",
      "source": [
        "\n",
        "grade = lambda percentage : 'pass with first class distinction' \\\n",
        "if percentage >= 78 else 'pass with first class' if percentage >= 60 \\\n",
        "                    else 'pass with second class' if percentage >= 40 \\\n",
        "                    else 'pass with third class' if percentage >= 33 \\\n",
        "                    else \"better luck next time\"\n",
        "grade(99)\n",
        "grade(76)\n",
        "grade(60)\n",
        "grade(52)\n",
        "grade(30)\n",
        "grade(10)"
      ],
      "metadata": {
        "colab": {
          "base_uri": "https://localhost:8080/",
          "height": 35
        },
        "id": "_blTRD4p5T1N",
        "outputId": "c7be51c0-3506-457e-e3ac-ae672ac3f62c"
      },
      "execution_count": null,
      "outputs": [
        {
          "output_type": "execute_result",
          "data": {
            "text/plain": [
              "'better luck next time'"
            ],
            "application/vnd.google.colaboratory.intrinsic+json": {
              "type": "string"
            }
          },
          "metadata": {},
          "execution_count": 11
        }
      ]
    },
    {
      "cell_type": "code",
      "source": [
        "result = lambda percentage: f\"{percentage} pass with first class distinction\" if percentage >= 78 else (\\\n",
        "                            f\"{percentage} pass with first class\" if percentage >= 60  else (\\\n",
        "                            f\"{percentage} pass with second class\" if percentage >= 40  else (\\\n",
        "                            f\"{percentage} pass with third class\" if percentage >= 33  else (\\\n",
        "                            f\"{percentage} better luck next time\"))))\n",
        "\n",
        "result(55)"
      ],
      "metadata": {
        "id": "UKab-ChI5iOS",
        "colab": {
          "base_uri": "https://localhost:8080/",
          "height": 35
        },
        "outputId": "7cca79a7-8b2f-4739-afd7-6c898ddb24a2"
      },
      "execution_count": null,
      "outputs": [
        {
          "output_type": "execute_result",
          "data": {
            "text/plain": [
              "'55 pass with second class'"
            ],
            "application/vnd.google.colaboratory.intrinsic+json": {
              "type": "string"
            }
          },
          "metadata": {},
          "execution_count": 20
        }
      ]
    },
    {
      "cell_type": "code",
      "source": [
        "result(79), result(69), result(59), result(49), result(39), result(29), result(19), result(9), result(89), result(99)"
      ],
      "metadata": {
        "colab": {
          "base_uri": "https://localhost:8080/"
        },
        "id": "bJwzR1QK6qhO",
        "outputId": "3a013a55-d0e2-4ee7-a6fc-1bc82a390ac8"
      },
      "execution_count": null,
      "outputs": [
        {
          "output_type": "execute_result",
          "data": {
            "text/plain": [
              "('79 pass with first class distinction',\n",
              " '69 pass with first class',\n",
              " '59 pass with second class',\n",
              " '49 pass with second class',\n",
              " '39 pass with third class',\n",
              " '29 better luck next time',\n",
              " '19 better luck next time',\n",
              " '9 better luck next time',\n",
              " '89 pass with first class distinction',\n",
              " '99 pass with first class distinction')"
            ]
          },
          "metadata": {},
          "execution_count": 16
        }
      ]
    },
    {
      "cell_type": "code",
      "source": [
        "def func_sum(*args):\n",
        "  return args\n"
      ],
      "metadata": {
        "id": "4UM28q8mBfVV"
      },
      "execution_count": null,
      "outputs": []
    },
    {
      "cell_type": "code",
      "source": [
        "func_sum(82,67,89,4,5,6,87,23,2, 9)"
      ],
      "metadata": {
        "colab": {
          "base_uri": "https://localhost:8080/"
        },
        "id": "beEy__U9Btia",
        "outputId": "fba20587-a27b-4917-9cda-fc862e72d9a7"
      },
      "execution_count": null,
      "outputs": [
        {
          "output_type": "execute_result",
          "data": {
            "text/plain": [
              "(82, 67, 89, 4, 5, 6, 87, 23, 2, 9)"
            ]
          },
          "metadata": {},
          "execution_count": 23
        }
      ]
    },
    {
      "cell_type": "code",
      "source": [
        "def sum_numbers(*args):\n",
        "    total = 0\n",
        "    for num in args:\n",
        "        total += num\n",
        "    return total\n",
        "\n",
        "result = sum_numbers(10, 20, 30, 40, 50)\n",
        "print(result)\n"
      ],
      "metadata": {
        "colab": {
          "base_uri": "https://localhost:8080/"
        },
        "id": "rezajDbHCVdc",
        "outputId": "5b4d00dc-ff77-4c33-cc18-1ce4f64bffbc"
      },
      "execution_count": null,
      "outputs": [
        {
          "output_type": "stream",
          "name": "stdout",
          "text": [
            "150\n"
          ]
        }
      ]
    },
    {
      "cell_type": "code",
      "source": [
        "def ingredients(*anushka):\n",
        "    for arg in anushka:\n",
        "        print(\"My ingredients:\", arg)\n",
        "\n",
        "ingredients('bread', 'butter', 'eggs', 'milk')"
      ],
      "metadata": {
        "colab": {
          "base_uri": "https://localhost:8080/"
        },
        "id": "n0WMMIp7CRgb",
        "outputId": "c873d33e-79ff-434a-e784-4770f204700b"
      },
      "execution_count": null,
      "outputs": [
        {
          "output_type": "stream",
          "name": "stdout",
          "text": [
            "My ingredients: bread\n",
            "My ingredients: butter\n",
            "My ingredients: eggs\n",
            "My ingredients: milk\n"
          ]
        }
      ]
    },
    {
      "cell_type": "code",
      "source": [
        "def combine_strings(*args):\n",
        "    result = \" \".join(args)\n",
        "    return result\n",
        "\n",
        "result = combine_strings(\"Hello\", \"my\", \"name\", \"is\", \"Anushka\")\n",
        "print(result)\n"
      ],
      "metadata": {
        "colab": {
          "base_uri": "https://localhost:8080/"
        },
        "id": "sv0yMBfLE6PH",
        "outputId": "e8f4fef7-2181-4e84-f727-ea7c92bd7e98"
      },
      "execution_count": null,
      "outputs": [
        {
          "output_type": "stream",
          "name": "stdout",
          "text": [
            "Hello my name is Anushka\n"
          ]
        }
      ]
    },
    {
      "cell_type": "code",
      "source": [
        "#args should always be put as the last argument\n",
        "#if placed first, it takes all the arguments within args\n",
        "#args can take any value of the arguments passed with different data types"
      ],
      "metadata": {
        "id": "9uyui2jwGuxK"
      },
      "execution_count": null,
      "outputs": []
    },
    {
      "cell_type": "code",
      "source": [
        "def combine_strings(*args, a, b, c, d, e):\n",
        "    result = \" \".join(args)\n",
        "    return result\n",
        "\n",
        "result = combine_strings(\"Hello\", \"my\", \"name\", \"is\", \"Anushka\", \"!\")\n",
        "print(result)"
      ],
      "metadata": {
        "colab": {
          "base_uri": "https://localhost:8080/",
          "height": 228
        },
        "id": "zlIr4FEdIAhx",
        "outputId": "b7c89271-52aa-476b-9b02-a44b529e7d21"
      },
      "execution_count": null,
      "outputs": [
        {
          "output_type": "error",
          "ename": "TypeError",
          "evalue": "ignored",
          "traceback": [
            "\u001b[0;31m---------------------------------------------------------------------------\u001b[0m",
            "\u001b[0;31mTypeError\u001b[0m                                 Traceback (most recent call last)",
            "\u001b[0;32m<ipython-input-32-14cc8c2f8c17>\u001b[0m in \u001b[0;36m<cell line: 5>\u001b[0;34m()\u001b[0m\n\u001b[1;32m      3\u001b[0m     \u001b[0;32mreturn\u001b[0m \u001b[0mresult\u001b[0m\u001b[0;34m\u001b[0m\u001b[0;34m\u001b[0m\u001b[0m\n\u001b[1;32m      4\u001b[0m \u001b[0;34m\u001b[0m\u001b[0m\n\u001b[0;32m----> 5\u001b[0;31m \u001b[0mresult\u001b[0m \u001b[0;34m=\u001b[0m \u001b[0mcombine_strings\u001b[0m\u001b[0;34m(\u001b[0m\u001b[0;34m\"Hello\"\u001b[0m\u001b[0;34m,\u001b[0m \u001b[0;34m\"my\"\u001b[0m\u001b[0;34m,\u001b[0m \u001b[0;34m\"name\"\u001b[0m\u001b[0;34m,\u001b[0m \u001b[0;34m\"is\"\u001b[0m\u001b[0;34m,\u001b[0m \u001b[0;34m\"Anushka\"\u001b[0m\u001b[0;34m,\u001b[0m \u001b[0;34m\"!\"\u001b[0m\u001b[0;34m)\u001b[0m\u001b[0;34m\u001b[0m\u001b[0;34m\u001b[0m\u001b[0m\n\u001b[0m\u001b[1;32m      6\u001b[0m \u001b[0mprint\u001b[0m\u001b[0;34m(\u001b[0m\u001b[0mresult\u001b[0m\u001b[0;34m)\u001b[0m\u001b[0;34m\u001b[0m\u001b[0;34m\u001b[0m\u001b[0m\n",
            "\u001b[0;31mTypeError\u001b[0m: combine_strings() missing 5 required keyword-only arguments: 'a', 'b', 'c', 'd', and 'e'"
          ]
        }
      ]
    },
    {
      "cell_type": "code",
      "source": [
        "def states(**kwargs):\n",
        "    for key, value in kwargs.items():\n",
        "        print(f\"{key}: {value}\")\n",
        "\n",
        "states(state=\"New York\", area = 1000, city=\"Brooklyn\")\n",
        "\n"
      ],
      "metadata": {
        "colab": {
          "base_uri": "https://localhost:8080/"
        },
        "id": "GRzjrvkDLFds",
        "outputId": "23d726ac-b414-4f15-b837-3f47644cc9fa"
      },
      "execution_count": null,
      "outputs": [
        {
          "output_type": "stream",
          "name": "stdout",
          "text": [
            "state: New York\n",
            "area: 1000\n",
            "city: Brooklyn\n"
          ]
        }
      ]
    },
    {
      "cell_type": "code",
      "source": [
        "def city_details(*args, **kwargs):\n",
        "  print(\"Zip codes: \", args)\n",
        "  zip_codes = 0\n",
        "  for i in args:\n",
        "    zip_codes += 1\n",
        "    print(zip_codes)\n",
        "  for key, value in kwargs.items():\n",
        "        print(f\"{key}: {value}\")\n",
        "\n",
        "\n",
        "city_details(1001,1002,1003,1004, state=\"New York\", area = 25000, city=\"Brooklyn\")"
      ],
      "metadata": {
        "colab": {
          "base_uri": "https://localhost:8080/"
        },
        "id": "QSocms56MPy2",
        "outputId": "51e3df6e-e24b-42f0-b3ed-011fa8003e5e"
      },
      "execution_count": null,
      "outputs": [
        {
          "output_type": "stream",
          "name": "stdout",
          "text": [
            "Zip codes:  (1001, 1002, 1003, 1004)\n",
            "1\n",
            "2\n",
            "3\n",
            "4\n",
            "state: New York\n",
            "area: 25000\n",
            "city: Brooklyn\n"
          ]
        }
      ]
    },
    {
      "cell_type": "code",
      "source": [
        "#kwargs, args, normal argument\n",
        "def city_details(**kwargs, *args, a, b, c):\n",
        "  print(\"Zip codes: \", args)\n",
        "\n",
        "  for key, value in kwargs.items():\n",
        "        print(f\"{key}: {value}\")\n",
        "\n",
        "\n",
        "city_details(state=\"New York\", area = 25000, city=\"Brooklyn\", [1001,1002,1003],1004, 1005, 1006)"
      ],
      "metadata": {
        "colab": {
          "base_uri": "https://localhost:8080/",
          "height": 141
        },
        "id": "rUlCgG38PNhP",
        "outputId": "a6b34213-d310-4c09-9877-42e4924af76f"
      },
      "execution_count": null,
      "outputs": [
        {
          "output_type": "error",
          "ename": "SyntaxError",
          "evalue": "ignored",
          "traceback": [
            "\u001b[0;36m  File \u001b[0;32m\"<ipython-input-43-3991a8cbba86>\"\u001b[0;36m, line \u001b[0;32m2\u001b[0m\n\u001b[0;31m    def city_details(**kwargs, *args, a, b, c):\u001b[0m\n\u001b[0m                               ^\u001b[0m\n\u001b[0;31mSyntaxError\u001b[0m\u001b[0;31m:\u001b[0m invalid syntax\n"
          ]
        }
      ]
    },
    {
      "cell_type": "code",
      "source": [
        "#kwargs, normal, args\n",
        "def city_details(**kwargs, a, b, c, *args):\n",
        "\n",
        "  for key, value in kwargs.items():\n",
        "        print(f\"{key}: {value}\")\n",
        "\n",
        "  print(\"Zip codes: \", args)\n",
        "\n",
        "city_details(state=\"New York\", area = 25000, city=\"Brooklyn\", 1001,1002,1003,1004, [1005, 1006])"
      ],
      "metadata": {
        "colab": {
          "base_uri": "https://localhost:8080/",
          "height": 141
        },
        "id": "V1LsY2FAPb1s",
        "outputId": "5762215a-a70d-4b9a-d91a-bc3a364a906a"
      },
      "execution_count": null,
      "outputs": [
        {
          "output_type": "error",
          "ename": "SyntaxError",
          "evalue": "ignored",
          "traceback": [
            "\u001b[0;36m  File \u001b[0;32m\"<ipython-input-44-ff15033342b8>\"\u001b[0;36m, line \u001b[0;32m2\u001b[0m\n\u001b[0;31m    def city_details(**kwargs, a, b, c, *args):\u001b[0m\n\u001b[0m                               ^\u001b[0m\n\u001b[0;31mSyntaxError\u001b[0m\u001b[0;31m:\u001b[0m invalid syntax\n"
          ]
        }
      ]
    },
    {
      "cell_type": "code",
      "source": [
        "#args, normal, kwargs\n",
        "def city_details(*args, a, b, c, **kwargs):\n",
        "\n",
        "  for key, value in kwargs.items():\n",
        "        print(f\"{key}: {value}\")\n",
        "\n",
        "  print(\"Zip codes: \", args)\n",
        "\n",
        "city_details([1005, 1006], 1001,1002,1003,1004, state=\"New York\", area = 25000, city=\"Brooklyn\")"
      ],
      "metadata": {
        "colab": {
          "base_uri": "https://localhost:8080/",
          "height": 210
        },
        "id": "YHHwFAsyPVC7",
        "outputId": "fab6ebd7-2b91-44e9-8bb3-f74138e71efe"
      },
      "execution_count": null,
      "outputs": [
        {
          "output_type": "error",
          "ename": "TypeError",
          "evalue": "ignored",
          "traceback": [
            "\u001b[0;31m---------------------------------------------------------------------------\u001b[0m",
            "\u001b[0;31mTypeError\u001b[0m                                 Traceback (most recent call last)",
            "\u001b[0;32m<ipython-input-45-0ff1c4811b5e>\u001b[0m in \u001b[0;36m<cell line: 9>\u001b[0;34m()\u001b[0m\n\u001b[1;32m      7\u001b[0m   \u001b[0mprint\u001b[0m\u001b[0;34m(\u001b[0m\u001b[0;34m\"Zip codes: \"\u001b[0m\u001b[0;34m,\u001b[0m \u001b[0margs\u001b[0m\u001b[0;34m)\u001b[0m\u001b[0;34m\u001b[0m\u001b[0;34m\u001b[0m\u001b[0m\n\u001b[1;32m      8\u001b[0m \u001b[0;34m\u001b[0m\u001b[0m\n\u001b[0;32m----> 9\u001b[0;31m \u001b[0mcity_details\u001b[0m\u001b[0;34m(\u001b[0m\u001b[0;34m[\u001b[0m\u001b[0;36m1005\u001b[0m\u001b[0;34m,\u001b[0m \u001b[0;36m1006\u001b[0m\u001b[0;34m]\u001b[0m\u001b[0;34m,\u001b[0m \u001b[0;36m1001\u001b[0m\u001b[0;34m,\u001b[0m\u001b[0;36m1002\u001b[0m\u001b[0;34m,\u001b[0m\u001b[0;36m1003\u001b[0m\u001b[0;34m,\u001b[0m\u001b[0;36m1004\u001b[0m\u001b[0;34m,\u001b[0m \u001b[0mstate\u001b[0m\u001b[0;34m=\u001b[0m\u001b[0;34m\"New York\"\u001b[0m\u001b[0;34m,\u001b[0m \u001b[0marea\u001b[0m \u001b[0;34m=\u001b[0m \u001b[0;36m25000\u001b[0m\u001b[0;34m,\u001b[0m \u001b[0mcity\u001b[0m\u001b[0;34m=\u001b[0m\u001b[0;34m\"Brooklyn\"\u001b[0m\u001b[0;34m)\u001b[0m\u001b[0;34m\u001b[0m\u001b[0;34m\u001b[0m\u001b[0m\n\u001b[0m",
            "\u001b[0;31mTypeError\u001b[0m: city_details() missing 3 required keyword-only arguments: 'a', 'b', and 'c'"
          ]
        }
      ]
    },
    {
      "cell_type": "code",
      "source": [
        "#normal, args, kwargs\n"
      ],
      "metadata": {
        "id": "tIVnuji7P0_w"
      },
      "execution_count": null,
      "outputs": []
    }
  ]
}