{
  "nbformat": 4,
  "nbformat_minor": 0,
  "metadata": {
    "colab": {
      "provenance": []
    },
    "kernelspec": {
      "name": "python3",
      "display_name": "Python 3"
    },
    "language_info": {
      "name": "python"
    }
  },
  "cells": [
    {
      "cell_type": "code",
      "execution_count": null,
      "metadata": {
        "colab": {
          "base_uri": "https://localhost:8080/"
        },
        "id": "acbGC4j3VLrW",
        "outputId": "80b3f3f5-5e7a-4e5a-9a01-be5bfca3ff1f"
      },
      "outputs": [
        {
          "output_type": "stream",
          "name": "stdout",
          "text": [
            "The string is a palindrome\n"
          ]
        }
      ],
      "source": [
        "#palindrome\n",
        "\n",
        "str1 = 'malayalam'\n",
        "\n",
        "if str1 == str1[::-1]:\n",
        "  print(\"The string is a palindrome\")\n",
        "else:\n",
        "  print(\"The string is not a palindrome\")\n",
        "\n"
      ]
    },
    {
      "cell_type": "code",
      "source": [
        "\n",
        "\n"
      ],
      "metadata": {
        "id": "kOEWAcOpYVoX"
      },
      "execution_count": null,
      "outputs": []
    }
  ]
}