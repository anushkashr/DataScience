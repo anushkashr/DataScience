{
  "nbformat": 4,
  "nbformat_minor": 0,
  "metadata": {
    "colab": {
      "provenance": []
    },
    "kernelspec": {
      "name": "python3",
      "display_name": "Python 3"
    },
    "language_info": {
      "name": "python"
    }
  },
  "cells": [
    {
      "cell_type": "code",
      "execution_count": null,
      "metadata": {
        "id": "00iVkzzNGVTK"
      },
      "outputs": [],
      "source": [
        "file = open('my_file_operation.txt', 'x')\n"
      ]
    },
    {
      "cell_type": "code",
      "source": [
        "\n",
        "file = open('my_file_operation.txt', 'w')\n"
      ],
      "metadata": {
        "id": "PUSRDQpZHbis"
      },
      "execution_count": null,
      "outputs": []
    },
    {
      "cell_type": "code",
      "source": [
        "file.write('This is my first file operation program.')"
      ],
      "metadata": {
        "colab": {
          "base_uri": "https://localhost:8080/"
        },
        "id": "b_OYAsiyHegB",
        "outputId": "549ffefd-33c4-44b3-ca02-8fe8f0802f38"
      },
      "execution_count": null,
      "outputs": [
        {
          "output_type": "execute_result",
          "data": {
            "text/plain": [
              "40"
            ]
          },
          "metadata": {},
          "execution_count": 3
        }
      ]
    },
    {
      "cell_type": "code",
      "source": [
        "file = open('my_file_operation.txt', 'r')"
      ],
      "metadata": {
        "id": "sIrp4UzzHhCO"
      },
      "execution_count": null,
      "outputs": []
    },
    {
      "cell_type": "code",
      "source": [
        "file.read()"
      ],
      "metadata": {
        "colab": {
          "base_uri": "https://localhost:8080/",
          "height": 35
        },
        "id": "ihlccCiAHo-b",
        "outputId": "81011fa4-f706-4621-f59c-2cb4e3ac1180"
      },
      "execution_count": null,
      "outputs": [
        {
          "output_type": "execute_result",
          "data": {
            "text/plain": [
              "'This is my first file operation program.'"
            ],
            "application/vnd.google.colaboratory.intrinsic+json": {
              "type": "string"
            }
          },
          "metadata": {},
          "execution_count": 5
        }
      ]
    },
    {
      "cell_type": "code",
      "source": [
        "file = open('my_file_operation.txt', 'a')"
      ],
      "metadata": {
        "id": "MqRHkQW2HutI"
      },
      "execution_count": null,
      "outputs": []
    },
    {
      "cell_type": "code",
      "source": [
        "file.write('This is set of new text for my file my_file_operation.txt')"
      ],
      "metadata": {
        "colab": {
          "base_uri": "https://localhost:8080/"
        },
        "id": "on0wG56jH4Yg",
        "outputId": "dc8a40e8-40f5-43c2-cbbb-0e3b40067ead"
      },
      "execution_count": null,
      "outputs": [
        {
          "output_type": "execute_result",
          "data": {
            "text/plain": [
              "57"
            ]
          },
          "metadata": {},
          "execution_count": 7
        }
      ]
    },
    {
      "cell_type": "code",
      "source": [
        "file = open('my_file_operation.txt', 'r')"
      ],
      "metadata": {
        "id": "-lz87WBKIFzv"
      },
      "execution_count": null,
      "outputs": []
    },
    {
      "cell_type": "code",
      "source": [
        "file.read()"
      ],
      "metadata": {
        "colab": {
          "base_uri": "https://localhost:8080/",
          "height": 35
        },
        "id": "8qo01HGmIQtY",
        "outputId": "04029d8d-f520-41a9-8b84-3a736ac73d85"
      },
      "execution_count": null,
      "outputs": [
        {
          "output_type": "execute_result",
          "data": {
            "text/plain": [
              "'This is my first file operation program.This is set of new text for my file my_file_operation.txt'"
            ],
            "application/vnd.google.colaboratory.intrinsic+json": {
              "type": "string"
            }
          },
          "metadata": {},
          "execution_count": 9
        }
      ]
    },
    {
      "cell_type": "code",
      "source": [
        "#Creates a new file named input.txt\n",
        "f = open('input_file.txt', 'x')"
      ],
      "metadata": {
        "id": "MP9zdHD6JAsm"
      },
      "execution_count": null,
      "outputs": []
    },
    {
      "cell_type": "code",
      "source": [
        "f = open('input_file.txt', 'w')"
      ],
      "metadata": {
        "id": "w9KKt-EdJShY"
      },
      "execution_count": null,
      "outputs": []
    },
    {
      "cell_type": "code",
      "source": [
        "f.write('This is my input file. ')"
      ],
      "metadata": {
        "colab": {
          "base_uri": "https://localhost:8080/"
        },
        "id": "CRKxx4LzJaw4",
        "outputId": "e25106b9-9bb5-413d-ae6f-2788ed42390c"
      },
      "execution_count": null,
      "outputs": [
        {
          "output_type": "execute_result",
          "data": {
            "text/plain": [
              "23"
            ]
          },
          "metadata": {},
          "execution_count": 12
        }
      ]
    },
    {
      "cell_type": "code",
      "source": [
        "f = open('input_file.txt', 'r')"
      ],
      "metadata": {
        "id": "SHMrW0orJf-R"
      },
      "execution_count": null,
      "outputs": []
    },
    {
      "cell_type": "code",
      "source": [
        "f.read()"
      ],
      "metadata": {
        "colab": {
          "base_uri": "https://localhost:8080/",
          "height": 35
        },
        "id": "kLM7md41Jmp8",
        "outputId": "efb17767-67da-4709-df93-9802370c1169"
      },
      "execution_count": null,
      "outputs": [
        {
          "output_type": "execute_result",
          "data": {
            "text/plain": [
              "'This is my input file. '"
            ],
            "application/vnd.google.colaboratory.intrinsic+json": {
              "type": "string"
            }
          },
          "metadata": {},
          "execution_count": 14
        }
      ]
    },
    {
      "cell_type": "code",
      "source": [
        "f = open('input_file.txt', 'w')"
      ],
      "metadata": {
        "id": "JON3Fdi4JpA_"
      },
      "execution_count": null,
      "outputs": []
    },
    {
      "cell_type": "code",
      "source": [
        "f.write('This is set of new text for my file input_file.txt')"
      ],
      "metadata": {
        "colab": {
          "base_uri": "https://localhost:8080/"
        },
        "id": "PpFdAa0JJ9yY",
        "outputId": "fda10fdd-1179-4a1e-9d3b-acea63caf9ae"
      },
      "execution_count": null,
      "outputs": [
        {
          "output_type": "execute_result",
          "data": {
            "text/plain": [
              "50"
            ]
          },
          "metadata": {},
          "execution_count": 25
        }
      ]
    },
    {
      "cell_type": "code",
      "source": [
        "f = open('input_file.txt', 'r')"
      ],
      "metadata": {
        "id": "cpp-4tuQKL5o"
      },
      "execution_count": null,
      "outputs": []
    },
    {
      "cell_type": "code",
      "source": [
        "f.read()"
      ],
      "metadata": {
        "colab": {
          "base_uri": "https://localhost:8080/",
          "height": 35
        },
        "id": "vbamU1T1KSMm",
        "outputId": "645ae654-fde6-4306-856e-337636130853"
      },
      "execution_count": null,
      "outputs": [
        {
          "output_type": "execute_result",
          "data": {
            "text/plain": [
              "'This is set of new text for my file input_file.txt'"
            ],
            "application/vnd.google.colaboratory.intrinsic+json": {
              "type": "string"
            }
          },
          "metadata": {},
          "execution_count": 27
        }
      ]
    },
    {
      "cell_type": "code",
      "source": [
        "f = open('input_file.txt', 'r')"
      ],
      "metadata": {
        "id": "OvjKBACuLIW-"
      },
      "execution_count": null,
      "outputs": []
    },
    {
      "cell_type": "code",
      "source": [
        "f.read()"
      ],
      "metadata": {
        "colab": {
          "base_uri": "https://localhost:8080/",
          "height": 35
        },
        "id": "57fnW6LhLMDY",
        "outputId": "7d5d0b48-f3b9-4ca0-f2a4-afd312b5c407"
      },
      "execution_count": null,
      "outputs": [
        {
          "output_type": "execute_result",
          "data": {
            "text/plain": [
              "'This is set of new text for my file input_file.txt'"
            ],
            "application/vnd.google.colaboratory.intrinsic+json": {
              "type": "string"
            }
          },
          "metadata": {},
          "execution_count": 22
        }
      ]
    },
    {
      "cell_type": "code",
      "source": [
        "f = open('input_file.txt', 'a')"
      ],
      "metadata": {
        "id": "2PSW90vxL1Lv"
      },
      "execution_count": null,
      "outputs": []
    },
    {
      "cell_type": "code",
      "source": [
        "f = open('input_file.txt', 'w')"
      ],
      "metadata": {
        "id": "PSkcj0fKL7LA"
      },
      "execution_count": null,
      "outputs": []
    },
    {
      "cell_type": "code",
      "source": [
        "f.write('The file name is input_file.txt')"
      ],
      "metadata": {
        "colab": {
          "base_uri": "https://localhost:8080/"
        },
        "id": "_-UV0Cs6MDrb",
        "outputId": "4269559f-8e94-4ea6-fd73-f653bc78fb95"
      },
      "execution_count": null,
      "outputs": [
        {
          "output_type": "execute_result",
          "data": {
            "text/plain": [
              "31"
            ]
          },
          "metadata": {},
          "execution_count": 31
        }
      ]
    },
    {
      "cell_type": "code",
      "source": [
        "f = open('input_file.txt', 'r')"
      ],
      "metadata": {
        "id": "VILVyi0KMMcg"
      },
      "execution_count": null,
      "outputs": []
    },
    {
      "cell_type": "code",
      "source": [
        "f.read()"
      ],
      "metadata": {
        "colab": {
          "base_uri": "https://localhost:8080/",
          "height": 35
        },
        "id": "j1llJmBVMRtu",
        "outputId": "72a278fd-cb26-4f30-af4e-36b21ef4dbe0"
      },
      "execution_count": null,
      "outputs": [
        {
          "output_type": "execute_result",
          "data": {
            "text/plain": [
              "'The file name is input_file.txt'"
            ],
            "application/vnd.google.colaboratory.intrinsic+json": {
              "type": "string"
            }
          },
          "metadata": {},
          "execution_count": 33
        }
      ]
    },
    {
      "cell_type": "code",
      "source": [
        "f = open('input_file.txt', 'a')"
      ],
      "metadata": {
        "id": "_dchGUjwMah2"
      },
      "execution_count": null,
      "outputs": []
    },
    {
      "cell_type": "code",
      "source": [
        "f.write('This is set of new text for my file input_file.txt')"
      ],
      "metadata": {
        "colab": {
          "base_uri": "https://localhost:8080/"
        },
        "id": "JaUHJC6nMb3b",
        "outputId": "bd553e88-6110-413d-ec76-6d96990fb5c2"
      },
      "execution_count": null,
      "outputs": [
        {
          "output_type": "execute_result",
          "data": {
            "text/plain": [
              "50"
            ]
          },
          "metadata": {},
          "execution_count": 35
        }
      ]
    },
    {
      "cell_type": "code",
      "source": [
        "f = open('input_file.txt', 'r')"
      ],
      "metadata": {
        "id": "T76OLsC1MmN8"
      },
      "execution_count": null,
      "outputs": []
    },
    {
      "cell_type": "code",
      "source": [
        "f.read()"
      ],
      "metadata": {
        "colab": {
          "base_uri": "https://localhost:8080/",
          "height": 35
        },
        "id": "6Huz_QYtMqLr",
        "outputId": "daacfc54-2283-410e-fedc-d7f043bc2fff"
      },
      "execution_count": null,
      "outputs": [
        {
          "output_type": "execute_result",
          "data": {
            "text/plain": [
              "'The file name is input_file.txtThis is set of new text for my file input_file.txt'"
            ],
            "application/vnd.google.colaboratory.intrinsic+json": {
              "type": "string"
            }
          },
          "metadata": {},
          "execution_count": 37
        }
      ]
    },
    {
      "cell_type": "code",
      "source": [
        "#Exception handling\n",
        "\n",
        "#syntax error\n",
        "#logical error\n",
        "#runtime error occurs when user makes a mistake\n",
        "#e.g filename couldn't be found caused mispelled"
      ],
      "metadata": {
        "id": "-AqHTj4xOV5C"
      },
      "execution_count": null,
      "outputs": []
    },
    {
      "cell_type": "markdown",
      "source": [
        "# Exception Handling\n",
        "\n",
        "1.   Syntax error\n",
        "2.   Logical error\n",
        "3.   Runtime error\n"
      ],
      "metadata": {
        "id": "6PUG_drtQ_9j"
      }
    },
    {
      "cell_type": "code",
      "source": [
        "try:\n",
        "  f = open('input_file_EH.txt', 'r')\n",
        "except FileNotFoundError as fnfe:\n",
        "  print('Error: File not found\\n', fnfe)\n"
      ],
      "metadata": {
        "colab": {
          "base_uri": "https://localhost:8080/"
        },
        "id": "EZ9oPVPJSMIG",
        "outputId": "43bc04bc-74f1-411a-e089-787e6adc8ced"
      },
      "execution_count": null,
      "outputs": [
        {
          "output_type": "stream",
          "name": "stdout",
          "text": [
            "Error: File not found\n",
            " [Errno 2] No such file or directory: 'input_file_EH.txt'\n"
          ]
        }
      ]
    },
    {
      "cell_type": "code",
      "source": [
        "#missing @ not allowing to enter that email"
      ],
      "metadata": {
        "id": "xb_MEZEPUJYR"
      },
      "execution_count": null,
      "outputs": []
    },
    {
      "cell_type": "code",
      "source": [
        "tup1 = (1,2,3,4,5,6,7,8,9,10)\n",
        "try:\n",
        "  tup1.append(11)\n",
        "except AttributeError as ae:\n",
        "  print('Error: Attribute Exception -', ae)\n"
      ],
      "metadata": {
        "colab": {
          "base_uri": "https://localhost:8080/"
        },
        "id": "yaIN-gr5yYRO",
        "outputId": "a78f7da4-2e38-43da-adfe-d362fdf3e1b4"
      },
      "execution_count": null,
      "outputs": [
        {
          "output_type": "stream",
          "name": "stdout",
          "text": [
            "Error: Attribute Exception - 'tuple' object has no attribute 'append'\n"
          ]
        }
      ]
    },
    {
      "cell_type": "code",
      "source": [
        "a = 'Python'\n",
        "b = 10\n",
        "c = 'Programming'\n",
        "\n",
        "try:\n",
        "  print(a+b+c)\n",
        "except TypeError as te:\n",
        "  print('Error: Type Error Exception -', te)"
      ],
      "metadata": {
        "colab": {
          "base_uri": "https://localhost:8080/"
        },
        "id": "0TuMXzv71BeZ",
        "outputId": "2491ae70-37d3-48e6-caeb-2f1058816875"
      },
      "execution_count": null,
      "outputs": [
        {
          "output_type": "stream",
          "name": "stdout",
          "text": [
            "Error: Type Error Exception - can only concatenate str (not \"int\") to str\n"
          ]
        }
      ]
    },
    {
      "cell_type": "code",
      "source": [
        "try:\n",
        "  for i in range(10):\n",
        "  print(i)\n",
        "except IndentationError as ie:\n",
        "   print('IndentationError', ie)"
      ],
      "metadata": {
        "colab": {
          "base_uri": "https://localhost:8080/",
          "height": 140
        },
        "id": "Mi3qZy_M4Gwf",
        "outputId": "bd5048f4-8a25-4cba-b6ca-4e14d92773b4"
      },
      "execution_count": null,
      "outputs": [
        {
          "output_type": "error",
          "ename": "IndentationError",
          "evalue": "ignored",
          "traceback": [
            "\u001b[0;36m  File \u001b[0;32m\"<ipython-input-10-b717908b5351>\"\u001b[0;36m, line \u001b[0;32m3\u001b[0m\n\u001b[0;31m    print(i)\u001b[0m\n\u001b[0m    ^\u001b[0m\n\u001b[0;31mIndentationError\u001b[0m\u001b[0;31m:\u001b[0m expected an indented block after 'for' statement on line 2\n"
          ]
        }
      ]
    },
    {
      "cell_type": "code",
      "source": [
        "lst1 = [12,23,34,45,56,67,78,89,90,10,20,30,40,50,60,70,80,90,100]\n",
        "v_len = len(lst1)\n",
        "print(v_len, v_len+3)\n",
        "for i in range(v_len+3):\n",
        "  try:\n",
        "    print('Value inside my list ', lst1[i])\n",
        "  except IndexError as ie:\n",
        "    print('IndexError Exception: The list is of length:', v_len, 'and is trying to fetch index:', v_len+3, ie)"
      ],
      "metadata": {
        "colab": {
          "base_uri": "https://localhost:8080/"
        },
        "id": "zsdPGIEp5cBI",
        "outputId": "d94c85b6-32f1-43a8-9be0-d8c33b5216a7"
      },
      "execution_count": null,
      "outputs": [
        {
          "output_type": "stream",
          "name": "stdout",
          "text": [
            "19 22\n",
            "Value inside my list  12\n",
            "Value inside my list  23\n",
            "Value inside my list  34\n",
            "Value inside my list  45\n",
            "Value inside my list  56\n",
            "Value inside my list  67\n",
            "Value inside my list  78\n",
            "Value inside my list  89\n",
            "Value inside my list  90\n",
            "Value inside my list  10\n",
            "Value inside my list  20\n",
            "Value inside my list  30\n",
            "Value inside my list  40\n",
            "Value inside my list  50\n",
            "Value inside my list  60\n",
            "Value inside my list  70\n",
            "Value inside my list  80\n",
            "Value inside my list  90\n",
            "Value inside my list  100\n",
            "IndexError Exception: The list is of length: 19 and is trying to fetch index: 22 list index out of range\n",
            "IndexError Exception: The list is of length: 19 and is trying to fetch index: 22 list index out of range\n",
            "IndexError Exception: The list is of length: 19 and is trying to fetch index: 22 list index out of range\n"
          ]
        }
      ]
    }
  ]
}