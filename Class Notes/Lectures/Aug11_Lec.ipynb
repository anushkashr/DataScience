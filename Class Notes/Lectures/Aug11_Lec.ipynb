{
  "nbformat": 4,
  "nbformat_minor": 0,
  "metadata": {
    "colab": {
      "provenance": []
    },
    "kernelspec": {
      "name": "python3",
      "display_name": "Python 3"
    },
    "language_info": {
      "name": "python"
    }
  },
  "cells": [
    {
      "cell_type": "code",
      "execution_count": null,
      "metadata": {
        "colab": {
          "base_uri": "https://localhost:8080/"
        },
        "id": "yKqhZwlfCHmc",
        "outputId": "61b1e075-82c2-4ad6-8cab-6860ae613723"
      },
      "outputs": [
        {
          "output_type": "stream",
          "name": "stdout",
          "text": [
            "120\n",
            "80\n",
            "2000\n",
            "5.0\n",
            "0\n",
            "5\n",
            "10000000000000000000000000000000000000000\n"
          ]
        }
      ],
      "source": [
        "#Basic Python Operators\n",
        "\n",
        "a=100\n",
        "b=20\n",
        "\n",
        "print(a+b)\n",
        "print(a-b)\n",
        "print(a*b)\n",
        "print(a/b)\n",
        "print(a%b) #remainder\n",
        "print(a//b) #quotient\n",
        "print(a**b) #exponential"
      ]
    },
    {
      "cell_type": "code",
      "source": [
        "# Assignment Operators\n",
        "\n",
        "\n",
        "a = 80\n",
        "b = 4\n",
        "\n",
        "a += b\n",
        "print(a, b)\n",
        "\n",
        "a = 80\n",
        "b = 4\n",
        "\n",
        "a -= b\n",
        "print(a, b)\n",
        "\n",
        "a = 80\n",
        "b = 20\n",
        "\n",
        "a *= b\n",
        "print(a, b)\n",
        "\n",
        "a = 100\n",
        "b = 20\n",
        "\n",
        "a /= b\n",
        "print(a, b)\n",
        "\n",
        "a = 100\n",
        "b = 20\n",
        "\n",
        "a %= b\n",
        "print(a, b)\n",
        "\n",
        "a = 100\n",
        "b = 20\n",
        "\n",
        "a //= b\n",
        "print(a, b)\n",
        "\n",
        "a = 100\n",
        "b = 2\n",
        "\n",
        "a **= b\n",
        "print(a, b)"
      ],
      "metadata": {
        "colab": {
          "base_uri": "https://localhost:8080/"
        },
        "id": "TlbssXjjG8UT",
        "outputId": "6cdc275e-2795-4586-b802-e1d47f7254d1"
      },
      "execution_count": null,
      "outputs": [
        {
          "output_type": "stream",
          "name": "stdout",
          "text": [
            "84 4\n",
            "76 4\n",
            "1600 20\n",
            "5.0 20\n",
            "0 20\n",
            "5 20\n",
            "10000 2\n"
          ]
        }
      ]
    },
    {
      "cell_type": "code",
      "source": [
        "#Python Logical operators\n",
        "#AND, OR and NOT operators\n",
        "\n",
        "a=100\n",
        "b=20\n",
        "\n",
        "print(\"--------AND--------\")\n",
        "print(a > 50 and b < 50)\n",
        "print(a == 50 and b < 50)\n",
        "print(a < 50 and b < 50)\n",
        "print(a > 50 and b > 50)\n",
        "\n",
        "print(\"--------OR--------\")\n",
        "print(a > 50 or b < 50)\n",
        "print(a == 50 or b < 50)\n",
        "print(a < 50 or b < 50)\n",
        "print(a < 50 or b > 50)"
      ],
      "metadata": {
        "colab": {
          "base_uri": "https://localhost:8080/"
        },
        "id": "3fnut0AvLVYc",
        "outputId": "56d1ec5e-b28b-4d9a-ebca-71cc7464e872"
      },
      "execution_count": null,
      "outputs": [
        {
          "output_type": "stream",
          "name": "stdout",
          "text": [
            "--------AND--------\n",
            "True\n",
            "False\n",
            "False\n",
            "False\n",
            "--------OR--------\n",
            "True\n",
            "True\n",
            "True\n",
            "False\n"
          ]
        }
      ]
    },
    {
      "cell_type": "code",
      "source": [
        "#Python Membership Operators\n",
        "\n",
        "a = 100\n",
        "b = [100, 200, 300, 400, 500]\n",
        "\n",
        "print(a in b)\n",
        "\n",
        "a = \"apple\"\n",
        "b = (\"banana\", \"kiwi\", \"orange\", \"strawberry\", \"pineapple\")\n",
        "\n",
        "a not in b"
      ],
      "metadata": {
        "colab": {
          "base_uri": "https://localhost:8080/"
        },
        "id": "k9t7QMgvMhgw",
        "outputId": "32c2fb4f-5855-4ef5-a857-a95ae6d4c6eb"
      },
      "execution_count": null,
      "outputs": [
        {
          "output_type": "stream",
          "name": "stdout",
          "text": [
            "True\n"
          ]
        },
        {
          "output_type": "execute_result",
          "data": {
            "text/plain": [
              "True"
            ]
          },
          "metadata": {},
          "execution_count": 29
        }
      ]
    },
    {
      "cell_type": "code",
      "source": [
        "#Python Membership Operators\n",
        "a = 50\n",
        "b = 20\n",
        "\n",
        "print(a is b) #like a = b\n",
        "print(a is not b)\n",
        "\n",
        "a = \"50\"\n",
        "b = 50\n",
        "\n",
        "print(a is b)\n",
        "print(a is not b)"
      ],
      "metadata": {
        "colab": {
          "base_uri": "https://localhost:8080/"
        },
        "id": "e0gzqlJPNhZ2",
        "outputId": "e1708428-43ac-4c53-c48b-372a0847cf51"
      },
      "execution_count": null,
      "outputs": [
        {
          "output_type": "stream",
          "name": "stdout",
          "text": [
            "False\n",
            "True\n",
            "False\n",
            "True\n"
          ]
        }
      ]
    },
    {
      "cell_type": "code",
      "source": [],
      "metadata": {
        "id": "3VBv8D5zN2Zf"
      },
      "execution_count": null,
      "outputs": []
    },
    {
      "cell_type": "markdown",
      "source": [
        "Data Science is the field that deals with data by examining, extracting, making predictions by analyzing large sets of information and produces valuable data insights,\n",
        "This field involves statistics and = programming.\n",
        "\n",
        "A real world example is music streaming apps like Apple Music and Spotify which uses data science to recommend songs based on your listening history. Basically it analyzes patterns in our preferences to suggest content we're likely to enjoy."
      ],
      "metadata": {
        "id": "x-uISz91QeZf"
      }
    },
    {
      "cell_type": "code",
      "source": [
        "percentage = 34.99\n",
        "\n",
        "if percentage >= 75:\n",
        "  print('First Class with Distinction')\n",
        "  if percentage >= 75:\n",
        "    print('First Class with Distinction')\n",
        "    if percentage >= 75:\n",
        "      print('First Class with Distinction')\n",
        "      if percentage >= 75:\n",
        "        print('First Class with Distinction')\n",
        "        if percentage >= 75:\n",
        "          print('First Class with Distinction')\n"
      ],
      "metadata": {
        "id": "tl_bBv8LdIpX"
      },
      "execution_count": null,
      "outputs": []
    }
  ]
}