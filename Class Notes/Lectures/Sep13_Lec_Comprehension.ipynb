{
  "nbformat": 4,
  "nbformat_minor": 0,
  "metadata": {
    "colab": {
      "provenance": []
    },
    "kernelspec": {
      "name": "python3",
      "display_name": "Python 3"
    },
    "language_info": {
      "name": "python"
    }
  },
  "cells": [
    {
      "cell_type": "markdown",
      "source": [
        "# Comprehension\n",
        "\n",
        "1. List\n",
        "2. Dictionary\n",
        "3. Set\n",
        "4. Generative"
      ],
      "metadata": {
        "id": "_AmureYIAhbo"
      }
    },
    {
      "cell_type": "code",
      "execution_count": 1,
      "metadata": {
        "colab": {
          "base_uri": "https://localhost:8080/"
        },
        "id": "5sN-XQGtAWlN",
        "outputId": "1372a5a0-4694-4920-ad50-11270c25a515"
      },
      "outputs": [
        {
          "output_type": "stream",
          "name": "stdout",
          "text": [
            "[0, 1, 2, 3, 4, 5, 6, 7, 8, 9, 10, 11, 12, 13, 14, 15, 16, 17, 18, 19, 20, 21, 22, 23, 24, 25, 26, 27, 28, 29, 30, 31, 32, 33, 34, 35, 36, 37, 38, 39, 40, 41, 42, 43, 44, 45, 46, 47, 48, 49, 50, 51, 52, 53, 54, 55, 56, 57, 58, 59, 60, 61, 62, 63, 64, 65, 66, 67, 68, 69, 70, 71, 72, 73, 74, 75, 76, 77, 78, 79, 80, 81, 82, 83, 84, 85, 86, 87, 88, 89, 90, 91, 92, 93, 94, 95, 96, 97, 98, 99]\n"
          ]
        }
      ],
      "source": [
        "#List Comprehension\n",
        "\n",
        "lst_comp1 = [i for i in range(100)]\n",
        "print(lst_comp1)\n"
      ]
    },
    {
      "cell_type": "code",
      "source": [
        "for i in range(100):\n",
        "  if i % 3 == 0:\n",
        "    print(i, end=\" \")"
      ],
      "metadata": {
        "colab": {
          "base_uri": "https://localhost:8080/"
        },
        "id": "aebjESCnBHeu",
        "outputId": "84d31713-10d5-4c58-93af-4692491b9334"
      },
      "execution_count": 4,
      "outputs": [
        {
          "output_type": "stream",
          "name": "stdout",
          "text": [
            "0 3 6 9 12 15 18 21 24 27 30 33 36 39 42 45 48 51 54 57 60 63 66 69 72 75 78 81 84 87 90 93 96 99 "
          ]
        }
      ]
    },
    {
      "cell_type": "code",
      "source": [
        "#Above code in the form of list comprehension\n",
        "lst_comp2 = [i for i in range(100) if i % 3 == 0]\n",
        "print(lst_comp2)"
      ],
      "metadata": {
        "colab": {
          "base_uri": "https://localhost:8080/"
        },
        "id": "vL_k5CSDBajA",
        "outputId": "3ade605a-8019-4429-d661-f90a828ba2a3"
      },
      "execution_count": 8,
      "outputs": [
        {
          "output_type": "stream",
          "name": "stdout",
          "text": [
            "[0, 3, 6, 9, 12, 15, 18, 21, 24, 27, 30, 33, 36, 39, 42, 45, 48, 51, 54, 57, 60, 63, 66, 69, 72, 75, 78, 81, 84, 87, 90, 93, 96, 99]\n"
          ]
        }
      ]
    },
    {
      "cell_type": "code",
      "source": [
        "fruits_lst = ['apple', 'banana', 'cherries', 'dates', 'eggfruit', 'fig', 'grapes']\n",
        "for i in fruits_lst:\n",
        "  if 'a' in i:\n",
        "    print(i)\n"
      ],
      "metadata": {
        "colab": {
          "base_uri": "https://localhost:8080/"
        },
        "id": "tSbjqrJZBzFm",
        "outputId": "9026b982-9460-4a1b-fee3-e1f410c39090"
      },
      "execution_count": 9,
      "outputs": [
        {
          "output_type": "stream",
          "name": "stdout",
          "text": [
            "apple\n",
            "banana\n",
            "dates\n",
            "grapes\n"
          ]
        }
      ]
    },
    {
      "cell_type": "code",
      "source": [
        "fruits_lst = ['apple', 'banana', 'cherries', 'dates', 'eggfruit', 'fig', 'grapes']\n",
        "lst_comp3 = [i for i in fruits_lst if 'a' in i]\n",
        "print(lst_comp3)"
      ],
      "metadata": {
        "colab": {
          "base_uri": "https://localhost:8080/"
        },
        "id": "6TWV2DC-CmHu",
        "outputId": "2f4e389c-0ca2-4b8b-d9f3-48144e6d9e09"
      },
      "execution_count": 10,
      "outputs": [
        {
          "output_type": "stream",
          "name": "stdout",
          "text": [
            "['apple', 'banana', 'dates', 'grapes']\n"
          ]
        }
      ]
    },
    {
      "cell_type": "code",
      "source": [
        "fruits_lst = ['apple', 'pineapple', 'greenapple', 'custardapple', 'eggfruit', 'fig', 'grapes']\n",
        "lst_comp3 = [i for i in fruits_lst if 'apple' in i]\n",
        "print(lst_comp3)"
      ],
      "metadata": {
        "colab": {
          "base_uri": "https://localhost:8080/"
        },
        "id": "fvQiSLx-C42F",
        "outputId": "7027da12-adeb-46b8-94e6-a8e2fe81f59d"
      },
      "execution_count": 17,
      "outputs": [
        {
          "output_type": "stream",
          "name": "stdout",
          "text": [
            "['apple', 'pineapple', 'greenapple', 'custardapple']\n"
          ]
        }
      ]
    },
    {
      "cell_type": "code",
      "source": [
        "fruits_lst = ['apple', 'greenapple', 'cherries', 'dates', 'eggfruit', 'fig', 'grapes']\n",
        "lst_comp3 = [i for i in fruits_lst if 'apple' not in i]\n",
        "print(lst_comp3)"
      ],
      "metadata": {
        "colab": {
          "base_uri": "https://localhost:8080/"
        },
        "id": "NRJJc7JKDom7",
        "outputId": "d5838e00-c875-48fa-e7a5-c23ac4bf8039"
      },
      "execution_count": 14,
      "outputs": [
        {
          "output_type": "stream",
          "name": "stdout",
          "text": [
            "['cherries', 'dates', 'eggfruit', 'fig', 'grapes']\n"
          ]
        }
      ]
    },
    {
      "cell_type": "code",
      "source": [
        "fruits_lst = ['apple', 'greenapple', 'cherries', 'dates', 'eggfruit', 'fig', 'grapes']\n",
        "lst_comp3 = [f\"{i} exists in Fruits List\" for i in fruits_lst if 'apple' in i]\n",
        "print(lst_comp3)"
      ],
      "metadata": {
        "colab": {
          "base_uri": "https://localhost:8080/"
        },
        "id": "_ElY90sED74k",
        "outputId": "436f80dd-4037-4e8c-9ec3-29a11ed4b1d3"
      },
      "execution_count": 24,
      "outputs": [
        {
          "output_type": "stream",
          "name": "stdout",
          "text": [
            "['apple exists in Fruits List', 'greenapple exists in Fruits List']\n"
          ]
        }
      ]
    },
    {
      "cell_type": "code",
      "source": [
        "iPhone_list = [11, 12, 13, 14, 15]\n",
        "ip_list = [f\"{i} is the new model\" if i == 15 else f\"{i} is the old model\" for i in iPhone_list]\n",
        "print(ip_list)\n"
      ],
      "metadata": {
        "colab": {
          "base_uri": "https://localhost:8080/"
        },
        "id": "kMuMCQEiHmHv",
        "outputId": "5eea82ad-9919-4c9e-80d4-83fcb5aa90b1"
      },
      "execution_count": 41,
      "outputs": [
        {
          "output_type": "stream",
          "name": "stdout",
          "text": [
            "['11 is the old model', '12 is the old model', '13 is the old model', '14 is the old model', '15 is the new model']\n"
          ]
        }
      ]
    },
    {
      "cell_type": "code",
      "source": [
        "names = ['Ch', 'Dh', 'Eh', 'cb', 'Tb', 'Td']\n",
        "lst = [i for i in names if 'c' in i or 'C' in i]\n",
        "print(lst)"
      ],
      "metadata": {
        "colab": {
          "base_uri": "https://localhost:8080/"
        },
        "id": "6kOdXY5XIvUj",
        "outputId": "5a370b3a-7508-4bf1-fcba-99083e54b765"
      },
      "execution_count": 34,
      "outputs": [
        {
          "output_type": "stream",
          "name": "stdout",
          "text": [
            "['Ch', 'cb']\n"
          ]
        }
      ]
    },
    {
      "cell_type": "code",
      "source": [
        "names = ['Ch', 'Dch', 'Eh', 'cb', 'Tb', 'Td', 'cherry']\n",
        "lst = [i for i in names if i[0] == 'c' or i[0] == 'C']\n",
        "print(lst)"
      ],
      "metadata": {
        "colab": {
          "base_uri": "https://localhost:8080/"
        },
        "id": "s-Fw9p0HLKaD",
        "outputId": "8692bd4a-4d9f-46c3-dce3-b622e1124cbe"
      },
      "execution_count": 44,
      "outputs": [
        {
          "output_type": "stream",
          "name": "stdout",
          "text": [
            "['Ch', 'cb', 'cherry']\n"
          ]
        }
      ]
    },
    {
      "cell_type": "code",
      "source": [
        "names = ['Today', 'is', 'a', 'very', 'sunny', 'day', '!']\n",
        "lst = [i for i in names if i[-2:] == 'ay']\n",
        "print(lst)"
      ],
      "metadata": {
        "colab": {
          "base_uri": "https://localhost:8080/"
        },
        "id": "uC6123WLLh2Z",
        "outputId": "5bea5555-93c3-4a6b-8479-0dc72044b404"
      },
      "execution_count": 52,
      "outputs": [
        {
          "output_type": "stream",
          "name": "stdout",
          "text": [
            "['Today', 'day']\n"
          ]
        }
      ]
    },
    {
      "cell_type": "code",
      "source": [
        "#Dictionary Comprehension\n",
        "\n",
        "dictCompre = {i : f\"Item {i}\" for i in range(10)}\n",
        "dictCompre"
      ],
      "metadata": {
        "colab": {
          "base_uri": "https://localhost:8080/"
        },
        "id": "BpeoMbkdSbe5",
        "outputId": "3e58b616-c7b4-4842-91ac-62229b8652e0"
      },
      "execution_count": 50,
      "outputs": [
        {
          "output_type": "execute_result",
          "data": {
            "text/plain": [
              "{0: 'Item 0',\n",
              " 1: 'Item 1',\n",
              " 2: 'Item 2',\n",
              " 3: 'Item 3',\n",
              " 4: 'Item 4',\n",
              " 5: 'Item 5',\n",
              " 6: 'Item 6',\n",
              " 7: 'Item 7',\n",
              " 8: 'Item 8',\n",
              " 9: 'Item 9'}"
            ]
          },
          "metadata": {},
          "execution_count": 50
        }
      ]
    },
    {
      "cell_type": "code",
      "source": [
        "iPhone_set = {i for i in (11,12,13,14,14,15,11,'11 Pro', '12 Pro')}\n",
        "iPhone_set\n"
      ],
      "metadata": {
        "colab": {
          "base_uri": "https://localhost:8080/"
        },
        "id": "F1kZetv7Uw9r",
        "outputId": "dca321d1-5125-4582-f2bd-a475cf5f59c5"
      },
      "execution_count": 60,
      "outputs": [
        {
          "output_type": "execute_result",
          "data": {
            "text/plain": [
              "{11, '11 Pro', 12, '12 Pro', 13, 14, 15}"
            ]
          },
          "metadata": {},
          "execution_count": 60
        }
      ]
    }
  ]
}