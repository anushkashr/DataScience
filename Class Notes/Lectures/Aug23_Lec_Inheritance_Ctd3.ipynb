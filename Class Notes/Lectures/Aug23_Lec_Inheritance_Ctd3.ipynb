{
  "nbformat": 4,
  "nbformat_minor": 0,
  "metadata": {
    "colab": {
      "provenance": []
    },
    "kernelspec": {
      "name": "python3",
      "display_name": "Python 3"
    },
    "language_info": {
      "name": "python"
    }
  },
  "cells": [
    {
      "cell_type": "code",
      "execution_count": 9,
      "metadata": {
        "id": "b-ydFU_D6MNc"
      },
      "outputs": [],
      "source": [
        "class Laptops:\n",
        "  def __init__(self, name, model):\n",
        "    self.name = name\n",
        "    self.model = model\n",
        "\n",
        "  def print_info(self):\n",
        "    print('Brand: ', self.name)\n",
        "    print('Model: ', self.model)\n",
        "\n",
        "class Mobiles:\n",
        "  def __init__(self, name, model):\n",
        "    self.name = name\n",
        "    self.model = model\n",
        "  def print_info(self):\n",
        "    print(self.name, self.model)\n",
        "\n",
        "class Macbook(Laptops, Mobiles):\n",
        "  def __init__(self, name, model):\n",
        "    self.name = name\n",
        "    self.model = model\n",
        "\n",
        "class Iphone(Laptops, Mobiles):\n",
        "  def __init__(self, name, model):\n",
        "    self.name = name\n",
        "    self.model = model\n"
      ]
    },
    {
      "cell_type": "code",
      "source": [
        "obj1 = Macbook('Apple', 'Macbook Pro')"
      ],
      "metadata": {
        "id": "mayCj5P185O3"
      },
      "execution_count": 14,
      "outputs": []
    },
    {
      "cell_type": "code",
      "source": [
        "obj1.print_info()"
      ],
      "metadata": {
        "colab": {
          "base_uri": "https://localhost:8080/"
        },
        "id": "QgKe3PD0-dwz",
        "outputId": "5b34ab14-234e-4cb7-ce5d-01b878eb0f98"
      },
      "execution_count": 15,
      "outputs": [
        {
          "output_type": "stream",
          "name": "stdout",
          "text": [
            "Brand:  Apple\n",
            "Model:  Macbook Pro\n"
          ]
        }
      ]
    },
    {
      "cell_type": "code",
      "source": [
        "obj2 = Iphone('Apple', 'iPhone 14')"
      ],
      "metadata": {
        "id": "7dAYJd-A-ilX"
      },
      "execution_count": 16,
      "outputs": []
    },
    {
      "cell_type": "code",
      "source": [
        "obj2.print_info()"
      ],
      "metadata": {
        "colab": {
          "base_uri": "https://localhost:8080/"
        },
        "id": "5d_sufKj-qt9",
        "outputId": "365da30c-61a9-4d54-fc8e-5dbe19432b7c"
      },
      "execution_count": 17,
      "outputs": [
        {
          "output_type": "stream",
          "name": "stdout",
          "text": [
            "Brand:  Apple\n",
            "Model:  iPhone 14\n"
          ]
        }
      ]
    },
    {
      "cell_type": "code",
      "source": [
        "#precedence of class variable is lower than instance variable\n",
        "#When a variable suppose:var_a1 is available inside a class as well as inside a method\n",
        "#instance variable will automatically override the class variable\n",
        "#meaning:\n",
        "#when we try to print var_a1 from obj_b, : class variable is not printed, but instance variable is printed #because of super__init__() -> picking up values from parent class -> a\n",
        "#Here the function is overriding that property\n"
      ],
      "metadata": {
        "id": "OdK0h7yWBIU9"
      },
      "execution_count": null,
      "outputs": []
    },
    {
      "cell_type": "code",
      "source": [
        "class a:\n",
        "  var_a1 = \"This is my first print statement inside class a \"\n",
        "  def __init__(self):\n",
        "    self.var_a2 = \"This my second print statement inside function __init__ of class a\"\n",
        "    self.var_a1 = \"Instance variable in class a\"\n",
        "    self.var_tmp1 = \"This is var_tmp1 inside class a\"\n",
        "\n",
        "class b(a):\n",
        "  var_b1 = \"this is my third print statement inside class b \"\n",
        "  def __init__(self):\n",
        "\n",
        "    self.var_b2 = \"This is my fouth print statement inside function __init__ of class b\"\n",
        "    self.var_a1 = \"Instance variable in class b\"\n",
        "    self.var_tmp1 = \"This is var_tmp1 inside class b\"\n",
        "    super().__init__() #overrides"
      ],
      "metadata": {
        "id": "a5g_TBAx6vUz"
      },
      "execution_count": 25,
      "outputs": []
    },
    {
      "cell_type": "code",
      "source": [
        "obj_a = a()\n",
        "obj_b = b()\n",
        "\n",
        "print(obj_a.var_a1)\n",
        "print(obj_a.var_tmp1)\n",
        "print(obj_b.var_a1) #because of super__init__() -> picking up values from parent class -> a\n",
        "print(obj_b.var_a2)\n",
        "print(obj_b.var_b1)\n",
        "print(obj_b.var_b2)\n",
        "print(obj_b.var_tmp1)\n"
      ],
      "metadata": {
        "colab": {
          "base_uri": "https://localhost:8080/"
        },
        "id": "YVFjgP7_60Ep",
        "outputId": "afc5a5c4-e299-4457-d8b9-e0e8a4097280"
      },
      "execution_count": 28,
      "outputs": [
        {
          "output_type": "stream",
          "name": "stdout",
          "text": [
            "Instance variable in class a\n",
            "This is var_tmp1 inside class a\n",
            "Instance variable in class a\n",
            "This my second print statement inside function __init__ of class a\n",
            "this is my third print statement inside class b \n",
            "This is my fouth print statement inside function __init__ of class b\n",
            "This is var_tmp1 inside class a\n"
          ]
        }
      ]
    },
    {
      "cell_type": "code",
      "source": [
        "class Dogs:\n",
        "  dogA = 'This is first dog in class Dogs'\n",
        "  def __init__(self):\n",
        "    self.d1 = 'Instance variable in class Dogs'\n",
        "    self.d2 = 'This is my second dog d2 in class Dogs'\n",
        "    self.d4 = 'Instance variable d4 in class Dogs'\n",
        "\n",
        "\n",
        "class Puppies(Dogs):\n",
        "  dogB = \"This is my second dog in class Puppies \"\n",
        "  def __init__(self):\n",
        "\n",
        "    self.d1 = \"This is my third dog inside function class Puppies\"\n",
        "    self.d2 = \"Instance variable in class Puppies\"\n",
        "    self.d3 = \"This is d3 inside class Puppies\"\n",
        "    self.d0 = \"This is d0 in class Puppies\"\n",
        "    super().__init__()\n",
        "    self.d4 = \"This is d4 in Puppies\""
      ],
      "metadata": {
        "id": "nITjFApiF__a"
      },
      "execution_count": 54,
      "outputs": []
    },
    {
      "cell_type": "code",
      "source": [
        "obj1 = Dogs()\n",
        "obj2 = Puppies()"
      ],
      "metadata": {
        "id": "y2F242e-JPEm"
      },
      "execution_count": 57,
      "outputs": []
    },
    {
      "cell_type": "code",
      "source": [
        "print(obj2.dogB)"
      ],
      "metadata": {
        "colab": {
          "base_uri": "https://localhost:8080/"
        },
        "id": "_EIREi_-MJ__",
        "outputId": "0b470294-96ad-4a67-88e1-3c969a2f86ba"
      },
      "execution_count": 61,
      "outputs": [
        {
          "output_type": "stream",
          "name": "stdout",
          "text": [
            "This is my second dog in class Puppies \n"
          ]
        }
      ]
    },
    {
      "cell_type": "code",
      "source": [
        "print(obj2.d4)"
      ],
      "metadata": {
        "colab": {
          "base_uri": "https://localhost:8080/"
        },
        "id": "K1v4ihF4Jn-p",
        "outputId": "a328fe9e-06c1-47da-a6c1-974b600402fe"
      },
      "execution_count": 41,
      "outputs": [
        {
          "output_type": "stream",
          "name": "stdout",
          "text": [
            "This is d4 in Puppies\n"
          ]
        }
      ]
    },
    {
      "cell_type": "code",
      "source": [
        "print(obj1.d4)"
      ],
      "metadata": {
        "colab": {
          "base_uri": "https://localhost:8080/"
        },
        "id": "0tFwZI26Ju-W",
        "outputId": "7bcc425b-32bf-4ad1-bddd-287cf01fcfaf"
      },
      "execution_count": 42,
      "outputs": [
        {
          "output_type": "stream",
          "name": "stdout",
          "text": [
            "Instance variable d4 in class Dogs\n"
          ]
        }
      ]
    },
    {
      "cell_type": "code",
      "source": [
        "print(obj2.d2)"
      ],
      "metadata": {
        "colab": {
          "base_uri": "https://localhost:8080/"
        },
        "id": "IxMrkNLcKDkH",
        "outputId": "7a0ed5e5-a267-4c08-eac0-f8afbefc397d"
      },
      "execution_count": 43,
      "outputs": [
        {
          "output_type": "stream",
          "name": "stdout",
          "text": [
            "This is my second dog d2 in class Dogs\n"
          ]
        }
      ]
    },
    {
      "cell_type": "code",
      "source": [
        "print(obj2.d1)"
      ],
      "metadata": {
        "colab": {
          "base_uri": "https://localhost:8080/"
        },
        "id": "BvsmfNmBKfYX",
        "outputId": "53e4faac-a274-4644-a119-d189836b81c1"
      },
      "execution_count": 44,
      "outputs": [
        {
          "output_type": "stream",
          "name": "stdout",
          "text": [
            "Instance variable in class Dogs\n"
          ]
        }
      ]
    },
    {
      "cell_type": "code",
      "source": [
        "print(obj2.d0)"
      ],
      "metadata": {
        "colab": {
          "base_uri": "https://localhost:8080/"
        },
        "id": "4o0z3KGJKz10",
        "outputId": "12331e8d-30d4-400f-cdeb-d2bd80e33e7e"
      },
      "execution_count": 47,
      "outputs": [
        {
          "output_type": "stream",
          "name": "stdout",
          "text": [
            "This is d0 in class Puppies\n"
          ]
        }
      ]
    },
    {
      "cell_type": "code",
      "source": [
        "'''class Fruits:\n",
        "  fav_fruit = 'My favorite fruit is Mango'\n",
        "  def __init__(fruit):\n",
        "    fruit.f1 = 'This is first fruit in ''''\n"
      ],
      "metadata": {
        "id": "wQ2Hbe-WQENl"
      },
      "execution_count": null,
      "outputs": []
    }
  ]
}