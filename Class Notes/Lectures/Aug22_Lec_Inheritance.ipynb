{
  "nbformat": 4,
  "nbformat_minor": 0,
  "metadata": {
    "colab": {
      "provenance": []
    },
    "kernelspec": {
      "name": "python3",
      "display_name": "Python 3"
    },
    "language_info": {
      "name": "python"
    }
  },
  "cells": [
    {
      "cell_type": "code",
      "execution_count": null,
      "metadata": {
        "id": "CaXw4hg8s_Rw"
      },
      "outputs": [],
      "source": [
        "class person:\n",
        "  def __init__(self, fname, mname, lname):\n",
        "    self.firstname = fname\n",
        "    self.lastname = lname\n",
        "    self.middlename = mname\n",
        "\n",
        "  def printname(self):\n",
        "    print(self.firstname, self.middlename, self.lastname)\n"
      ]
    },
    {
      "cell_type": "code",
      "source": [
        "#creating child class from Person class\n",
        "#basically inheriting the Parent class\n",
        "#not performing any kind of operation\n",
        "\n",
        "class ChildClass(person):\n",
        "  pass\n",
        "'''  def __init__(self, fname, mname, lname):\n",
        "    self.firstname = fname\n",
        "    self.lastname = lname\n",
        "    self.middlename = mname'''\n"
      ],
      "metadata": {
        "colab": {
          "base_uri": "https://localhost:8080/",
          "height": 36
        },
        "id": "BLUN5HTQt3Gy",
        "outputId": "b8a47ff4-abeb-4f3d-9423-262783c89fad"
      },
      "execution_count": null,
      "outputs": [
        {
          "output_type": "execute_result",
          "data": {
            "text/plain": [
              "'  def __init__(self, fname, mname, lname):\\n    self.firstname = fname\\n    self.lastname = lname\\n    self.middlename = mname'"
            ],
            "application/vnd.google.colaboratory.intrinsic+json": {
              "type": "string"
            }
          },
          "metadata": {},
          "execution_count": 63
        }
      ]
    },
    {
      "cell_type": "code",
      "source": [
        "obj2 = ChildClass('Anushka', 'M.', 'Shrestha')"
      ],
      "metadata": {
        "id": "ndseHEfyuGF6"
      },
      "execution_count": null,
      "outputs": []
    },
    {
      "cell_type": "code",
      "source": [
        "obj2.printname()"
      ],
      "metadata": {
        "colab": {
          "base_uri": "https://localhost:8080/"
        },
        "id": "VIjih-V1uRA2",
        "outputId": "92635b00-35ec-4b36-9465-53942e673d6c"
      },
      "execution_count": null,
      "outputs": [
        {
          "output_type": "stream",
          "name": "stdout",
          "text": [
            "Anushka M. Shrestha\n"
          ]
        }
      ]
    },
    {
      "cell_type": "code",
      "source": [
        "class Date:\n",
        "  def __init__(date, month, day, year):\n",
        "    date.month = month\n",
        "    date.day = day\n",
        "    date.year = year\n",
        "\n",
        "  def printDate(date):\n",
        "    print(\"Today's date is: \", date.month, date.day, ',', date.year)"
      ],
      "metadata": {
        "id": "iKjQkrX50JSm"
      },
      "execution_count": null,
      "outputs": []
    },
    {
      "cell_type": "code",
      "source": [
        "class ChildClass(Date):\n",
        "  pass"
      ],
      "metadata": {
        "id": "CnZ0Vi7J1E49"
      },
      "execution_count": null,
      "outputs": []
    },
    {
      "cell_type": "code",
      "source": [
        "date1 = ChildClass('August', 22, 2023)"
      ],
      "metadata": {
        "id": "Kr9prNU_1KkD"
      },
      "execution_count": null,
      "outputs": []
    },
    {
      "cell_type": "code",
      "source": [
        "date1.printDate()"
      ],
      "metadata": {
        "colab": {
          "base_uri": "https://localhost:8080/"
        },
        "id": "ncQ3D8As1xud",
        "outputId": "5d7c3efd-155a-46ae-9549-d8a736abaedf"
      },
      "execution_count": null,
      "outputs": [
        {
          "output_type": "stream",
          "name": "stdout",
          "text": [
            "Today's date is:  August 22 , 2023\n"
          ]
        }
      ]
    },
    {
      "cell_type": "code",
      "source": [
        "class Vehicle:\n",
        "\n",
        "    def __init__(self, name, max_speed, mileage):\n",
        "        self.name = name\n",
        "        self.max_speed = max_speed\n",
        "        self.mileage = mileage\n",
        "\n",
        "    def print_info(self):\n",
        "      print('----Car Details----')\n",
        "      print('Brand:', self.name)\n",
        "      print('Max Speed:', self.max_speed)\n",
        "      print('Mileage:', self.mileage)\n"
      ],
      "metadata": {
        "id": "aAYQUpR-2vhJ"
      },
      "execution_count": null,
      "outputs": []
    },
    {
      "cell_type": "code",
      "source": [
        "class ChildClass(Vehicle):\n",
        "  pass"
      ],
      "metadata": {
        "id": "TQNgI6EL63__"
      },
      "execution_count": null,
      "outputs": []
    },
    {
      "cell_type": "code",
      "source": [
        "car1 = ChildClass('Audi', 120, 3500)"
      ],
      "metadata": {
        "id": "vpxU7-Ce68Nr"
      },
      "execution_count": null,
      "outputs": []
    },
    {
      "cell_type": "code",
      "source": [
        "car1.print_info()"
      ],
      "metadata": {
        "colab": {
          "base_uri": "https://localhost:8080/"
        },
        "id": "Wc9FFMqO7Khv",
        "outputId": "c4e5b4b4-934e-48d4-85a8-cbee4bf4240a"
      },
      "execution_count": null,
      "outputs": [
        {
          "output_type": "stream",
          "name": "stdout",
          "text": [
            "----Car Details----\n",
            "Brand: Audi\n",
            "Max Speed: 120\n",
            "Mileage: 3500\n"
          ]
        }
      ]
    },
    {
      "cell_type": "code",
      "source": [
        "class Person:\n",
        "  def __init__(self, fname, lname):\n",
        "    self.firstname = fname\n",
        "    self.lastname = lname\n",
        "\n",
        "  def printname(self):\n",
        "    print(self.firstname, self.lastname)"
      ],
      "metadata": {
        "id": "eWSDiASi-kpN"
      },
      "execution_count": null,
      "outputs": []
    },
    {
      "cell_type": "code",
      "source": [
        "class Student(Person):\n",
        "  def __init__(self, fname, lname):\n",
        "    super().__init__(fname,lname) #previously we were passing values from ChildClass"
      ],
      "metadata": {
        "id": "mLL_3Yxn_KDx"
      },
      "execution_count": null,
      "outputs": []
    },
    {
      "cell_type": "code",
      "source": [
        "student1 = Student()"
      ],
      "metadata": {
        "id": "74gdxhch_ka_"
      },
      "execution_count": null,
      "outputs": []
    },
    {
      "cell_type": "code",
      "source": [
        "class Car:\n",
        "  def __init__(self, name, model):\n",
        "    self.name = name\n",
        "    self.model = model\n",
        "\n",
        "  def print_details(self):\n",
        "    print('Class Car: ', self.name, self.model)"
      ],
      "metadata": {
        "id": "Pf5cVDzlDPGL"
      },
      "execution_count": null,
      "outputs": []
    },
    {
      "cell_type": "code",
      "source": [
        "class Audi(Car):\n",
        "  def __init__(self, name, model, make):\n",
        "    super().__init__(name, model)\n",
        "    self.make = 1999\n",
        "\n",
        "    def print_info(self):\n",
        "      print(self.name, self.model, self.make)"
      ],
      "metadata": {
        "id": "kqJCeKYZDvT9"
      },
      "execution_count": null,
      "outputs": []
    },
    {
      "cell_type": "code",
      "source": [
        "obj1 = Audi('Audi', 555, 1234)"
      ],
      "metadata": {
        "id": "WvARCKuEETo9"
      },
      "execution_count": null,
      "outputs": []
    },
    {
      "cell_type": "code",
      "source": [
        "obj1.print_details()"
      ],
      "metadata": {
        "colab": {
          "base_uri": "https://localhost:8080/"
        },
        "id": "C0ouNjqXEk8t",
        "outputId": "052b8a3f-2d20-42e1-bf2f-0d333fabd06b"
      },
      "execution_count": null,
      "outputs": [
        {
          "output_type": "stream",
          "name": "stdout",
          "text": [
            "Class Car:  Audi 555\n"
          ]
        }
      ]
    }
  ]
}