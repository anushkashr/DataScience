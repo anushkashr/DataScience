{
  "nbformat": 4,
  "nbformat_minor": 0,
  "metadata": {
    "colab": {
      "provenance": []
    },
    "kernelspec": {
      "name": "python3",
      "display_name": "Python 3"
    },
    "language_info": {
      "name": "python"
    }
  },
  "cells": [
    {
      "cell_type": "markdown",
      "source": [
        "For loop"
      ],
      "metadata": {
        "id": "PDo8NgCvpvzC"
      }
    },
    {
      "cell_type": "code",
      "source": [
        "#List\n",
        "lst1 = [12,23,34,45,56,67,78,89,90,21,32,43,54,65,76,87,98,9]\n",
        "\n",
        "for i in lst1:\n",
        "  print('value of i ', i)"
      ],
      "metadata": {
        "id": "uPIGWPebpcdr"
      },
      "execution_count": null,
      "outputs": []
    },
    {
      "cell_type": "code",
      "execution_count": null,
      "metadata": {
        "colab": {
          "base_uri": "https://localhost:8080/"
        },
        "id": "DFUJKLybprk0",
        "outputId": "537de646-7fae-4ab9-ecad-09b5fd26cb0f"
      },
      "outputs": [
        {
          "output_type": "stream",
          "name": "stdout",
          "text": [
            "Value of i:  cherries\n",
            "Value of i:  dates\n",
            "Value of i:  grapes\n",
            "Value of i:  banana\n",
            "Value of i:  fig\n",
            "Value of i:  apple\n",
            "Value of i:  emuberries\n"
          ]
        }
      ],
      "source": [
        "#Set\n",
        "set1 = {'apple', 'banana', 'cherries', 'dates', 'emuberries', 'fig', 'grapes'}\n",
        "\n",
        "#values will be displayed in an unrdered way because sets are unordered collection of elements\n",
        "\n",
        "for i in set1:\n",
        "  print('Value of i: ', i)"
      ]
    },
    {
      "cell_type": "code",
      "source": [
        "#Tuple\n",
        "tup1 = ('hp','dell','apple','microsoft','samsung','acer','msi','lenovo')\n",
        "\n",
        "for i in tup1:\n",
        "  print('value of i ', i)"
      ],
      "metadata": {
        "id": "T9U9NUD_qGuy",
        "colab": {
          "base_uri": "https://localhost:8080/"
        },
        "outputId": "a0d5a863-5596-4a37-bab4-aedc8fc5323b"
      },
      "execution_count": null,
      "outputs": [
        {
          "output_type": "stream",
          "name": "stdout",
          "text": [
            "value of i  hp\n",
            "value of i  dell\n",
            "value of i  apple\n",
            "value of i  microsoft\n",
            "value of i  samsung\n",
            "value of i  acer\n",
            "value of i  msi\n",
            "value of i  lenovo\n"
          ]
        }
      ]
    },
    {
      "cell_type": "code",
      "source": [
        "#string\n",
        "date1 = 'Today is August Fifteenth'\n",
        "\n",
        "print(len(date1))\n",
        "for i in date1:\n",
        "  print('Value of i', i)"
      ],
      "metadata": {
        "colab": {
          "base_uri": "https://localhost:8080/"
        },
        "id": "VeZOg-63rDPx",
        "outputId": "a1601dc0-3d75-4d32-f560-3ffddc5e023a"
      },
      "execution_count": null,
      "outputs": [
        {
          "output_type": "stream",
          "name": "stdout",
          "text": [
            "25\n",
            "Value of i T\n",
            "Value of i o\n",
            "Value of i d\n",
            "Value of i a\n",
            "Value of i y\n",
            "Value of i  \n",
            "Value of i i\n",
            "Value of i s\n",
            "Value of i  \n",
            "Value of i A\n",
            "Value of i u\n",
            "Value of i g\n",
            "Value of i u\n",
            "Value of i s\n",
            "Value of i t\n",
            "Value of i  \n",
            "Value of i F\n",
            "Value of i i\n",
            "Value of i f\n",
            "Value of i t\n",
            "Value of i e\n",
            "Value of i e\n",
            "Value of i n\n",
            "Value of i t\n",
            "Value of i h\n"
          ]
        }
      ]
    },
    {
      "cell_type": "code",
      "source": [
        "#Dictionary\n",
        "dict1 = {'a':'anushka', 's':'shrestha'}\n",
        "\n",
        "for i in dict1:\n",
        "  print('Value of i', i)"
      ],
      "metadata": {
        "colab": {
          "base_uri": "https://localhost:8080/"
        },
        "id": "SLj4j9yPrfww",
        "outputId": "e988262f-b445-42ec-9e1f-19eb3531e137"
      },
      "execution_count": null,
      "outputs": [
        {
          "output_type": "stream",
          "name": "stdout",
          "text": [
            "Value of i a\n",
            "Value of i s\n"
          ]
        }
      ]
    },
    {
      "cell_type": "code",
      "source": [
        "#Range\n",
        "\n",
        "for i in range(10):\n",
        "  print('Value of i', i)"
      ],
      "metadata": {
        "colab": {
          "base_uri": "https://localhost:8080/"
        },
        "id": "VL-JJZmlr6OL",
        "outputId": "d9d48409-1784-4368-a7cf-eeb4bf7e97ac"
      },
      "execution_count": null,
      "outputs": [
        {
          "output_type": "stream",
          "name": "stdout",
          "text": [
            "Value of i 0\n",
            "Value of i 1\n",
            "Value of i 2\n",
            "Value of i 3\n",
            "Value of i 4\n",
            "Value of i 5\n",
            "Value of i 6\n",
            "Value of i 7\n",
            "Value of i 8\n",
            "Value of i 9\n"
          ]
        }
      ]
    },
    {
      "cell_type": "code",
      "source": [
        "#Range\n",
        "\n",
        "for i in range(0, 10, 2):\n",
        "  print('Value of i', i)"
      ],
      "metadata": {
        "colab": {
          "base_uri": "https://localhost:8080/"
        },
        "id": "BNMc4pU2sJAs",
        "outputId": "9cc04c2d-12f8-4527-b3c1-d601a4f7ee3b"
      },
      "execution_count": null,
      "outputs": [
        {
          "output_type": "stream",
          "name": "stdout",
          "text": [
            "Value of i 0\n",
            "Value of i 2\n",
            "Value of i 4\n",
            "Value of i 6\n",
            "Value of i 8\n"
          ]
        }
      ]
    },
    {
      "cell_type": "code",
      "source": [
        "k=0\n",
        "for i in range(10):\n",
        "  for j in range(10):\n",
        "    k += 1\n",
        "    print(k, end=' ')\n",
        "  print('\\r')\n"
      ],
      "metadata": {
        "colab": {
          "base_uri": "https://localhost:8080/"
        },
        "id": "GoiKEVQdxHg6",
        "outputId": "7fc82681-386b-493e-d1b8-553d45a89ad2"
      },
      "execution_count": null,
      "outputs": [
        {
          "output_type": "stream",
          "name": "stdout",
          "text": [
            "1 2 3 4 5 6 7 8 9 10 \r\n",
            "11 12 13 14 15 16 17 18 19 20 \r\n",
            "21 22 23 24 25 26 27 28 29 30 \r\n",
            "31 32 33 34 35 36 37 38 39 40 \r\n",
            "41 42 43 44 45 46 47 48 49 50 \r\n",
            "51 52 53 54 55 56 57 58 59 60 \r\n",
            "61 62 63 64 65 66 67 68 69 70 \r\n",
            "71 72 73 74 75 76 77 78 79 80 \r\n",
            "81 82 83 84 85 86 87 88 89 90 \r\n",
            "91 92 93 94 95 96 97 98 99 100 \r\n"
          ]
        }
      ]
    },
    {
      "cell_type": "code",
      "source": [
        "k=0\n",
        "for i in range(10):\n",
        "  for j in range(10):\n",
        "    k += 1\n",
        "    print(\"*\", end=' ')\n",
        "  print('\\r')\n",
        "\n"
      ],
      "metadata": {
        "colab": {
          "base_uri": "https://localhost:8080/"
        },
        "id": "orBPjY7sy1vr",
        "outputId": "f637b481-f826-47e6-a33d-8aac284c465e"
      },
      "execution_count": null,
      "outputs": [
        {
          "output_type": "stream",
          "name": "stdout",
          "text": [
            "* * * * * * * * * * \r\n",
            "* * * * * * * * * * \r\n",
            "* * * * * * * * * * \r\n",
            "* * * * * * * * * * \r\n",
            "* * * * * * * * * * \r\n",
            "* * * * * * * * * * \r\n",
            "* * * * * * * * * * \r\n",
            "* * * * * * * * * * \r\n",
            "* * * * * * * * * * \r\n",
            "* * * * * * * * * * \r\n"
          ]
        }
      ]
    },
    {
      "cell_type": "code",
      "source": [
        "for i in range(10):\n",
        "  for j in range(0,10-i):\n",
        "    print(\" \", end = \"\")\n",
        "  for k in range(0, i+1):\n",
        "    print(\"*\", end = ' ')\n",
        "  print('\\r')"
      ],
      "metadata": {
        "colab": {
          "base_uri": "https://localhost:8080/"
        },
        "id": "qM_lc63Vzguf",
        "outputId": "b664a03a-79a7-436b-e23e-6a4079114755"
      },
      "execution_count": null,
      "outputs": [
        {
          "output_type": "stream",
          "name": "stdout",
          "text": [
            "          * \r\n",
            "         * * \r\n",
            "        * * * \r\n",
            "       * * * * \r\n",
            "      * * * * * \r\n",
            "     * * * * * * \r\n",
            "    * * * * * * * \r\n",
            "   * * * * * * * * \r\n",
            "  * * * * * * * * * \r\n",
            " * * * * * * * * * * \r\n"
          ]
        }
      ]
    },
    {
      "cell_type": "code",
      "source": [
        "for i in range(10):\n",
        "  for j in range(i+1):\n",
        "    print(\"\", end = \" \")\n",
        "  for k in range(0, 10-i):\n",
        "    print(\"*\", end = ' ')\n",
        "  print('\\r')"
      ],
      "metadata": {
        "colab": {
          "base_uri": "https://localhost:8080/"
        },
        "id": "zYkuMeg80E-J",
        "outputId": "5e891038-0723-4eb7-a936-eb0e2f731b23"
      },
      "execution_count": null,
      "outputs": [
        {
          "output_type": "stream",
          "name": "stdout",
          "text": [
            " * * * * * * * * * * \r\n",
            "  * * * * * * * * * \r\n",
            "   * * * * * * * * \r\n",
            "    * * * * * * * \r\n",
            "     * * * * * * \r\n",
            "      * * * * * \r\n",
            "       * * * * \r\n",
            "        * * * \r\n",
            "         * * \r\n",
            "          * \r\n"
          ]
        }
      ]
    },
    {
      "cell_type": "code",
      "source": [
        "for i in range(10):\n",
        "  for j in range(i+1):\n",
        "    print(\"\", end = \" \")\n",
        "  for k in range(0, 10-i):\n",
        "    print(\"*\", end = ' ')\n",
        "  print('\\r')\n",
        "\n",
        "for l in range(1,10):\n",
        "    for m in range(0,10-l):\n",
        "      print(\" \", end = \"\")\n",
        "    for n in range(0, l+1):\n",
        "      print(\"*\", end = ' ')\n",
        "    print('\\r')\n"
      ],
      "metadata": {
        "colab": {
          "base_uri": "https://localhost:8080/"
        },
        "id": "J51pHrWy2RR2",
        "outputId": "8fdfa72d-1a8f-44ca-df76-e3f162cbad01"
      },
      "execution_count": null,
      "outputs": [
        {
          "output_type": "stream",
          "name": "stdout",
          "text": [
            " * * * * * * * * * * \r\n",
            "  * * * * * * * * * \r\n",
            "   * * * * * * * * \r\n",
            "    * * * * * * * \r\n",
            "     * * * * * * \r\n",
            "      * * * * * \r\n",
            "       * * * * \r\n",
            "        * * * \r\n",
            "         * * \r\n",
            "          * \r\n",
            "         * * \r\n",
            "        * * * \r\n",
            "       * * * * \r\n",
            "      * * * * * \r\n",
            "     * * * * * * \r\n",
            "    * * * * * * * \r\n",
            "   * * * * * * * * \r\n",
            "  * * * * * * * * * \r\n",
            " * * * * * * * * * * \r\n"
          ]
        }
      ]
    },
    {
      "cell_type": "code",
      "source": [
        "k=0\n",
        "for i in range(10):\n",
        "  for j in range(10):\n",
        "    k += 1\n",
        "    print(k, end = '')\n",
        "  print('\\r')"
      ],
      "metadata": {
        "colab": {
          "base_uri": "https://localhost:8080/"
        },
        "id": "XIea2lwkH9WW",
        "outputId": "c0d1cd84-d151-409b-a958-2045c5d1ab50"
      },
      "execution_count": null,
      "outputs": [
        {
          "output_type": "stream",
          "name": "stdout",
          "text": [
            "12345678910\r\n",
            "11121314151617181920\r\n",
            "21222324252627282930\r\n",
            "31323334353637383940\r\n",
            "41424344454647484950\r\n",
            "51525354555657585960\r\n",
            "61626364656667686970\r\n",
            "71727374757677787980\r\n",
            "81828384858687888990\r\n",
            "919293949596979899100\r\n"
          ]
        }
      ]
    },
    {
      "cell_type": "code",
      "source": [
        "for i in range(8):\n",
        "  #for a in range(2)\n",
        "  for j in range(1,8-i):\n",
        "    print(' ', end='')\n",
        "\n",
        "  for j in range(0, i+1):\n",
        "    print('*', end=' ')\n",
        "\n",
        "  for j in range(1,8-i):\n",
        "      print(' ', end=' ')\n",
        "\n",
        "  for j in range(0, i+1):\n",
        "    print('*', end=' ')\n",
        "  print('\\r')\n",
        "\n"
      ],
      "metadata": {
        "colab": {
          "base_uri": "https://localhost:8080/"
        },
        "id": "6Qds8ltHIeAV",
        "outputId": "cc177f07-d6db-4395-ae55-846f65972cef"
      },
      "execution_count": null,
      "outputs": [
        {
          "output_type": "stream",
          "name": "stdout",
          "text": [
            "       *               * \r\n",
            "      * *             * * \r\n",
            "     * * *           * * * \r\n",
            "    * * * *         * * * * \r\n",
            "   * * * * *       * * * * * \r\n",
            "  * * * * * *     * * * * * * \r\n",
            " * * * * * * *   * * * * * * * \r\n",
            "* * * * * * * * * * * * * * * * \r\n"
          ]
        }
      ]
    },
    {
      "cell_type": "code",
      "source": [
        "for i in range(10):\n",
        "  for j in range(10-i):\n",
        "    print(' ', end=' ')\n",
        "\n",
        "  for k in range(i+1):\n",
        "      print('*', end=' ')\n",
        "  print()\n"
      ],
      "metadata": {
        "colab": {
          "base_uri": "https://localhost:8080/"
        },
        "id": "Jhbr6zKroK8f",
        "outputId": "784700dd-d9f9-4491-d5fa-54b9437ba570"
      },
      "execution_count": null,
      "outputs": [
        {
          "output_type": "stream",
          "name": "stdout",
          "text": [
            "                    * \n",
            "                  * * \n",
            "                * * * \n",
            "              * * * * \n",
            "            * * * * * \n",
            "          * * * * * * \n",
            "        * * * * * * * \n",
            "      * * * * * * * * \n",
            "    * * * * * * * * * \n",
            "  * * * * * * * * * * \n"
          ]
        }
      ]
    },
    {
      "cell_type": "code",
      "source": [
        "for i in range(10):\n",
        "  for j in range(i+1):\n",
        "    print('*', end=' ')\n",
        "\n",
        "  for k in range(10-i):\n",
        "      print(' ', end=' ')\n",
        "  print()"
      ],
      "metadata": {
        "colab": {
          "base_uri": "https://localhost:8080/"
        },
        "id": "2jFzLyXqhr7T",
        "outputId": "f14de448-ef45-48db-c14b-b0f31ea837e0"
      },
      "execution_count": null,
      "outputs": [
        {
          "output_type": "stream",
          "name": "stdout",
          "text": [
            "*                     \n",
            "* *                   \n",
            "* * *                 \n",
            "* * * *               \n",
            "* * * * *             \n",
            "* * * * * *           \n",
            "* * * * * * *         \n",
            "* * * * * * * *       \n",
            "* * * * * * * * *     \n",
            "* * * * * * * * * *   \n"
          ]
        }
      ]
    },
    {
      "cell_type": "code",
      "source": [
        "for i in range(10):\n",
        "  for j in range(0,i+1):\n",
        "    print(' ', end=' ')\n",
        "  for k in range(0,10-i):\n",
        "    print('*', end=' ')\n",
        "  print()"
      ],
      "metadata": {
        "colab": {
          "base_uri": "https://localhost:8080/"
        },
        "id": "NMnTG4bDCxz2",
        "outputId": "e8fc2a37-f6d4-4ef2-e756-8fac2312aa35"
      },
      "execution_count": null,
      "outputs": [
        {
          "output_type": "stream",
          "name": "stdout",
          "text": [
            "  * * * * * * * * * * \n",
            "    * * * * * * * * * \n",
            "      * * * * * * * * \n",
            "        * * * * * * * \n",
            "          * * * * * * \n",
            "            * * * * * \n",
            "              * * * * \n",
            "                * * * \n",
            "                  * * \n",
            "                    * \n"
          ]
        }
      ]
    },
    {
      "cell_type": "code",
      "source": [
        "for i in range(5):\n",
        "  for j in range(i,5):\n",
        "    print(' ', end=' ')\n",
        "\n",
        "  for j in range(i):\n",
        "    print('*', end=' ')\n",
        "\n",
        "  for j in range(i+1):\n",
        "    print('*', end=' ')\n",
        "  print()"
      ],
      "metadata": {
        "colab": {
          "base_uri": "https://localhost:8080/"
        },
        "id": "yuwYg4xNhdt6",
        "outputId": "df41dbf6-f307-475f-c71c-1ad83aafe1b6"
      },
      "execution_count": null,
      "outputs": [
        {
          "output_type": "stream",
          "name": "stdout",
          "text": [
            "          * \n",
            "        * * * \n",
            "      * * * * * \n",
            "    * * * * * * * \n",
            "  * * * * * * * * * \n"
          ]
        }
      ]
    },
    {
      "cell_type": "code",
      "source": [
        "#Hollow rectangle\n",
        "for i in range(10):\n",
        "    for j in range(10-i):\n",
        "        print(' ', end=' ')\n",
        "\n",
        "    for j in range(2*i+1):\n",
        "        if j==0 or j==2*i or i==10-1:\n",
        "            print('*',end=' ')\n",
        "        else:\n",
        "            print(' ', end=' ')\n",
        "    print()"
      ],
      "metadata": {
        "colab": {
          "base_uri": "https://localhost:8080/"
        },
        "id": "dB25UbCCrPZU",
        "outputId": "97db5253-febc-42f6-9492-c3826b09ebd6"
      },
      "execution_count": null,
      "outputs": [
        {
          "output_type": "stream",
          "name": "stdout",
          "text": [
            "                    * \n",
            "                  *   * \n",
            "                *       * \n",
            "              *           * \n",
            "            *               * \n",
            "          *                   * \n",
            "        *                       * \n",
            "      *                           * \n",
            "    *                               * \n",
            "  * * * * * * * * * * * * * * * * * * * \n"
          ]
        }
      ]
    },
    {
      "cell_type": "code",
      "source": [
        "#X\n",
        "for i in range(0, 10):\n",
        "    for j in range(0, 10):\n",
        "        if(i == j or j == 10 - 1 - i):\n",
        "            print('*', end = '')\n",
        "        else:\n",
        "            print(' ', end = '')\n",
        "    print()"
      ],
      "metadata": {
        "colab": {
          "base_uri": "https://localhost:8080/"
        },
        "id": "l5La6qcLudRy",
        "outputId": "fa438645-b488-48cb-d0cd-c58d88ddd5d5"
      },
      "execution_count": null,
      "outputs": [
        {
          "output_type": "stream",
          "name": "stdout",
          "text": [
            "*        *\n",
            " *      * \n",
            "  *    *  \n",
            "   *  *   \n",
            "    **    \n",
            "    **    \n",
            "   *  *   \n",
            "  *    *  \n",
            " *      * \n",
            "*        *\n"
          ]
        }
      ]
    },
    {
      "cell_type": "code",
      "source": [
        "\n",
        "for i in range(1,6):\n",
        "  for j in range(6-i):\n",
        "    print(' ', end = \"\")\n",
        "  for j in range(i):\n",
        "    print(i, end = \" \")\n",
        "    i += 1\n",
        "  print('\\r')"
      ],
      "metadata": {
        "colab": {
          "base_uri": "https://localhost:8080/"
        },
        "id": "0c_DR36E_WO5",
        "outputId": "3a89f821-c3e5-4b68-ea99-146f98850db0"
      },
      "execution_count": null,
      "outputs": [
        {
          "output_type": "stream",
          "name": "stdout",
          "text": [
            "     1 \r\n",
            "    2 3 \r\n",
            "   3 4 5 \r\n",
            "  4 5 6 7 \r\n",
            " 5 6 7 8 9 \r\n"
          ]
        }
      ]
    },
    {
      "cell_type": "code",
      "source": [
        "i=0\n",
        "for i in range(1,10):\n",
        "  for j in range(i+1):\n",
        "    print(' ', end = \"\")\n",
        "  for j in range(10-i):\n",
        "    print(i, end = \" \")\n",
        "    i+=1\n",
        "  print('\\r')"
      ],
      "metadata": {
        "colab": {
          "base_uri": "https://localhost:8080/"
        },
        "id": "0eIV-8WwoYXZ",
        "outputId": "3a180f15-be43-470e-951b-bab728c0a9e5"
      },
      "execution_count": null,
      "outputs": [
        {
          "output_type": "stream",
          "name": "stdout",
          "text": [
            "  1 2 3 4 5 6 7 8 9 \r\n",
            "   2 3 4 5 6 7 8 9 \r\n",
            "    3 4 5 6 7 8 9 \r\n",
            "     4 5 6 7 8 9 \r\n",
            "      5 6 7 8 9 \r\n",
            "       6 7 8 9 \r\n",
            "        7 8 9 \r\n",
            "         8 9 \r\n",
            "          9 \r\n"
          ]
        }
      ]
    },
    {
      "cell_type": "code",
      "source": [
        "n=1\n",
        "for i in range(10):\n",
        "  n=1\n",
        "  for j in range(0,10-i):\n",
        "    print(' ', end='')\n",
        "  for j in range(0,i+1):\n",
        "    print(n, end = \" \")\n",
        "\n",
        "    n+=1\n",
        "\n",
        "  print()"
      ],
      "metadata": {
        "colab": {
          "base_uri": "https://localhost:8080/"
        },
        "id": "4z__OtB9xVkq",
        "outputId": "527ad61a-042b-4d43-c724-a92d5603318b"
      },
      "execution_count": null,
      "outputs": [
        {
          "output_type": "stream",
          "name": "stdout",
          "text": [
            "          1 \n",
            "         1 2 \n",
            "        1 2 3 \n",
            "       1 2 3 4 \n",
            "      1 2 3 4 5 \n",
            "     1 2 3 4 5 6 \n",
            "    1 2 3 4 5 6 7 \n",
            "   1 2 3 4 5 6 7 8 \n",
            "  1 2 3 4 5 6 7 8 9 \n",
            " 1 2 3 4 5 6 7 8 9 10 \n"
          ]
        }
      ]
    },
    {
      "cell_type": "code",
      "source": [
        "#downward alphabet pyramid\n",
        "for i in range(10):\n",
        "  for j in range(i+1):\n",
        "    print(' ', end='')\n",
        "  for k in range(10-i):\n",
        "    print(chr(65 + k), end=' ')\n",
        "  print()"
      ],
      "metadata": {
        "colab": {
          "base_uri": "https://localhost:8080/"
        },
        "id": "1mwLloG9pZWE",
        "outputId": "9eadcc26-9dd7-4592-9153-3275b16d1593"
      },
      "execution_count": null,
      "outputs": [
        {
          "output_type": "stream",
          "name": "stdout",
          "text": [
            " A B C D E F G H I J \n",
            "  A B C D E F G H I \n",
            "   A B C D E F G H \n",
            "    A B C D E F G \n",
            "     A B C D E F \n",
            "      A B C D E \n",
            "       A B C D \n",
            "        A B C \n",
            "         A B \n",
            "          A \n"
          ]
        }
      ]
    },
    {
      "cell_type": "code",
      "source": [
        "#upward alphabet pyramid\n",
        "for i in range(10):\n",
        "  for j in range(10 - i):\n",
        "    print(' ', end='')\n",
        "  for k in range(i + 1):\n",
        "    print(chr(65 + k), end=' ')\n",
        "  print()"
      ],
      "metadata": {
        "colab": {
          "base_uri": "https://localhost:8080/"
        },
        "id": "qnocjAuFo3XA",
        "outputId": "9f712827-c178-4a54-ba45-6a9e7c950f4b"
      },
      "execution_count": null,
      "outputs": [
        {
          "output_type": "stream",
          "name": "stdout",
          "text": [
            "          A \n",
            "         A B \n",
            "        A B C \n",
            "       A B C D \n",
            "      A B C D E \n",
            "     A B C D E F \n",
            "    A B C D E F G \n",
            "   A B C D E F G H \n",
            "  A B C D E F G H I \n",
            " A B C D E F G H I J \n"
          ]
        }
      ]
    },
    {
      "cell_type": "code",
      "source": [
        "for i in range(10):\n",
        "  for j in range(i+1):\n",
        "    print('-', end='')\n",
        "  for j in range(10-i):\n",
        "    print('*', end=' ')\n",
        "  print('\\r')\n"
      ],
      "metadata": {
        "colab": {
          "base_uri": "https://localhost:8080/"
        },
        "id": "6t_Jw3y_2Z80",
        "outputId": "926eafcd-7fa1-4462-928e-24cc45f539c6"
      },
      "execution_count": null,
      "outputs": [
        {
          "output_type": "stream",
          "name": "stdout",
          "text": [
            "-* * * * * * * * * * \r\n",
            "--* * * * * * * * * \r\n",
            "---* * * * * * * * \r\n",
            "----* * * * * * * \r\n",
            "-----* * * * * * \r\n",
            "------* * * * * \r\n",
            "-------* * * * \r\n",
            "--------* * * \r\n",
            "---------* * \r\n",
            "----------* \r\n"
          ]
        }
      ]
    },
    {
      "cell_type": "code",
      "source": [
        "#Fibonacci series\n",
        "\n",
        "num1 = int(input('Enter a number: '))\n",
        "num2 = int(input('Enter another number: '))\n",
        "\n",
        "print(num1,',', num2, end=', ')\n",
        "\n",
        "for i in range(10):\n",
        "  fibo = num1 + num2\n",
        "  print(fibo, end=', ')\n",
        "\n",
        "  num1 = num2\n",
        "  num2 = fibo\n"
      ],
      "metadata": {
        "colab": {
          "base_uri": "https://localhost:8080/"
        },
        "id": "AcdrjBsE5wXM",
        "outputId": "832201df-6ec3-40a1-c482-f2f48374276d"
      },
      "execution_count": null,
      "outputs": [
        {
          "output_type": "stream",
          "name": "stdout",
          "text": [
            "Enter a number: 0\n",
            "Enter another number: 1\n",
            "0 , 1, 1, 2, 3, 5, 8, 13, 21, 34, 55, 89, "
          ]
        }
      ]
    },
    {
      "cell_type": "code",
      "source": [
        "#Fibonacci series\n",
        "\n",
        "num1 = int(input('Enter a number: '))\n",
        "num2 = int(input('Enter another number: '))\n",
        "\n",
        "for i in range(5):\n",
        "  for j in range(0,5-i):\n",
        "    print(' ', end=' ')\n",
        "  for j in range(0,i+1):\n",
        "    fibo = num1 + num2\n",
        "    print(fibo, end=' ')\n",
        "\n",
        "  num1 = num2\n",
        "  num2 = fibo\n",
        "\n",
        "  print()"
      ],
      "metadata": {
        "colab": {
          "base_uri": "https://localhost:8080/"
        },
        "id": "iOBYT59S8oj6",
        "outputId": "61573a18-7988-4b1c-85d2-484146f6f7eb"
      },
      "execution_count": null,
      "outputs": [
        {
          "output_type": "stream",
          "name": "stdout",
          "text": [
            "Enter a number: 0\n",
            "Enter another number: 1\n",
            "          1 \n",
            "        2 2 \n",
            "      3 3 3 \n",
            "    5 5 5 5 \n",
            "  8 8 8 8 8 \n"
          ]
        }
      ]
    },
    {
      "cell_type": "code",
      "source": [
        "\n",
        "stu_records = {'Jake':67, 'Lisa':87, 'Gina':98, 'Bob':34}\n",
        "\n",
        "for keys, values in stu_records.items():\n",
        "  if values < 35:\n",
        "    print(keys, values,':','Fail')\n",
        "  elif values >= 35 and values < 40:\n",
        "    print(keys, values,':','Third Class')\n",
        "  elif values >= 40 and values < 60:\n",
        "    print(keys, values,':','Second Class')\n",
        "  elif values >= 60 and values < 85:\n",
        "    print(keys, values,':','First Class')\n",
        "  else:\n",
        "    print(keys, values, ':', 'Distinction')\n"
      ],
      "metadata": {
        "colab": {
          "base_uri": "https://localhost:8080/"
        },
        "id": "7gYqQq5NBVie",
        "outputId": "40d7ca04-f9cb-48c6-901d-bde91d4f2f52"
      },
      "execution_count": null,
      "outputs": [
        {
          "output_type": "stream",
          "name": "stdout",
          "text": [
            "Jake 67 : First Class\n",
            "Lisa 87 : Distinction\n",
            "Gina 98 : Distinction\n",
            "Bob 34 : Fail\n"
          ]
        }
      ]
    },
    {
      "cell_type": "code",
      "source": [
        "#Python in-built functions\n",
        "for i in range(0, 100):\n",
        "\n",
        "  print('Decimal: ', i)\n",
        "\n",
        "  print('Binary: ', bin(i))\n",
        "\n",
        "  print('Octa Decimal: ', oct(i))\n",
        "\n",
        "  print('Hexa Decimal: ', hex(i))"
      ],
      "metadata": {
        "colab": {
          "base_uri": "https://localhost:8080/"
        },
        "id": "zaLGqnpVJvox",
        "outputId": "a82320c1-2791-4e7d-ef3f-0f2f339be0b9"
      },
      "execution_count": null,
      "outputs": [
        {
          "output_type": "stream",
          "name": "stdout",
          "text": [
            "Decimal:  0\n",
            "Binary:  0b0\n",
            "Octa Decimal:  0o0\n",
            "Hexa Decimal:  0x0\n",
            "Decimal:  1\n",
            "Binary:  0b1\n",
            "Octa Decimal:  0o1\n",
            "Hexa Decimal:  0x1\n",
            "Decimal:  2\n",
            "Binary:  0b10\n",
            "Octa Decimal:  0o2\n",
            "Hexa Decimal:  0x2\n",
            "Decimal:  3\n",
            "Binary:  0b11\n",
            "Octa Decimal:  0o3\n",
            "Hexa Decimal:  0x3\n",
            "Decimal:  4\n",
            "Binary:  0b100\n",
            "Octa Decimal:  0o4\n",
            "Hexa Decimal:  0x4\n",
            "Decimal:  5\n",
            "Binary:  0b101\n",
            "Octa Decimal:  0o5\n",
            "Hexa Decimal:  0x5\n",
            "Decimal:  6\n",
            "Binary:  0b110\n",
            "Octa Decimal:  0o6\n",
            "Hexa Decimal:  0x6\n",
            "Decimal:  7\n",
            "Binary:  0b111\n",
            "Octa Decimal:  0o7\n",
            "Hexa Decimal:  0x7\n",
            "Decimal:  8\n",
            "Binary:  0b1000\n",
            "Octa Decimal:  0o10\n",
            "Hexa Decimal:  0x8\n",
            "Decimal:  9\n",
            "Binary:  0b1001\n",
            "Octa Decimal:  0o11\n",
            "Hexa Decimal:  0x9\n",
            "Decimal:  10\n",
            "Binary:  0b1010\n",
            "Octa Decimal:  0o12\n",
            "Hexa Decimal:  0xa\n",
            "Decimal:  11\n",
            "Binary:  0b1011\n",
            "Octa Decimal:  0o13\n",
            "Hexa Decimal:  0xb\n",
            "Decimal:  12\n",
            "Binary:  0b1100\n",
            "Octa Decimal:  0o14\n",
            "Hexa Decimal:  0xc\n",
            "Decimal:  13\n",
            "Binary:  0b1101\n",
            "Octa Decimal:  0o15\n",
            "Hexa Decimal:  0xd\n",
            "Decimal:  14\n",
            "Binary:  0b1110\n",
            "Octa Decimal:  0o16\n",
            "Hexa Decimal:  0xe\n",
            "Decimal:  15\n",
            "Binary:  0b1111\n",
            "Octa Decimal:  0o17\n",
            "Hexa Decimal:  0xf\n",
            "Decimal:  16\n",
            "Binary:  0b10000\n",
            "Octa Decimal:  0o20\n",
            "Hexa Decimal:  0x10\n",
            "Decimal:  17\n",
            "Binary:  0b10001\n",
            "Octa Decimal:  0o21\n",
            "Hexa Decimal:  0x11\n",
            "Decimal:  18\n",
            "Binary:  0b10010\n",
            "Octa Decimal:  0o22\n",
            "Hexa Decimal:  0x12\n",
            "Decimal:  19\n",
            "Binary:  0b10011\n",
            "Octa Decimal:  0o23\n",
            "Hexa Decimal:  0x13\n",
            "Decimal:  20\n",
            "Binary:  0b10100\n",
            "Octa Decimal:  0o24\n",
            "Hexa Decimal:  0x14\n",
            "Decimal:  21\n",
            "Binary:  0b10101\n",
            "Octa Decimal:  0o25\n",
            "Hexa Decimal:  0x15\n",
            "Decimal:  22\n",
            "Binary:  0b10110\n",
            "Octa Decimal:  0o26\n",
            "Hexa Decimal:  0x16\n",
            "Decimal:  23\n",
            "Binary:  0b10111\n",
            "Octa Decimal:  0o27\n",
            "Hexa Decimal:  0x17\n",
            "Decimal:  24\n",
            "Binary:  0b11000\n",
            "Octa Decimal:  0o30\n",
            "Hexa Decimal:  0x18\n",
            "Decimal:  25\n",
            "Binary:  0b11001\n",
            "Octa Decimal:  0o31\n",
            "Hexa Decimal:  0x19\n",
            "Decimal:  26\n",
            "Binary:  0b11010\n",
            "Octa Decimal:  0o32\n",
            "Hexa Decimal:  0x1a\n",
            "Decimal:  27\n",
            "Binary:  0b11011\n",
            "Octa Decimal:  0o33\n",
            "Hexa Decimal:  0x1b\n",
            "Decimal:  28\n",
            "Binary:  0b11100\n",
            "Octa Decimal:  0o34\n",
            "Hexa Decimal:  0x1c\n",
            "Decimal:  29\n",
            "Binary:  0b11101\n",
            "Octa Decimal:  0o35\n",
            "Hexa Decimal:  0x1d\n",
            "Decimal:  30\n",
            "Binary:  0b11110\n",
            "Octa Decimal:  0o36\n",
            "Hexa Decimal:  0x1e\n",
            "Decimal:  31\n",
            "Binary:  0b11111\n",
            "Octa Decimal:  0o37\n",
            "Hexa Decimal:  0x1f\n",
            "Decimal:  32\n",
            "Binary:  0b100000\n",
            "Octa Decimal:  0o40\n",
            "Hexa Decimal:  0x20\n",
            "Decimal:  33\n",
            "Binary:  0b100001\n",
            "Octa Decimal:  0o41\n",
            "Hexa Decimal:  0x21\n",
            "Decimal:  34\n",
            "Binary:  0b100010\n",
            "Octa Decimal:  0o42\n",
            "Hexa Decimal:  0x22\n",
            "Decimal:  35\n",
            "Binary:  0b100011\n",
            "Octa Decimal:  0o43\n",
            "Hexa Decimal:  0x23\n",
            "Decimal:  36\n",
            "Binary:  0b100100\n",
            "Octa Decimal:  0o44\n",
            "Hexa Decimal:  0x24\n",
            "Decimal:  37\n",
            "Binary:  0b100101\n",
            "Octa Decimal:  0o45\n",
            "Hexa Decimal:  0x25\n",
            "Decimal:  38\n",
            "Binary:  0b100110\n",
            "Octa Decimal:  0o46\n",
            "Hexa Decimal:  0x26\n",
            "Decimal:  39\n",
            "Binary:  0b100111\n",
            "Octa Decimal:  0o47\n",
            "Hexa Decimal:  0x27\n",
            "Decimal:  40\n",
            "Binary:  0b101000\n",
            "Octa Decimal:  0o50\n",
            "Hexa Decimal:  0x28\n",
            "Decimal:  41\n",
            "Binary:  0b101001\n",
            "Octa Decimal:  0o51\n",
            "Hexa Decimal:  0x29\n",
            "Decimal:  42\n",
            "Binary:  0b101010\n",
            "Octa Decimal:  0o52\n",
            "Hexa Decimal:  0x2a\n",
            "Decimal:  43\n",
            "Binary:  0b101011\n",
            "Octa Decimal:  0o53\n",
            "Hexa Decimal:  0x2b\n",
            "Decimal:  44\n",
            "Binary:  0b101100\n",
            "Octa Decimal:  0o54\n",
            "Hexa Decimal:  0x2c\n",
            "Decimal:  45\n",
            "Binary:  0b101101\n",
            "Octa Decimal:  0o55\n",
            "Hexa Decimal:  0x2d\n",
            "Decimal:  46\n",
            "Binary:  0b101110\n",
            "Octa Decimal:  0o56\n",
            "Hexa Decimal:  0x2e\n",
            "Decimal:  47\n",
            "Binary:  0b101111\n",
            "Octa Decimal:  0o57\n",
            "Hexa Decimal:  0x2f\n",
            "Decimal:  48\n",
            "Binary:  0b110000\n",
            "Octa Decimal:  0o60\n",
            "Hexa Decimal:  0x30\n",
            "Decimal:  49\n",
            "Binary:  0b110001\n",
            "Octa Decimal:  0o61\n",
            "Hexa Decimal:  0x31\n",
            "Decimal:  50\n",
            "Binary:  0b110010\n",
            "Octa Decimal:  0o62\n",
            "Hexa Decimal:  0x32\n",
            "Decimal:  51\n",
            "Binary:  0b110011\n",
            "Octa Decimal:  0o63\n",
            "Hexa Decimal:  0x33\n",
            "Decimal:  52\n",
            "Binary:  0b110100\n",
            "Octa Decimal:  0o64\n",
            "Hexa Decimal:  0x34\n",
            "Decimal:  53\n",
            "Binary:  0b110101\n",
            "Octa Decimal:  0o65\n",
            "Hexa Decimal:  0x35\n",
            "Decimal:  54\n",
            "Binary:  0b110110\n",
            "Octa Decimal:  0o66\n",
            "Hexa Decimal:  0x36\n",
            "Decimal:  55\n",
            "Binary:  0b110111\n",
            "Octa Decimal:  0o67\n",
            "Hexa Decimal:  0x37\n",
            "Decimal:  56\n",
            "Binary:  0b111000\n",
            "Octa Decimal:  0o70\n",
            "Hexa Decimal:  0x38\n",
            "Decimal:  57\n",
            "Binary:  0b111001\n",
            "Octa Decimal:  0o71\n",
            "Hexa Decimal:  0x39\n",
            "Decimal:  58\n",
            "Binary:  0b111010\n",
            "Octa Decimal:  0o72\n",
            "Hexa Decimal:  0x3a\n",
            "Decimal:  59\n",
            "Binary:  0b111011\n",
            "Octa Decimal:  0o73\n",
            "Hexa Decimal:  0x3b\n",
            "Decimal:  60\n",
            "Binary:  0b111100\n",
            "Octa Decimal:  0o74\n",
            "Hexa Decimal:  0x3c\n",
            "Decimal:  61\n",
            "Binary:  0b111101\n",
            "Octa Decimal:  0o75\n",
            "Hexa Decimal:  0x3d\n",
            "Decimal:  62\n",
            "Binary:  0b111110\n",
            "Octa Decimal:  0o76\n",
            "Hexa Decimal:  0x3e\n",
            "Decimal:  63\n",
            "Binary:  0b111111\n",
            "Octa Decimal:  0o77\n",
            "Hexa Decimal:  0x3f\n",
            "Decimal:  64\n",
            "Binary:  0b1000000\n",
            "Octa Decimal:  0o100\n",
            "Hexa Decimal:  0x40\n",
            "Decimal:  65\n",
            "Binary:  0b1000001\n",
            "Octa Decimal:  0o101\n",
            "Hexa Decimal:  0x41\n",
            "Decimal:  66\n",
            "Binary:  0b1000010\n",
            "Octa Decimal:  0o102\n",
            "Hexa Decimal:  0x42\n",
            "Decimal:  67\n",
            "Binary:  0b1000011\n",
            "Octa Decimal:  0o103\n",
            "Hexa Decimal:  0x43\n",
            "Decimal:  68\n",
            "Binary:  0b1000100\n",
            "Octa Decimal:  0o104\n",
            "Hexa Decimal:  0x44\n",
            "Decimal:  69\n",
            "Binary:  0b1000101\n",
            "Octa Decimal:  0o105\n",
            "Hexa Decimal:  0x45\n",
            "Decimal:  70\n",
            "Binary:  0b1000110\n",
            "Octa Decimal:  0o106\n",
            "Hexa Decimal:  0x46\n",
            "Decimal:  71\n",
            "Binary:  0b1000111\n",
            "Octa Decimal:  0o107\n",
            "Hexa Decimal:  0x47\n",
            "Decimal:  72\n",
            "Binary:  0b1001000\n",
            "Octa Decimal:  0o110\n",
            "Hexa Decimal:  0x48\n",
            "Decimal:  73\n",
            "Binary:  0b1001001\n",
            "Octa Decimal:  0o111\n",
            "Hexa Decimal:  0x49\n",
            "Decimal:  74\n",
            "Binary:  0b1001010\n",
            "Octa Decimal:  0o112\n",
            "Hexa Decimal:  0x4a\n",
            "Decimal:  75\n",
            "Binary:  0b1001011\n",
            "Octa Decimal:  0o113\n",
            "Hexa Decimal:  0x4b\n",
            "Decimal:  76\n",
            "Binary:  0b1001100\n",
            "Octa Decimal:  0o114\n",
            "Hexa Decimal:  0x4c\n",
            "Decimal:  77\n",
            "Binary:  0b1001101\n",
            "Octa Decimal:  0o115\n",
            "Hexa Decimal:  0x4d\n",
            "Decimal:  78\n",
            "Binary:  0b1001110\n",
            "Octa Decimal:  0o116\n",
            "Hexa Decimal:  0x4e\n",
            "Decimal:  79\n",
            "Binary:  0b1001111\n",
            "Octa Decimal:  0o117\n",
            "Hexa Decimal:  0x4f\n",
            "Decimal:  80\n",
            "Binary:  0b1010000\n",
            "Octa Decimal:  0o120\n",
            "Hexa Decimal:  0x50\n",
            "Decimal:  81\n",
            "Binary:  0b1010001\n",
            "Octa Decimal:  0o121\n",
            "Hexa Decimal:  0x51\n",
            "Decimal:  82\n",
            "Binary:  0b1010010\n",
            "Octa Decimal:  0o122\n",
            "Hexa Decimal:  0x52\n",
            "Decimal:  83\n",
            "Binary:  0b1010011\n",
            "Octa Decimal:  0o123\n",
            "Hexa Decimal:  0x53\n",
            "Decimal:  84\n",
            "Binary:  0b1010100\n",
            "Octa Decimal:  0o124\n",
            "Hexa Decimal:  0x54\n",
            "Decimal:  85\n",
            "Binary:  0b1010101\n",
            "Octa Decimal:  0o125\n",
            "Hexa Decimal:  0x55\n",
            "Decimal:  86\n",
            "Binary:  0b1010110\n",
            "Octa Decimal:  0o126\n",
            "Hexa Decimal:  0x56\n",
            "Decimal:  87\n",
            "Binary:  0b1010111\n",
            "Octa Decimal:  0o127\n",
            "Hexa Decimal:  0x57\n",
            "Decimal:  88\n",
            "Binary:  0b1011000\n",
            "Octa Decimal:  0o130\n",
            "Hexa Decimal:  0x58\n",
            "Decimal:  89\n",
            "Binary:  0b1011001\n",
            "Octa Decimal:  0o131\n",
            "Hexa Decimal:  0x59\n",
            "Decimal:  90\n",
            "Binary:  0b1011010\n",
            "Octa Decimal:  0o132\n",
            "Hexa Decimal:  0x5a\n",
            "Decimal:  91\n",
            "Binary:  0b1011011\n",
            "Octa Decimal:  0o133\n",
            "Hexa Decimal:  0x5b\n",
            "Decimal:  92\n",
            "Binary:  0b1011100\n",
            "Octa Decimal:  0o134\n",
            "Hexa Decimal:  0x5c\n",
            "Decimal:  93\n",
            "Binary:  0b1011101\n",
            "Octa Decimal:  0o135\n",
            "Hexa Decimal:  0x5d\n",
            "Decimal:  94\n",
            "Binary:  0b1011110\n",
            "Octa Decimal:  0o136\n",
            "Hexa Decimal:  0x5e\n",
            "Decimal:  95\n",
            "Binary:  0b1011111\n",
            "Octa Decimal:  0o137\n",
            "Hexa Decimal:  0x5f\n",
            "Decimal:  96\n",
            "Binary:  0b1100000\n",
            "Octa Decimal:  0o140\n",
            "Hexa Decimal:  0x60\n",
            "Decimal:  97\n",
            "Binary:  0b1100001\n",
            "Octa Decimal:  0o141\n",
            "Hexa Decimal:  0x61\n",
            "Decimal:  98\n",
            "Binary:  0b1100010\n",
            "Octa Decimal:  0o142\n",
            "Hexa Decimal:  0x62\n",
            "Decimal:  99\n",
            "Binary:  0b1100011\n",
            "Octa Decimal:  0o143\n",
            "Hexa Decimal:  0x63\n"
          ]
        }
      ]
    }
  ]
}