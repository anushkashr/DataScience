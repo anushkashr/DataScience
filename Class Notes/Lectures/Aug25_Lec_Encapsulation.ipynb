{
  "nbformat": 4,
  "nbformat_minor": 0,
  "metadata": {
    "colab": {
      "provenance": []
    },
    "kernelspec": {
      "name": "python3",
      "display_name": "Python 3"
    },
    "language_info": {
      "name": "python"
    }
  },
  "cells": [
    {
      "cell_type": "code",
      "execution_count": 4,
      "metadata": {
        "id": "x8GJMLTbNW_O"
      },
      "outputs": [],
      "source": [
        "#Encapsulation\n",
        "\n",
        "class transport:\n",
        "\n",
        "  def __init__(self, brand, model, year):\n",
        "    self.brandofvehicle = brand\n",
        "    self.modelofvehicle = model\n",
        "    self.yearofmfg = year\n",
        "\n",
        "  def print_details(self):\n",
        "    print(self.brandofvehicle, self.modelofvehicle, self.yearofmfg)"
      ]
    },
    {
      "cell_type": "code",
      "source": [
        "obj1 = transport('Toyota', 'Etios', 2014)\n",
        "obj1.print_details()"
      ],
      "metadata": {
        "colab": {
          "base_uri": "https://localhost:8080/"
        },
        "id": "lj0fsjaXOBKs",
        "outputId": "fe84947e-18c8-451c-deff-9e61b8602288"
      },
      "execution_count": 6,
      "outputs": [
        {
          "output_type": "stream",
          "name": "stdout",
          "text": [
            "Toyota Etios 2014\n"
          ]
        }
      ]
    },
    {
      "cell_type": "code",
      "source": [
        "'''add child class with extra 2-3 variables\n",
        "show variables from both parent and child class'''\n",
        "\n",
        "class Bank:\n",
        "\n",
        "  def __init__(self, name, location):\n",
        "    self.name = name\n",
        "    self.location = location\n",
        "\n",
        "  def print_details(self):\n",
        "    print('Bank information')\n",
        "\n",
        "class ATM(Bank):\n",
        "  def __init__(self, name, location, id):\n",
        "    super().__init__(name, location)\n",
        "    self.id = id\n",
        "\n",
        "  def print_details(self):\n",
        "    print('ATM information')\n",
        "\n"
      ],
      "metadata": {
        "id": "_qEKcYvmOXeX"
      },
      "execution_count": 11,
      "outputs": []
    },
    {
      "cell_type": "code",
      "source": [
        "bank1 = Bank('BOA', 'Maryland')\n",
        "atm1 = ATM('Chase', 'New York', 456)\n",
        "\n",
        "bank1.print_details()\n",
        "atm1.print_details()\n"
      ],
      "metadata": {
        "colab": {
          "base_uri": "https://localhost:8080/"
        },
        "id": "Lb210PMjQG4C",
        "outputId": "94be8295-66ff-4d12-c4bf-85aea6d5b5f0"
      },
      "execution_count": 16,
      "outputs": [
        {
          "output_type": "stream",
          "name": "stdout",
          "text": [
            "Bank information\n",
            "ATM information\n"
          ]
        }
      ]
    },
    {
      "cell_type": "code",
      "source": [
        "print(bank1.name, bank1.location)\n",
        "bank1.print_details()\n",
        "print()\n",
        "print(atm1.name, atm1.location, atm1.id)\n",
        "atm1.print_details()\n"
      ],
      "metadata": {
        "colab": {
          "base_uri": "https://localhost:8080/"
        },
        "id": "NUKp0a78RACT",
        "outputId": "819248ae-b1df-4bb7-91c6-8f198fa9cd3b"
      },
      "execution_count": 22,
      "outputs": [
        {
          "output_type": "stream",
          "name": "stdout",
          "text": [
            "BOA Maryland\n",
            "Bank information\n",
            "\n",
            "Chase New York 456\n",
            "ATM information\n"
          ]
        }
      ]
    },
    {
      "cell_type": "code",
      "source": [
        "#Exception Handling\n",
        "\n",
        "f = open('myTextFile.txt', 'x')"
      ],
      "metadata": {
        "colab": {
          "base_uri": "https://localhost:8080/",
          "height": 210
        },
        "id": "04GQ5eVzTLVo",
        "outputId": "2dbd7163-649d-4f2b-f8c2-4d67c14766f7"
      },
      "execution_count": 26,
      "outputs": [
        {
          "output_type": "error",
          "ename": "FileExistsError",
          "evalue": "ignored",
          "traceback": [
            "\u001b[0;31m---------------------------------------------------------------------------\u001b[0m",
            "\u001b[0;31mFileExistsError\u001b[0m                           Traceback (most recent call last)",
            "\u001b[0;32m<ipython-input-26-d84f35756440>\u001b[0m in \u001b[0;36m<cell line: 3>\u001b[0;34m()\u001b[0m\n\u001b[1;32m      1\u001b[0m \u001b[0;31m#Exception Handling\u001b[0m\u001b[0;34m\u001b[0m\u001b[0;34m\u001b[0m\u001b[0m\n\u001b[1;32m      2\u001b[0m \u001b[0;34m\u001b[0m\u001b[0m\n\u001b[0;32m----> 3\u001b[0;31m \u001b[0mf\u001b[0m \u001b[0;34m=\u001b[0m \u001b[0mopen\u001b[0m\u001b[0;34m(\u001b[0m\u001b[0;34m'myTextFile.txt'\u001b[0m\u001b[0;34m,\u001b[0m \u001b[0;34m'x'\u001b[0m\u001b[0;34m)\u001b[0m\u001b[0;34m\u001b[0m\u001b[0;34m\u001b[0m\u001b[0m\n\u001b[0m",
            "\u001b[0;31mFileExistsError\u001b[0m: [Errno 17] File exists: 'myTextFile.txt'"
          ]
        }
      ]
    },
    {
      "cell_type": "markdown",
      "source": [
        "# Universal Exception"
      ],
      "metadata": {
        "id": "xL1dy67vUeib"
      }
    },
    {
      "cell_type": "code",
      "source": [
        "#Universal Exception - it will never come to FileNotFound Error, it will simply get handled by the Universal Exception\n",
        "\n",
        "try:\n",
        "  f = open('myTextFile.txt1', 'r')\n",
        "except Exception as e:\n",
        "  print('Exception', e)"
      ],
      "metadata": {
        "colab": {
          "base_uri": "https://localhost:8080/"
        },
        "id": "Gp--GbxZT21E",
        "outputId": "6f08fcee-7276-4879-91be-ce8342bccbc8"
      },
      "execution_count": 27,
      "outputs": [
        {
          "output_type": "stream",
          "name": "stdout",
          "text": [
            "Exception [Errno 2] No such file or directory: 'myTextFile.txt1'\n"
          ]
        }
      ]
    },
    {
      "cell_type": "code",
      "source": [
        "#solution\n",
        "#whenever you are trying to access your actual file, always write Universal exception in end of code\n",
        "#suppose in case of an arithmentic mistake\n",
        "\n",
        "#if file name is correct, it will go to the arithmetic equation and give you 'division by zero'\n",
        "\n",
        "try:\n",
        "  f = open('myTextFile.txt', 'r')\n",
        "  a = 10/0\n",
        "except Exception as e:\n",
        "  print('Exception', e)\n"
      ],
      "metadata": {
        "colab": {
          "base_uri": "https://localhost:8080/"
        },
        "id": "wyqjRDc_Uk1N",
        "outputId": "6e8d6c34-ae4d-496a-97dd-bb7a813373ae"
      },
      "execution_count": 28,
      "outputs": [
        {
          "output_type": "stream",
          "name": "stdout",
          "text": [
            "Exception division by zero\n"
          ]
        }
      ]
    },
    {
      "cell_type": "code",
      "source": [
        "#If Universal exception is kept on top of other exceptions like ZeroByDIvision -> it handles all errors as it has higher precedence over other exceptions\n",
        "#family"
      ],
      "metadata": {
        "id": "EAIQXQ07WqVS"
      },
      "execution_count": null,
      "outputs": []
    },
    {
      "cell_type": "code",
      "source": [
        "try:\n",
        "  f = open('myTextFile.txt', 'r')\n",
        "  a = 10/0\n",
        "except Exception as e:\n",
        "  print('Exception', e)"
      ],
      "metadata": {
        "id": "6K0ZZm_TW9RV"
      },
      "execution_count": null,
      "outputs": []
    },
    {
      "cell_type": "code",
      "source": [
        "#Arithmetic exception handles/overrides ZeroByDivision Exception if arithmetic exc is above ZeroByDivision because ZeroByDivision is a family\n",
        "#But if universal exception is kept above all like ZeroByDIvision exceptions-> it handles all errors as it has higher precedence over other exceptions"
      ],
      "metadata": {
        "id": "65_kJJfgXB2Z"
      },
      "execution_count": null,
      "outputs": []
    },
    {
      "cell_type": "code",
      "source": [
        "'''WAP in which you have 8-10 different exceptions\n",
        "handled by except block, then getting result'''\n",
        "#assoc with 10-in built exceptions\n",
        "\n",
        "#keep except exception (The universal) in the bottom\n",
        "\n",
        "\n",
        "try:\n",
        "  f = open('myTextFile.txt', 'r')\n",
        "  a = 10/0\n",
        "except Exception as e:\n",
        "  print('Exception ', e)\n",
        "except FileNotFoundError as fnfe:\n",
        "  print('FileNotFoundError ', fnfe)\n",
        "except ZeroDivisionError as zde:\n",
        "  print('ZeroDivisionError ', zde)\n",
        "except ArithmeticError as ae:\n",
        "  print('ArithmeticError ', ae)\n"
      ],
      "metadata": {
        "colab": {
          "base_uri": "https://localhost:8080/"
        },
        "id": "pwfBH3YGXnOx",
        "outputId": "fe3d561a-b6a1-4b00-9be8-108df32c255a"
      },
      "execution_count": 29,
      "outputs": [
        {
          "output_type": "stream",
          "name": "stdout",
          "text": [
            "Exception  division by zero\n"
          ]
        }
      ]
    },
    {
      "cell_type": "code",
      "source": [
        "#WAP in which you have 8-10 different exceptions handled by except block, then getting result\n",
        "#mistakes should be associated with 10-in built exceptions\n",
        "#keep except exception (The universal) in the bottom try:\n",
        "\n",
        "try:\n",
        "    f = open('myTextFile.txt', 'r')\n",
        "    #a = 10 / 0  # Division by zero\n",
        "    #num = int(\"abc\")  # Converting a string to an integer\n",
        "    '''my_list = [1, 2, 3]\n",
        "    print(my_list[10])  # Index out of range'''\n",
        "    #b = 'abcde'\n",
        "except IndentationError as ie:\n",
        "    print('IndentationError1:', ie)\n",
        "except FileNotFoundError as fnfe:\n",
        "    print('FileNotFoundError:', fnfe)\n",
        "\n",
        "except ZeroDivisionError as zde:\n",
        "    print('ZeroDivisionError:', zde)\n",
        "except ValueError as ve:\n",
        "    print('ValueError:', ve)\n",
        "except IndexError as ie:\n",
        "    print('IndexError:', ie)\n",
        "except Exception as e:\n",
        "    print('Universal Exception:', e)\n"
      ],
      "metadata": {
        "id": "XmBBATDVZOhU"
      },
      "execution_count": 45,
      "outputs": []
    },
    {
      "cell_type": "code",
      "source": [],
      "metadata": {
        "id": "Sf6-RS-XeeCk"
      },
      "execution_count": null,
      "outputs": []
    },
    {
      "cell_type": "code",
      "source": [
        "class AgeOfVoting(Exception):\n",
        "  \"Raise when the input is less than 18\"\n",
        "  pass\n",
        "\n",
        "try:\n",
        "  input_num = int(input('Enter Age '))\n",
        "  if input_num < 18:\n",
        "    raise AgeOfVoting\n",
        "  else:\n",
        "    print('Eligible for voting ')\n",
        "\n",
        "except AgeOfVoting as aov:\n",
        "  print('Exception as Invalid Age')"
      ],
      "metadata": {
        "colab": {
          "base_uri": "https://localhost:8080/"
        },
        "id": "ubY_0yJmg4Ba",
        "outputId": "2c50c1f6-a2c3-4920-8740-6d979bd4e585"
      },
      "execution_count": 51,
      "outputs": [
        {
          "output_type": "stream",
          "name": "stdout",
          "text": [
            "Enter Age 11\n",
            "exception as Invalid Age\n"
          ]
        }
      ]
    },
    {
      "cell_type": "code",
      "source": [
        "class AgeOfVoting(Exception):\n",
        "  \"Raise when the input is less than 18\"\n",
        "  pass\n",
        "\n",
        "try:\n",
        "  input_num = int(input('Enter Age: '))\n",
        "  if input_num < 18:\n",
        "    raise AgeOfVoting\n",
        "  else:\n",
        "    print('Eligible for voting ')\n",
        "\n",
        "except AgeOfVoting as aov:\n",
        "  print('Exception as Invalid Age')"
      ],
      "metadata": {
        "colab": {
          "base_uri": "https://localhost:8080/"
        },
        "id": "qDc1LeZMkN1w",
        "outputId": "547e7250-d7f9-4497-83b1-1af673f53078"
      },
      "execution_count": 59,
      "outputs": [
        {
          "output_type": "stream",
          "name": "stdout",
          "text": [
            "Enter Age: 12\n",
            "Exception as Invalid Age\n"
          ]
        }
      ]
    },
    {
      "cell_type": "code",
      "source": [
        "#User-defined Customized Exception\n",
        "\n",
        "class BankDeposit(Exception):\n",
        "  \"Raise when the input is less than $100\"\n",
        "  pass\n",
        "\n",
        "try:\n",
        "  input_num = int(input('Enter the amount you would like to deposit: '))\n",
        "  if input_num < 100:\n",
        "    raise BankDeposit\n",
        "  else:\n",
        "    print('Successfully deposited', '$', input_num)\n",
        "\n",
        "except BankDeposit as bd:\n",
        "  print('Exception: Insufficient deposit amount')"
      ],
      "metadata": {
        "colab": {
          "base_uri": "https://localhost:8080/"
        },
        "id": "ktSl-KMn3dcG",
        "outputId": "3c966277-3ab6-44e5-8296-eed1d6bcfa6f"
      },
      "execution_count": 62,
      "outputs": [
        {
          "output_type": "stream",
          "name": "stdout",
          "text": [
            "Enter the amount you would like to deposit: 300\n",
            "Successfully deposited $ 300\n"
          ]
        }
      ]
    },
    {
      "cell_type": "code",
      "source": [
        "#User-defined Customized Exception\n",
        "\n",
        "class UserPassword(Exception):\n",
        "  \"Raise when the input is less than 8 characters\"\n",
        "  pass\n",
        "min_length = 8\n",
        "try:\n",
        "  input_userPassword = str(input('Create a password: '))\n",
        "  if len(input_userPassword) < min_length:\n",
        "    raise UserPassword\n",
        "  else:\n",
        "    print('Successfully created password')\n",
        "\n",
        "except UserPassword as up:\n",
        "  print('Exception: Insufficient characters for password')"
      ],
      "metadata": {
        "colab": {
          "base_uri": "https://localhost:8080/"
        },
        "id": "lZqz9AN84cny",
        "outputId": "8fa5648a-3e08-4af4-c591-1c4df9f5bc1a"
      },
      "execution_count": 65,
      "outputs": [
        {
          "output_type": "stream",
          "name": "stdout",
          "text": [
            "Create a password: shrestha\n",
            "Successfully created password\n"
          ]
        }
      ]
    }
  ]
}