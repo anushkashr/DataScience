{
  "nbformat": 4,
  "nbformat_minor": 0,
  "metadata": {
    "colab": {
      "provenance": []
    },
    "kernelspec": {
      "name": "python3",
      "display_name": "Python 3"
    },
    "language_info": {
      "name": "python"
    }
  },
  "cells": [
    {
      "cell_type": "code",
      "execution_count": null,
      "metadata": {
        "colab": {
          "base_uri": "https://localhost:8080/"
        },
        "id": "5k_MeWK7fsp8",
        "outputId": "b05bd9b1-2a30-4721-9472-04224bfb3b46"
      },
      "outputs": [
        {
          "output_type": "stream",
          "name": "stdout",
          "text": [
            "100 is less than 200\n",
            "110 is less than 200\n",
            "120 is less than 200\n",
            "130 is less than 200\n",
            "140 is less than 200\n",
            "150 is less than 200\n",
            "160 is less than 200\n",
            "170 is less than 200\n",
            "180 is less than 200\n",
            "190 is less than 200\n"
          ]
        }
      ],
      "source": [
        "#while loop\n",
        "\n",
        "a = 100\n",
        "\n",
        "while a < 200:\n",
        "  print(a,\"is less than 200\")\n",
        "  a +=10"
      ]
    },
    {
      "cell_type": "code",
      "source": [
        "b = 400\n",
        "\n",
        "while b > 200:\n",
        "  print(b,\"is greater than 200\")\n",
        "  b -=20"
      ],
      "metadata": {
        "colab": {
          "base_uri": "https://localhost:8080/"
        },
        "id": "QO3t-D3bmYrV",
        "outputId": "ebe7dda9-e11a-499a-f903-063cf898c107"
      },
      "execution_count": null,
      "outputs": [
        {
          "output_type": "stream",
          "name": "stdout",
          "text": [
            "400 is greater than 200\n",
            "380 is greater than 200\n",
            "360 is greater than 200\n",
            "340 is greater than 200\n",
            "320 is greater than 200\n",
            "300 is greater than 200\n",
            "280 is greater than 200\n",
            "260 is greater than 200\n",
            "240 is greater than 200\n",
            "220 is greater than 200\n"
          ]
        }
      ]
    },
    {
      "cell_type": "code",
      "source": [
        "#Write a program starting from 0 to 100 and find out the odd and even number using while loop\n",
        "\n",
        "num = 0\n",
        "while (num <= 100):\n",
        "  if(num % 2 == 0 ):\n",
        "    print(num, 'is an even number')\n",
        "  else:\n",
        "    print(num, 'is an odd number')\n",
        "  num += 1"
      ],
      "metadata": {
        "colab": {
          "base_uri": "https://localhost:8080/"
        },
        "id": "G3QPzTvksH3z",
        "outputId": "590d2ccf-3e49-4ab2-b243-085eae45f33d"
      },
      "execution_count": null,
      "outputs": [
        {
          "output_type": "stream",
          "name": "stdout",
          "text": [
            "0 is an even number\n",
            "1 is an odd number\n",
            "2 is an even number\n",
            "3 is an odd number\n",
            "4 is an even number\n",
            "5 is an odd number\n",
            "6 is an even number\n",
            "7 is an odd number\n",
            "8 is an even number\n",
            "9 is an odd number\n",
            "10 is an even number\n",
            "11 is an odd number\n",
            "12 is an even number\n",
            "13 is an odd number\n",
            "14 is an even number\n",
            "15 is an odd number\n",
            "16 is an even number\n",
            "17 is an odd number\n",
            "18 is an even number\n",
            "19 is an odd number\n",
            "20 is an even number\n",
            "21 is an odd number\n",
            "22 is an even number\n",
            "23 is an odd number\n",
            "24 is an even number\n",
            "25 is an odd number\n",
            "26 is an even number\n",
            "27 is an odd number\n",
            "28 is an even number\n",
            "29 is an odd number\n",
            "30 is an even number\n",
            "31 is an odd number\n",
            "32 is an even number\n",
            "33 is an odd number\n",
            "34 is an even number\n",
            "35 is an odd number\n",
            "36 is an even number\n",
            "37 is an odd number\n",
            "38 is an even number\n",
            "39 is an odd number\n",
            "40 is an even number\n",
            "41 is an odd number\n",
            "42 is an even number\n",
            "43 is an odd number\n",
            "44 is an even number\n",
            "45 is an odd number\n",
            "46 is an even number\n",
            "47 is an odd number\n",
            "48 is an even number\n",
            "49 is an odd number\n",
            "50 is an even number\n",
            "51 is an odd number\n",
            "52 is an even number\n",
            "53 is an odd number\n",
            "54 is an even number\n",
            "55 is an odd number\n",
            "56 is an even number\n",
            "57 is an odd number\n",
            "58 is an even number\n",
            "59 is an odd number\n",
            "60 is an even number\n",
            "61 is an odd number\n",
            "62 is an even number\n",
            "63 is an odd number\n",
            "64 is an even number\n",
            "65 is an odd number\n",
            "66 is an even number\n",
            "67 is an odd number\n",
            "68 is an even number\n",
            "69 is an odd number\n",
            "70 is an even number\n",
            "71 is an odd number\n",
            "72 is an even number\n",
            "73 is an odd number\n",
            "74 is an even number\n",
            "75 is an odd number\n",
            "76 is an even number\n",
            "77 is an odd number\n",
            "78 is an even number\n",
            "79 is an odd number\n",
            "80 is an even number\n",
            "81 is an odd number\n",
            "82 is an even number\n",
            "83 is an odd number\n",
            "84 is an even number\n",
            "85 is an odd number\n",
            "86 is an even number\n",
            "87 is an odd number\n",
            "88 is an even number\n",
            "89 is an odd number\n",
            "90 is an even number\n",
            "91 is an odd number\n",
            "92 is an even number\n",
            "93 is an odd number\n",
            "94 is an even number\n",
            "95 is an odd number\n",
            "96 is an even number\n",
            "97 is an odd number\n",
            "98 is an even number\n",
            "99 is an odd number\n",
            "100 is an even number\n"
          ]
        }
      ]
    },
    {
      "cell_type": "code",
      "source": [
        "#Write a program, user input age; voting age is greater than 18; give count of how many people are 18\n",
        "\n",
        "count = 0\n",
        "age = int(input(\"Enter your age: \"))\n",
        "\n",
        "while age >= 18:\n",
        "  count += 1\n",
        "  age = int(input(\"Enter your age: \"))\n",
        "print(\"Total voters: \", count)\n"
      ],
      "metadata": {
        "colab": {
          "base_uri": "https://localhost:8080/"
        },
        "id": "XTh9TfOyws1S",
        "outputId": "2cefd222-6503-40f0-f0fd-ce1399b341a0"
      },
      "execution_count": null,
      "outputs": [
        {
          "output_type": "stream",
          "name": "stdout",
          "text": [
            "Enter your age: 21\n",
            "Enter your age: 19\n",
            "Enter your age: 18\n",
            "Enter your age: 17\n",
            "Total voters:  3\n"
          ]
        }
      ]
    },
    {
      "cell_type": "code",
      "source": [
        "from pickle import EMPTY_LIST\n",
        "lst1 = [1, 2, 3, 4, 5, 6, 7, 8, 9, 10, 11, 22,33,44,55,66,77,88,99,110,34,67,89]\n",
        "\n",
        "while lst1 != EMPTY_LIST:\n",
        "  print(lst1.pop())"
      ],
      "metadata": {
        "colab": {
          "base_uri": "https://localhost:8080/",
          "height": 609
        },
        "id": "22xZwF_q18wZ",
        "outputId": "14820907-f0f3-444d-caa9-6a8ff3618c81"
      },
      "execution_count": null,
      "outputs": [
        {
          "output_type": "stream",
          "name": "stdout",
          "text": [
            "89\n",
            "67\n",
            "34\n",
            "110\n",
            "99\n",
            "88\n",
            "77\n",
            "66\n",
            "55\n",
            "44\n",
            "33\n",
            "22\n",
            "11\n",
            "10\n",
            "9\n",
            "8\n",
            "7\n",
            "6\n",
            "5\n",
            "4\n",
            "3\n",
            "2\n",
            "1\n"
          ]
        },
        {
          "output_type": "error",
          "ename": "IndexError",
          "evalue": "ignored",
          "traceback": [
            "\u001b[0;31m---------------------------------------------------------------------------\u001b[0m",
            "\u001b[0;31mIndexError\u001b[0m                                Traceback (most recent call last)",
            "\u001b[0;32m<ipython-input-21-e45a2b5e5c2f>\u001b[0m in \u001b[0;36m<cell line: 4>\u001b[0;34m()\u001b[0m\n\u001b[1;32m      3\u001b[0m \u001b[0;34m\u001b[0m\u001b[0m\n\u001b[1;32m      4\u001b[0m \u001b[0;32mwhile\u001b[0m \u001b[0mlst1\u001b[0m \u001b[0;34m!=\u001b[0m \u001b[0mEMPTY_LIST\u001b[0m\u001b[0;34m:\u001b[0m\u001b[0;34m\u001b[0m\u001b[0;34m\u001b[0m\u001b[0m\n\u001b[0;32m----> 5\u001b[0;31m   \u001b[0mprint\u001b[0m\u001b[0;34m(\u001b[0m\u001b[0mlst1\u001b[0m\u001b[0;34m.\u001b[0m\u001b[0mpop\u001b[0m\u001b[0;34m(\u001b[0m\u001b[0;34m)\u001b[0m\u001b[0;34m)\u001b[0m\u001b[0;34m\u001b[0m\u001b[0;34m\u001b[0m\u001b[0m\n\u001b[0m",
            "\u001b[0;31mIndexError\u001b[0m: pop from empty list"
          ]
        }
      ]
    },
    {
      "cell_type": "code",
      "source": [
        "#Write a program where number is divisible by 5 and 7\n",
        "\n",
        "num = int(input(\"Enter a number: \"))\n",
        "\n",
        "while (num%5 == 0) and (num%7 == 0):\n",
        "  print(num, \"is divisible by 5 and 7.\")\n",
        "  break\n",
        "else:\n",
        "  print(num, \"is not divisible by 5 and 7.\")"
      ],
      "metadata": {
        "colab": {
          "base_uri": "https://localhost:8080/"
        },
        "id": "JIhYCm8Y5tlT",
        "outputId": "93e553c2-8db8-41df-ab1d-454c83896a0a"
      },
      "execution_count": null,
      "outputs": [
        {
          "output_type": "stream",
          "name": "stdout",
          "text": [
            "Enter a number: 35\n",
            "35 is divisible by 5 and 7.\n"
          ]
        }
      ]
    }
  ]
}