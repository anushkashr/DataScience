{
  "nbformat": 4,
  "nbformat_minor": 0,
  "metadata": {
    "colab": {
      "provenance": []
    },
    "kernelspec": {
      "name": "python3",
      "display_name": "Python 3"
    },
    "language_info": {
      "name": "python"
    }
  },
  "cells": [
    {
      "cell_type": "markdown",
      "source": [
        "Negative Splicing"
      ],
      "metadata": {
        "id": "gHe09q8N6O1z"
      }
    },
    {
      "cell_type": "code",
      "execution_count": 33,
      "metadata": {
        "colab": {
          "base_uri": "https://localhost:8080/"
        },
        "id": "KowoHKC16MZb",
        "outputId": "11c9bf25-f5f6-4ebd-af09-7cdcacdda247"
      },
      "outputs": [
        {
          "output_type": "stream",
          "name": "stdout",
          "text": [
            "Peppa\n",
            "prefer\n",
            "Python\n",
            "Programming\n",
            "Programming\n"
          ]
        }
      ],
      "source": [
        "str1 = 'Peppa prefer Python Programming'\n",
        "\n",
        "print(str1[:5])\n",
        "print(str1[6:12])\n",
        "print(str1[13:19])\n",
        "print(str1[20::])\n",
        "\n",
        "\n",
        "print(str1[-11::])\n",
        "\n",
        "\n"
      ]
    },
    {
      "cell_type": "markdown",
      "source": [
        "![image.png](data:image/png;base64,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)"
      ],
      "metadata": {
        "id": "5s4TfXR-A-JJ"
      }
    },
    {
      "cell_type": "code",
      "source": [
        "str1 = 'Venkata Narasimha Rajuvaripeta'\n",
        "\n",
        "print(str1[::-1])\n",
        "print(str1[-1:-13:-1])\n",
        "\n",
        "print(str1[-14:-23:-1])\n",
        "print(str1[-24:-31:-1])\n",
        "\n"
      ],
      "metadata": {
        "colab": {
          "base_uri": "https://localhost:8080/"
        },
        "id": "pX-xHNZmBic8",
        "outputId": "ec216da5-b213-41d1-9fa7-8cc217787c15"
      },
      "execution_count": 51,
      "outputs": [
        {
          "output_type": "stream",
          "name": "stdout",
          "text": [
            "atepiravujaR ahmisaraN atakneV\n",
            "atepiravujaR\n",
            "ahmisaraN\n",
            "atakneV\n"
          ]
        }
      ]
    },
    {
      "cell_type": "markdown",
      "source": [
        "Positive Indexing, Negative Slicing"
      ],
      "metadata": {
        "id": "sq4XRE8ZEWJU"
      }
    },
    {
      "cell_type": "code",
      "source": [
        "str1 = 'PeppapreferPythonProgramming'\n",
        "\n",
        "print(str1[5::-1], str1[10:4:-1], str1[16:10:-1], str1[27:16:-1])\n"
      ],
      "metadata": {
        "colab": {
          "base_uri": "https://localhost:8080/"
        },
        "id": "jMqMMPnQEaW4",
        "outputId": "02444583-725e-46cd-b601-9a50ca0f08d0"
      },
      "execution_count": 73,
      "outputs": [
        {
          "output_type": "stream",
          "name": "stdout",
          "text": [
            "pappeP referp nohtyP gnimmargorP\n"
          ]
        }
      ]
    },
    {
      "cell_type": "markdown",
      "source": [
        "Negative Indexing, Positive Splicing"
      ],
      "metadata": {
        "id": "JjtG2DI2LGld"
      }
    },
    {
      "cell_type": "code",
      "source": [
        "str1 = 'PeppapreferPythonProgramming'\n",
        "\n",
        "print(str1[-11::], str1[-17:-11], str1[-23:-17], str1[-28:-23])"
      ],
      "metadata": {
        "colab": {
          "base_uri": "https://localhost:8080/"
        },
        "id": "Pl8wkV5kLJoX",
        "outputId": "1e65816b-59b7-4c4e-a90d-a4c7f64dd870"
      },
      "execution_count": 86,
      "outputs": [
        {
          "output_type": "stream",
          "name": "stdout",
          "text": [
            "Programming Python prefer Peppa\n"
          ]
        }
      ]
    },
    {
      "cell_type": "code",
      "source": [
        "#slicing in a list\n",
        "lst1 = ['hp', 'dell', 'apple', 'microsoft', 'lenovo', 'acer', 'samsung', 'acer', 'razor', 'msi']\n",
        "\n",
        "print(lst1[::])\n",
        "\n",
        "print(lst1[:len(lst1):])\n",
        "\n",
        "#positive indexing\n",
        "print(lst1[3:9])\n",
        "\n",
        "#Negative indexing\n",
        "print(lst1[-1:-11:-1])\n",
        "\n",
        "#Positive Indexing, Negative Slicing\n",
        "print(lst1[10:4:-1])\n",
        "\n",
        "#Negative Indexing, Positive Splicing\n",
        "print(lst1[-10:-8:])\n"
      ],
      "metadata": {
        "colab": {
          "base_uri": "https://localhost:8080/"
        },
        "id": "Xt6GcPIEOQPb",
        "outputId": "c66a0a29-9a10-4829-d7e5-b07cd4f00c06"
      },
      "execution_count": 108,
      "outputs": [
        {
          "output_type": "stream",
          "name": "stdout",
          "text": [
            "['hp', 'dell', 'apple', 'microsoft', 'lenovo', 'acer', 'samsung', 'acer', 'razor', 'msi']\n",
            "['hp', 'dell', 'apple', 'microsoft', 'lenovo', 'acer', 'samsung', 'acer', 'razor', 'msi']\n",
            "['microsoft', 'lenovo', 'acer', 'samsung', 'acer', 'razor']\n",
            "['msi', 'razor', 'acer', 'samsung', 'acer', 'lenovo', 'microsoft', 'apple', 'dell', 'hp']\n",
            "['msi', 'razor', 'acer', 'samsung', 'acer']\n",
            "['hp', 'dell']\n"
          ]
        }
      ]
    },
    {
      "cell_type": "markdown",
      "source": [
        "Tuple example with slicing"
      ],
      "metadata": {
        "id": "-TIVOXWESnYT"
      }
    },
    {
      "cell_type": "code",
      "source": [
        "#Tuple example with slicing\n",
        "tup1 = ('hp', 'dell', 'apple', 'microsoft', 'lenovo', 'acer', 'samsung', 'acer', 'razor', 'msi')\n",
        "\n",
        "print(tup1[::])\n",
        "print(tup1[:len(lst1):])\n",
        "print(tup1[3:9])       #positive indexing\n",
        "print(tup1[-1:-11:-1]) #Negative indexing\n",
        "print(tup1[10:4:-1])   #Positive Indexing, Negative Slicing\n",
        "print(tup1[-10:-8:])   #Negative Indexing, Positive Splicing\n"
      ],
      "metadata": {
        "colab": {
          "base_uri": "https://localhost:8080/"
        },
        "id": "Af2t_14jSsVw",
        "outputId": "127d11c4-4e15-46c7-ef8e-d70224abb0fd"
      },
      "execution_count": 107,
      "outputs": [
        {
          "output_type": "stream",
          "name": "stdout",
          "text": [
            "('hp', 'dell', 'apple', 'microsoft', 'lenovo', 'acer', 'samsung', 'acer', 'razor', 'msi')\n",
            "('hp', 'dell', 'apple', 'microsoft', 'lenovo', 'acer', 'samsung', 'acer', 'razor', 'msi')\n",
            "('microsoft', 'lenovo', 'acer', 'samsung', 'acer', 'razor')\n",
            "('msi', 'razor', 'acer', 'samsung', 'acer', 'lenovo', 'microsoft', 'apple', 'dell', 'hp')\n",
            "('msi', 'razor', 'acer', 'samsung', 'acer')\n",
            "('hp', 'dell')\n"
          ]
        }
      ]
    }
  ]
}